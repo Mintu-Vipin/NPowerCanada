{
  "nbformat": 4,
  "nbformat_minor": 0,
  "metadata": {
    "colab": {
      "provenance": [],
      "authorship_tag": "ABX9TyP5W0XWxg4unRtZIyShNDUO",
      "include_colab_link": true
    },
    "kernelspec": {
      "name": "python3",
      "display_name": "Python 3"
    },
    "language_info": {
      "name": "python"
    }
  },
  "cells": [
    {
      "cell_type": "markdown",
      "metadata": {
        "id": "view-in-github",
        "colab_type": "text"
      },
      "source": [
        "<a href=\"https://colab.research.google.com/github/Mintu-Vipin/NPowerCanada/blob/main/C4W2_PythonDataStructures.ipynb\" target=\"_parent\"><img src=\"https://colab.research.google.com/assets/colab-badge.svg\" alt=\"Open In Colab\"/></a>"
      ]
    },
    {
      "cell_type": "markdown",
      "source": [
        "#Articulate\n",
        "\n",
        "#Dictionary, List, Tuples and Sets"
      ],
      "metadata": {
        "id": "EDQpZzbHm0UG"
      }
    },
    {
      "cell_type": "code",
      "source": [],
      "metadata": {
        "id": "j2yJyV0KCrqv"
      },
      "execution_count": null,
      "outputs": []
    },
    {
      "cell_type": "markdown",
      "metadata": {
        "id": "ozXqlIqYLb3r"
      },
      "source": [
        "# Python Lists Exercises"
      ]
    },
    {
      "cell_type": "code",
      "execution_count": null,
      "metadata": {
        "colab": {
          "base_uri": "https://localhost:8080/"
        },
        "id": "3HQ3ffZBLb3u",
        "outputId": "055a382d-4706-4278-f86c-fe647e2c0885"
      },
      "outputs": [
        {
          "output_type": "stream",
          "name": "stdout",
          "text": [
            "<class 'tuple'>\n"
          ]
        },
        {
          "output_type": "execute_result",
          "data": {
            "text/plain": [
              "('Amir', 'Elvis', 'Jasdeep', 'Mintu', 'Revanth', 'Oluwayomi')"
            ]
          },
          "metadata": {},
          "execution_count": 27
        }
      ],
      "source": [
        "#Q1 Create a tuple with all participant names in the JDA program\n",
        "\n",
        "participant_names = (\"Amir\", \"Elvis\", \"Jasdeep\", \"Mintu\", \"Revanth\", \"Oluwayomi\")\n",
        "print(type(participant_names))\n",
        "participant_names\n"
      ]
    },
    {
      "cell_type": "code",
      "execution_count": null,
      "metadata": {
        "colab": {
          "base_uri": "https://localhost:8080/"
        },
        "id": "0oo9q-9CLb3v",
        "outputId": "5d811df7-0f1c-4b6a-d2c0-0bb94c313f62"
      },
      "outputs": [
        {
          "output_type": "stream",
          "name": "stdout",
          "text": [
            "<class 'list'>\n"
          ]
        },
        {
          "output_type": "execute_result",
          "data": {
            "text/plain": [
              "['Amir', 'Elvis', 'Jasdeep', 'Mintu', 'Revanth', 'Oluwayomi']"
            ]
          },
          "metadata": {},
          "execution_count": 28
        }
      ],
      "source": [
        "#Q2 Convert the tuple into a list called pps_L\n",
        "\n",
        "pps_L = list(participant_names)\n",
        "print(type(pps_L))\n",
        "pps_L"
      ]
    },
    {
      "cell_type": "code",
      "execution_count": null,
      "metadata": {
        "colab": {
          "base_uri": "https://localhost:8080/"
        },
        "id": "tLvwYcpKLb3w",
        "outputId": "92607a8a-96ec-4643-e659-e61de531f055"
      },
      "outputs": [
        {
          "output_type": "execute_result",
          "data": {
            "text/plain": [
              "6"
            ]
          },
          "metadata": {},
          "execution_count": 23
        }
      ],
      "source": [
        "#Q3 What is the length of your list\n",
        "\n",
        "len(pps_L)"
      ]
    },
    {
      "cell_type": "code",
      "execution_count": null,
      "metadata": {
        "colab": {
          "base_uri": "https://localhost:8080/"
        },
        "id": "F0L53we1Lb3w",
        "outputId": "9fc3ce8c-28e4-4c79-e3d5-de93c8597cdd"
      },
      "outputs": [
        {
          "output_type": "stream",
          "name": "stdout",
          "text": [
            "Mintu\n",
            "Oluwayomi\n",
            "Index not found\n",
            "Index not found\n",
            "Index not found\n"
          ]
        }
      ],
      "source": [
        "from typing_extensions import ParamSpecArgs\n",
        "#Q4 Find the values stored in indexes [3],[5],[14],[30],[38]\n",
        "\n",
        "indexes = [3,5,14,30,38]\n",
        "\n",
        "for i in indexes:\n",
        "  if i< len(pps_L):\n",
        "      print(pps_L[i])\n",
        "  else:\n",
        "    print(\"Index not found\")"
      ]
    },
    {
      "cell_type": "code",
      "execution_count": null,
      "metadata": {
        "colab": {
          "base_uri": "https://localhost:8080/"
        },
        "id": "FFBPZR6ELb3w",
        "outputId": "2254d4b1-1c50-4aa3-97f1-28682ad394ad"
      },
      "outputs": [
        {
          "output_type": "execute_result",
          "data": {
            "text/plain": [
              "False"
            ]
          },
          "metadata": {},
          "execution_count": 25
        }
      ],
      "source": [
        "#Q5 Check if \"Sarah\" is in the list\n",
        "\n",
        "\"Sarah\" in pps_L"
      ]
    },
    {
      "cell_type": "code",
      "execution_count": null,
      "metadata": {
        "colab": {
          "base_uri": "https://localhost:8080/"
        },
        "id": "IIKVosdPLb3x",
        "outputId": "a76ed2a1-0da7-41b7-9e37-6560ba515202"
      },
      "outputs": [
        {
          "output_type": "execute_result",
          "data": {
            "text/plain": [
              "['Amir', 'Elvis', 'Jasdeep', 'Mintu', 'Revanth', 'Oluwayomi', 'Sarah']"
            ]
          },
          "metadata": {},
          "execution_count": 31
        }
      ],
      "source": [
        "#Q6 Add \"Sarah\" to your list\n",
        "\n",
        "pps_L.append(\"Sarah\")\n",
        "pps_L"
      ]
    },
    {
      "cell_type": "code",
      "execution_count": null,
      "metadata": {
        "colab": {
          "base_uri": "https://localhost:8080/"
        },
        "id": "XNL7Uke_Lb3x",
        "outputId": "deffd2c5-9556-4a6f-859b-9e3d3c77cc42"
      },
      "outputs": [
        {
          "output_type": "execute_result",
          "data": {
            "text/plain": [
              "False"
            ]
          },
          "metadata": {},
          "execution_count": 32
        }
      ],
      "source": [
        "#Q7 Check if \"Bashir\" is in the list\n",
        "\n",
        "\"Bashir\" in pps_L"
      ]
    },
    {
      "cell_type": "code",
      "execution_count": null,
      "metadata": {
        "colab": {
          "base_uri": "https://localhost:8080/"
        },
        "id": "iLfTDm0zLb3x",
        "outputId": "c23371fd-3c9a-4217-dcf9-b61dd1ef0057"
      },
      "outputs": [
        {
          "output_type": "execute_result",
          "data": {
            "text/plain": [
              "['Amir',\n",
              " 'Elvis',\n",
              " 'Jasdeep',\n",
              " 'Mintu',\n",
              " 'Revanth',\n",
              " 'Oluwayomi',\n",
              " 'Sarah',\n",
              " 'Bashir']"
            ]
          },
          "metadata": {},
          "execution_count": 36
        }
      ],
      "source": [
        "#Q9 Add \"Bashir\" to your list\n",
        "\n",
        "pps_L.append(\"Bashir\")\n",
        "pps_L"
      ]
    },
    {
      "cell_type": "code",
      "execution_count": null,
      "metadata": {
        "colab": {
          "base_uri": "https://localhost:8080/"
        },
        "id": "DuKTvzi5Lb3y",
        "outputId": "701a6615-60e3-4141-c795-854127266fe1"
      },
      "outputs": [
        {
          "output_type": "execute_result",
          "data": {
            "text/plain": [
              "6"
            ]
          },
          "metadata": {},
          "execution_count": 37
        }
      ],
      "source": [
        "#Q10 Find the index of the element \"Sarah\" in the list\n",
        "\n",
        "pps_L.index(\"Sarah\")"
      ]
    },
    {
      "cell_type": "code",
      "execution_count": null,
      "metadata": {
        "colab": {
          "base_uri": "https://localhost:8080/"
        },
        "id": "FMupIOe_Lb3y",
        "outputId": "1a253035-54bd-41af-94b5-21010b0eb0e0"
      },
      "outputs": [
        {
          "output_type": "execute_result",
          "data": {
            "text/plain": [
              "['Amir',\n",
              " 'Elvis',\n",
              " 'Jasdeep',\n",
              " 'Mintu',\n",
              " 'Revanth',\n",
              " 'Oluwayomi',\n",
              " 'Instructor',\n",
              " 'Bashir']"
            ]
          },
          "metadata": {},
          "execution_count": 38
        }
      ],
      "source": [
        "#Q11 Change the value of the index in Q10 from \"Sarah\" to \"Instructor\"\n",
        "\n",
        "pps_L[6] = \"Instructor\"\n",
        "pps_L"
      ]
    },
    {
      "cell_type": "code",
      "execution_count": null,
      "metadata": {
        "colab": {
          "base_uri": "https://localhost:8080/"
        },
        "id": "FCVU2N2ALb3y",
        "outputId": "6f897e53-56b7-4c25-9c47-5a9720de658d"
      },
      "outputs": [
        {
          "output_type": "execute_result",
          "data": {
            "text/plain": [
              "7"
            ]
          },
          "metadata": {},
          "execution_count": 39
        }
      ],
      "source": [
        "#Q12 Find the index of the element \"Bashir\" in the list\n",
        "\n",
        "pps_L.index(\"Bashir\")"
      ]
    },
    {
      "cell_type": "code",
      "execution_count": null,
      "metadata": {
        "colab": {
          "base_uri": "https://localhost:8080/"
        },
        "id": "aap_zHqSLb3y",
        "outputId": "19c92b6d-aae4-4da3-a86c-853aa9d934d5"
      },
      "outputs": [
        {
          "output_type": "execute_result",
          "data": {
            "text/plain": [
              "['Amir',\n",
              " 'Elvis',\n",
              " 'Jasdeep',\n",
              " 'Mintu',\n",
              " 'Revanth',\n",
              " 'Oluwayomi',\n",
              " 'Instructor',\n",
              " 'Peer-Mentor']"
            ]
          },
          "metadata": {},
          "execution_count": 40
        }
      ],
      "source": [
        "#Q13 Change the value of the index in Q12 from \"Bashir\" to \"Peer-Mentor\"\n",
        "\n",
        "pps_L[7] = \"Peer-Mentor\"\n",
        "pps_L"
      ]
    },
    {
      "cell_type": "code",
      "source": [],
      "metadata": {
        "id": "r4YYgZozWZ2N"
      },
      "execution_count": null,
      "outputs": []
    },
    {
      "cell_type": "markdown",
      "metadata": {
        "id": "cfDXCDdYWsXn"
      },
      "source": [
        "# Python Tuples Exercises"
      ]
    },
    {
      "cell_type": "code",
      "execution_count": null,
      "metadata": {
        "colab": {
          "base_uri": "https://localhost:8080/"
        },
        "id": "x08KWMawWsXo",
        "outputId": "35186a1c-4bfb-45f2-bd21-de6fa499916c"
      },
      "outputs": [
        {
          "output_type": "execute_result",
          "data": {
            "text/plain": [
              "('NPower', 'JDA', 'Tuesday', 30, 3, 2021)"
            ]
          },
          "metadata": {},
          "execution_count": 44
        }
      ],
      "source": [
        "#Q1 Create myTuple tuple with the follwoing values\n",
        "#(\"NPower\",\"JDA\",\"Tuesday\",30,3,2021)\n",
        "\n",
        "myTuple = (\"NPower\",\"JDA\",\"Tuesday\",30,3,2021)\n",
        "myTuple"
      ]
    },
    {
      "cell_type": "code",
      "execution_count": null,
      "metadata": {
        "colab": {
          "base_uri": "https://localhost:8080/"
        },
        "id": "2PYctGhNWsXp",
        "outputId": "2e26519b-bb1a-4066-aca7-0eaef33e20db"
      },
      "outputs": [
        {
          "output_type": "stream",
          "name": "stdout",
          "text": [
            "<class 'tuple'>\n"
          ]
        }
      ],
      "source": [
        "#Q2 What is the type of myTuple\n",
        "print(type(myTuple))"
      ]
    },
    {
      "cell_type": "code",
      "execution_count": null,
      "metadata": {
        "colab": {
          "base_uri": "https://localhost:8080/"
        },
        "id": "xLvFhvw8WsXp",
        "outputId": "4f41aacf-c646-4e50-ccbd-cbd8348e9f6a"
      },
      "outputs": [
        {
          "output_type": "execute_result",
          "data": {
            "text/plain": [
              "6"
            ]
          },
          "metadata": {},
          "execution_count": 46
        }
      ],
      "source": [
        "#Q3 What is the length of myTuple\n",
        "len(myTuple)"
      ]
    },
    {
      "cell_type": "code",
      "execution_count": null,
      "metadata": {
        "colab": {
          "base_uri": "https://localhost:8080/"
        },
        "id": "Sd9Fa196WsXp",
        "outputId": "0c4bbfda-4748-4701-a5cd-5c6d36dec546"
      },
      "outputs": [
        {
          "output_type": "stream",
          "name": "stdout",
          "text": [
            "The value of index 0 is NPower\n",
            "The value of index 1 is JDA\n",
            "The value of index 2 is Tuesday\n",
            "The value of index 3 is 30\n",
            "The value of index 4 is 3\n",
            "The value of index 5 is 2021\n"
          ]
        }
      ],
      "source": [
        "#Q4 print the values in each index #Use regular indexing\n",
        "for i in range(len(myTuple)):\n",
        "  print(\"The value of index\", i, \"is\", myTuple[i])"
      ]
    },
    {
      "cell_type": "code",
      "execution_count": null,
      "metadata": {
        "colab": {
          "base_uri": "https://localhost:8080/"
        },
        "id": "CaYf2D8mWsXp",
        "outputId": "a66d60df-1a26-43e7-fca3-4ea0bcb2755f"
      },
      "outputs": [
        {
          "output_type": "stream",
          "name": "stdout",
          "text": [
            "The value of index -6 is NPower\n",
            "The value of index -5 is JDA\n",
            "The value of index -4 is Tuesday\n",
            "The value of index -3 is 30\n",
            "The value of index -2 is 3\n",
            "The value of index -1 is 2021\n"
          ]
        }
      ],
      "source": [
        "#Q5 print the values in each index #Use negative indexing\n",
        "\n",
        "for i in range(-len(myTuple),0):\n",
        "  print(\"The value of index\", i, \"is\", myTuple[i])"
      ]
    },
    {
      "cell_type": "code",
      "execution_count": null,
      "metadata": {
        "colab": {
          "base_uri": "https://localhost:8080/"
        },
        "id": "vgkPP4uhWsXp",
        "outputId": "337f1ee6-ae1c-40c8-9258-18eb12bec82f"
      },
      "outputs": [
        {
          "output_type": "stream",
          "name": "stdout",
          "text": [
            "The value of index 0 is \" NPower \" and its type is <class 'str'>\n",
            "The value of index 1 is \" JDA \" and its type is <class 'str'>\n",
            "The value of index 2 is \" Tuesday \" and its type is <class 'str'>\n",
            "The value of index 3 is \" 30 \" and its type is <class 'int'>\n",
            "The value of index 4 is \" 3 \" and its type is <class 'int'>\n",
            "The value of index 5 is \" 2021 \" and its type is <class 'int'>\n"
          ]
        }
      ],
      "source": [
        "#Q6 what is the type of each value\n",
        "\n",
        "for i in range(len(myTuple)):\n",
        "  print(\"The value of index\", i, \"is\", \"\\\"\", myTuple[i], \"\\\" and its type is\",type(myTuple[i]))\n"
      ]
    },
    {
      "cell_type": "code",
      "execution_count": null,
      "metadata": {
        "colab": {
          "base_uri": "https://localhost:8080/"
        },
        "id": "Q3VGrGr5WsXq",
        "outputId": "3f865351-54e2-47b5-ec5c-005ec1a7b1a2"
      },
      "outputs": [
        {
          "output_type": "stream",
          "name": "stdout",
          "text": [
            "Name: NPower\n",
            "Program: JDA\n",
            "Day: Tuesday\n",
            "Month: 30\n",
            "Day: 3\n",
            "Year: 2021\n"
          ]
        }
      ],
      "source": [
        "#Q7 unpack myTuple in the follwoeing variables\n",
        "#name,program,dayName,month,day,year accordingly\n",
        "# print the variables\n",
        "\n",
        "name,program,dayName,month,day,year = myTuple\n",
        "\n",
        "print(\"Name:\", name)\n",
        "print(\"Program:\", program)\n",
        "print(\"Day:\", dayName)\n",
        "print(\"Month:\", month)\n",
        "print(\"Day:\", day)\n",
        "print(\"Year:\", year)"
      ]
    },
    {
      "cell_type": "code",
      "execution_count": null,
      "metadata": {
        "colab": {
          "base_uri": "https://localhost:8080/",
          "height": 211
        },
        "id": "eJiy3KfaWsXq",
        "outputId": "294ec95f-e53e-4bbf-ba61-1bb5e9bc0d67"
      },
      "outputs": [
        {
          "output_type": "error",
          "ename": "NameError",
          "evalue": "name 'myTuple2' is not defined",
          "traceback": [
            "\u001b[0;31m---------------------------------------------------------------------------\u001b[0m",
            "\u001b[0;31mNameError\u001b[0m                                 Traceback (most recent call last)",
            "\u001b[0;32m<ipython-input-51-432646bd1a7a>\u001b[0m in \u001b[0;36m<cell line: 4>\u001b[0;34m()\u001b[0m\n\u001b[1;32m      2\u001b[0m \u001b[0;31m# What will happen to variables (name,program,dayName) and (month,day,year)\u001b[0m\u001b[0;34m\u001b[0m\u001b[0;34m\u001b[0m\u001b[0m\n\u001b[1;32m      3\u001b[0m \u001b[0;34m\u001b[0m\u001b[0m\n\u001b[0;32m----> 4\u001b[0;31m \u001b[0mname\u001b[0m\u001b[0;34m,\u001b[0m\u001b[0mprogram\u001b[0m\u001b[0;34m,\u001b[0m\u001b[0mdayName\u001b[0m \u001b[0;34m=\u001b[0m \u001b[0mmyTuple2\u001b[0m\u001b[0;34m\u001b[0m\u001b[0;34m\u001b[0m\u001b[0m\n\u001b[0m\u001b[1;32m      5\u001b[0m \u001b[0;34m\u001b[0m\u001b[0m\n\u001b[1;32m      6\u001b[0m \u001b[0;31m#Error because the variables month, day, and year will not be assigned any values, as they are not included in the unpacking.\u001b[0m\u001b[0;34m\u001b[0m\u001b[0;34m\u001b[0m\u001b[0m\n",
            "\u001b[0;31mNameError\u001b[0m: name 'myTuple2' is not defined"
          ]
        }
      ],
      "source": [
        "#Q8 unpack myTuple2 in the follwoeing variables name,program,dayName.\n",
        "# What will happen to variables (name,program,dayName) and (month,day,year)\n",
        "\n",
        "name,program,dayName = myTuple2\n",
        "\n",
        "#Error because the variables month, day, and year will not be assigned any values, as they are not included in the unpacking."
      ]
    },
    {
      "cell_type": "code",
      "execution_count": null,
      "metadata": {
        "colab": {
          "base_uri": "https://localhost:8080/"
        },
        "id": "u4m_hKBLWsXq",
        "outputId": "f4ab6cb6-60b2-4ee0-b04b-d0da5afbc79a"
      },
      "outputs": [
        {
          "output_type": "stream",
          "name": "stdout",
          "text": [
            "Type a <class 'str'>\n",
            "Jerry 2 89\n",
            "<class 'tuple'>\n",
            "('Ulan',)\n",
            "Leul\n"
          ]
        }
      ],
      "source": [
        "# Note the following\n",
        "Tuple1=(\"Jerry\",2,89) #This is a tuple with 3 elements\n",
        "Tuple2=(\"Ulan\",)#This is a tuple with 1 element\n",
        "test=\"Leul\" #This is a VARIABLE with string value\n",
        "\n",
        "a,b,c=Tuple1\n",
        "print(\"Type a\",type(a))\n",
        "print(a,b,c)\n",
        "\n",
        "d=Tuple2\n",
        "print(type(d))\n",
        "print(d)\n",
        "\n",
        "e=test\n",
        "print(e)"
      ]
    },
    {
      "cell_type": "code",
      "execution_count": null,
      "metadata": {
        "colab": {
          "base_uri": "https://localhost:8080/",
          "height": 228
        },
        "id": "5l5tnvRcWsXq",
        "outputId": "44b0045f-9a7f-4a17-fadc-a0202401b604"
      },
      "outputs": [
        {
          "output_type": "stream",
          "name": "stdout",
          "text": [
            "(1, 2, 3)\n",
            "(4, 5, 6)\n"
          ]
        },
        {
          "output_type": "error",
          "ename": "TypeError",
          "evalue": "'tuple' object does not support item assignment",
          "traceback": [
            "\u001b[0;31m---------------------------------------------------------------------------\u001b[0m",
            "\u001b[0;31mTypeError\u001b[0m                                 Traceback (most recent call last)",
            "\u001b[0;32m<ipython-input-53-aafdd4373c97>\u001b[0m in \u001b[0;36m<cell line: 13>\u001b[0;34m()\u001b[0m\n\u001b[1;32m     11\u001b[0m \u001b[0;31m#But we can't change or edit a value for the existing tuple\u001b[0m\u001b[0;34m\u001b[0m\u001b[0;34m\u001b[0m\u001b[0m\n\u001b[1;32m     12\u001b[0m \u001b[0;34m\u001b[0m\u001b[0m\n\u001b[0;32m---> 13\u001b[0;31m \u001b[0mtestTuple\u001b[0m\u001b[0;34m[\u001b[0m\u001b[0;36m0\u001b[0m\u001b[0;34m]\u001b[0m\u001b[0;34m=\u001b[0m\u001b[0;36m6\u001b[0m \u001b[0;31m#ERROR 'tuple' object does not support item assignment\u001b[0m\u001b[0;34m\u001b[0m\u001b[0;34m\u001b[0m\u001b[0m\n\u001b[0m\u001b[1;32m     14\u001b[0m \u001b[0;34m\u001b[0m\u001b[0m\n",
            "\u001b[0;31mTypeError\u001b[0m: 'tuple' object does not support item assignment"
          ]
        }
      ],
      "source": [
        "#Tuples are immutable\n",
        "#we can always make the testTuple variable reference a new tuple in the memory\n",
        "#and hold a different information\n",
        "\n",
        "testTuple=(1,2,3)\n",
        "print(testTuple)\n",
        "\n",
        "testTuple=(4,5,6)\n",
        "print(testTuple)\n",
        "\n",
        "#But we can't change or edit a value for the existing tuple\n",
        "\n",
        "testTuple[0]=6 #ERROR 'tuple' object does not support item assignment\n",
        "\n"
      ]
    },
    {
      "cell_type": "code",
      "execution_count": null,
      "metadata": {
        "colab": {
          "base_uri": "https://localhost:8080/"
        },
        "id": "WazbhMLQWsXq",
        "outputId": "ef9f842c-b5a7-4ac2-d05f-fa6a79ccf7af"
      },
      "outputs": [
        {
          "output_type": "stream",
          "name": "stdout",
          "text": [
            "('NPower', 'JDA', 'Tuesday', 30, 3, 2021)\n",
            "(2021, 3, 30, 'Tuesday', 'JDA', 'NPower')\n",
            "(2021, 3, 30, 'Tuesday', 'JDA', 'NPower')\n"
          ]
        }
      ],
      "source": [
        "#Q9 Reverse myTuple, output should looks like\n",
        "#(2021,3,30,\"Tuesday\",\"JDA\",\"NPower\")\n",
        "\n",
        "print(myTuple)\n",
        "rev1 = reversed(myTuple)\n",
        "print(tuple(rev1))\n",
        "\n",
        "rev2 = myTuple[::-1]\n",
        "print(rev2)"
      ]
    },
    {
      "cell_type": "code",
      "execution_count": null,
      "metadata": {
        "colab": {
          "base_uri": "https://localhost:8080/"
        },
        "id": "Wnq6u8lhWsXq",
        "outputId": "03787338-0e6e-4621-f118-57893d0801a8"
      },
      "outputs": [
        {
          "output_type": "execute_result",
          "data": {
            "text/plain": [
              "(('Coursera', 'course', 6), ('week', (2, 'Lists', 'Tuple')))"
            ]
          },
          "metadata": {},
          "execution_count": 55
        }
      ],
      "source": [
        "#Q10 Create nestedTuple=((\"Coursera\",\"course\",6),(\"week\",(2,\"Lists\",\"Tuple\")))\n",
        "\n",
        "nestedTuple=((\"Coursera\",\"course\",6),(\"week\",(2,\"Lists\",\"Tuple\")))\n",
        "nestedTuple"
      ]
    },
    {
      "cell_type": "code",
      "execution_count": null,
      "metadata": {
        "colab": {
          "base_uri": "https://localhost:8080/"
        },
        "id": "U0g4C78WWsXr",
        "outputId": "4a899684-72a8-449e-e5de-3b4ea65bd3cf"
      },
      "outputs": [
        {
          "output_type": "execute_result",
          "data": {
            "text/plain": [
              "(('week', (2, 'Lists', 'Tuple')),)"
            ]
          },
          "metadata": {},
          "execution_count": 56
        }
      ],
      "source": [
        "#Q11 What is the output of nestedTuple[1:2]\n",
        "\n",
        "nestedTuple[1:2]"
      ]
    },
    {
      "cell_type": "code",
      "execution_count": null,
      "metadata": {
        "colab": {
          "base_uri": "https://localhost:8080/"
        },
        "id": "VqT20t7KWsXr",
        "outputId": "b75d06e1-9999-4dad-8c3f-ce9f12d5675d"
      },
      "outputs": [
        {
          "output_type": "stream",
          "name": "stdout",
          "text": [
            "('Coursera', 'course', 6)\n",
            "('week', (2, 'Lists', 'Tuple'))\n"
          ]
        }
      ],
      "source": [
        "#Q12 print each element in the nestedTuple\n",
        "\n",
        "for i in nestedTuple:\n",
        "  print(i)"
      ]
    },
    {
      "cell_type": "code",
      "execution_count": null,
      "metadata": {
        "colab": {
          "base_uri": "https://localhost:8080/"
        },
        "id": "oKCq1ZJZWsXr",
        "outputId": "7eb79874-e26f-44ea-d0dc-f000a28031ac"
      },
      "outputs": [
        {
          "output_type": "execute_result",
          "data": {
            "text/plain": [
              "(2, 'Lists', 'Tuple')"
            ]
          },
          "metadata": {},
          "execution_count": 58
        }
      ],
      "source": [
        "#Q13 Access (2,\"Lists\",\"Tuple\") from nestedTuple\n",
        "# print(nestedTuple)\n",
        "\n",
        "nestedTuple[1][1]"
      ]
    },
    {
      "cell_type": "code",
      "execution_count": null,
      "metadata": {
        "colab": {
          "base_uri": "https://localhost:8080/",
          "height": 35
        },
        "id": "26OlPtDXWsXr",
        "outputId": "08c6ee43-52cd-491d-a4fc-9a486fb6bdb9"
      },
      "outputs": [
        {
          "output_type": "execute_result",
          "data": {
            "text/plain": [
              "'Lists'"
            ],
            "application/vnd.google.colaboratory.intrinsic+json": {
              "type": "string"
            }
          },
          "metadata": {},
          "execution_count": 59
        }
      ],
      "source": [
        "#Q14 Access the value \"Lists\" from nestedTuple\n",
        "nestedTuple[1][1][1]"
      ]
    },
    {
      "cell_type": "code",
      "execution_count": null,
      "metadata": {
        "colab": {
          "base_uri": "https://localhost:8080/",
          "height": 35
        },
        "id": "KtmQpDtVWsXr",
        "outputId": "2018863a-176e-4c4f-f147-6255717a68f8"
      },
      "outputs": [
        {
          "output_type": "execute_result",
          "data": {
            "text/plain": [
              "'Tuple'"
            ],
            "application/vnd.google.colaboratory.intrinsic+json": {
              "type": "string"
            }
          },
          "metadata": {},
          "execution_count": 60
        }
      ],
      "source": [
        "#Q15 Access the value \"Tuple\" from nestedTuple\n",
        "nestedTuple[1][1][2]"
      ]
    },
    {
      "cell_type": "code",
      "execution_count": null,
      "metadata": {
        "colab": {
          "base_uri": "https://localhost:8080/",
          "height": 35
        },
        "id": "unb-0VDZWsXr",
        "outputId": "473df51a-ba1b-494e-d248-1d57c8b6c9c2"
      },
      "outputs": [
        {
          "output_type": "execute_result",
          "data": {
            "text/plain": [
              "'course'"
            ],
            "application/vnd.google.colaboratory.intrinsic+json": {
              "type": "string"
            }
          },
          "metadata": {},
          "execution_count": 61
        }
      ],
      "source": [
        "#Q16 Access the value \"course\" from nestedTuple\n",
        "nestedTuple[0][1]"
      ]
    },
    {
      "cell_type": "code",
      "execution_count": null,
      "metadata": {
        "colab": {
          "base_uri": "https://localhost:8080/"
        },
        "id": "DtwkDBcvWsXr",
        "outputId": "41af3c56-27d3-43f1-d583-4e195f6f7c0f"
      },
      "outputs": [
        {
          "output_type": "execute_result",
          "data": {
            "text/plain": [
              "('NPower',\n",
              " 'JDA',\n",
              " 'Tuesday',\n",
              " 30,\n",
              " 3,\n",
              " 2021,\n",
              " ('Coursera', 'course', 6),\n",
              " ('week', (2, 'Lists', 'Tuple')))"
            ]
          },
          "metadata": {},
          "execution_count": 62
        }
      ],
      "source": [
        "#Q17 Concatenate myTuple with nestedTuple\n",
        "myTuple = myTuple+nestedTuple\n",
        "myTuple"
      ]
    },
    {
      "cell_type": "code",
      "execution_count": null,
      "metadata": {
        "colab": {
          "base_uri": "https://localhost:8080/"
        },
        "id": "-6qzh3kMWsXr",
        "outputId": "da7f99b6-ecb4-4550-9dc5-6ea24ded904a"
      },
      "outputs": [
        {
          "output_type": "execute_result",
          "data": {
            "text/plain": [
              "('NPower',\n",
              " 'JDA',\n",
              " 'Tuesday',\n",
              " 30,\n",
              " 3,\n",
              " 2021,\n",
              " ('Coursera', 'course', 6),\n",
              " ('week', (2, 'Lists', 'Tuple')),\n",
              " 'Mintu')"
            ]
          },
          "metadata": {},
          "execution_count": 63
        }
      ],
      "source": [
        "#Q18 add your name to the tuple\n",
        "myTuple = myTuple+(\"Mintu\",)\n",
        "myTuple"
      ]
    },
    {
      "cell_type": "code",
      "execution_count": null,
      "metadata": {
        "colab": {
          "base_uri": "https://localhost:8080/"
        },
        "id": "2Rg-PIb4WsXr",
        "outputId": "779cbd7b-d6a3-446b-dab7-bdcb23e7a17c"
      },
      "outputs": [
        {
          "output_type": "stream",
          "name": "stdout",
          "text": [
            "Coursera does not exist in myTuple\n"
          ]
        }
      ],
      "source": [
        "# This question, I have doubt\n",
        "\n",
        "#Q19 check whether Coursera exists within  myTuple\n",
        "\n",
        "# NOTE \"in\" doesn't work properly with nested tuples\n",
        "\n",
        "list_myTuple = list(myTuple)\n",
        "\n",
        "# Check if \"Coursera\" exists in the flattened tuple\n",
        "if \"Coursera\" in list_myTuple:\n",
        "    print(\"Coursera exists in myTuple\")\n",
        "else:\n",
        "    print(\"Coursera does not exist in myTuple\")"
      ]
    },
    {
      "cell_type": "code",
      "execution_count": null,
      "metadata": {
        "colab": {
          "base_uri": "https://localhost:8080/"
        },
        "id": "sJvMbMl5WsXs",
        "outputId": "6e42ffcc-a8dc-48c6-ced3-77d12d0a8513"
      },
      "outputs": [
        {
          "output_type": "stream",
          "name": "stdout",
          "text": [
            "55 exists in testTuple\n"
          ]
        }
      ],
      "source": [
        "#Q20 check whether 55 exists within testTuple\n",
        "testTuple=(1,2,33,55,6,55)\n",
        "\n",
        "list_testTuple = list(testTuple)\n",
        "\n",
        "# Check if \"Coursera\" exists in the flattened tuple\n",
        "if 55 in list_testTuple:\n",
        "    print(\"55 exists in testTuple\")\n",
        "else:\n",
        "    print(\"55 does not exist in testTuple\")"
      ]
    },
    {
      "cell_type": "code",
      "execution_count": null,
      "metadata": {
        "colab": {
          "base_uri": "https://localhost:8080/",
          "height": 193
        },
        "id": "6nq6y1axWsXs",
        "outputId": "480dd599-1321-4afd-e693-3a9a4827fc81"
      },
      "outputs": [
        {
          "output_type": "stream",
          "name": "stdout",
          "text": [
            "('NPower', 'JDA', 'Tuesday', 30, 3, 2021, ('Coursera', 'course', 6), ('week', (2, 'Lists', 'Tuple')), 'Mintu')\n"
          ]
        },
        {
          "output_type": "error",
          "ename": "ValueError",
          "evalue": "tuple.index(x): x not in tuple",
          "traceback": [
            "\u001b[0;31m---------------------------------------------------------------------------\u001b[0m",
            "\u001b[0;31mValueError\u001b[0m                                Traceback (most recent call last)",
            "\u001b[0;32m<ipython-input-73-af3fc98741ec>\u001b[0m in \u001b[0;36m<cell line: 10>\u001b[0;34m()\u001b[0m\n\u001b[1;32m      8\u001b[0m \u001b[0mprint\u001b[0m\u001b[0;34m(\u001b[0m\u001b[0mmyTuple\u001b[0m\u001b[0;34m)\u001b[0m\u001b[0;34m\u001b[0m\u001b[0;34m\u001b[0m\u001b[0m\n\u001b[1;32m      9\u001b[0m \u001b[0mmyTuple\u001b[0m\u001b[0;34m.\u001b[0m\u001b[0mindex\u001b[0m\u001b[0;34m(\u001b[0m\u001b[0;34m\"JDA\"\u001b[0m\u001b[0;34m)\u001b[0m\u001b[0;34m\u001b[0m\u001b[0;34m\u001b[0m\u001b[0m\n\u001b[0;32m---> 10\u001b[0;31m \u001b[0mmyTuple\u001b[0m\u001b[0;34m.\u001b[0m\u001b[0mindex\u001b[0m\u001b[0;34m(\u001b[0m\u001b[0;34m\"Coursera\"\u001b[0m\u001b[0;34m)\u001b[0m\u001b[0;34m\u001b[0m\u001b[0;34m\u001b[0m\u001b[0m\n\u001b[0m",
            "\u001b[0;31mValueError\u001b[0m: tuple.index(x): x not in tuple"
          ]
        }
      ],
      "source": [
        "# This question, I have doubt\n",
        "#Q21 Find the index of JDA in myTuple\n",
        "\n",
        "\n",
        "# Find the index of 'Coursera' in myTuple\n",
        "# NOTE index doesn't work properly with nested tuples # Wrong output\n",
        "\n",
        "print(myTuple)\n",
        "myTuple.index(\"JDA\")\n",
        "myTuple.index(\"Coursera\")"
      ]
    },
    {
      "cell_type": "code",
      "execution_count": null,
      "metadata": {
        "colab": {
          "base_uri": "https://localhost:8080/",
          "height": 35
        },
        "id": "j7xSYXoCWsXs",
        "outputId": "950d9724-8879-45da-b397-3203db5f255b"
      },
      "outputs": [
        {
          "output_type": "execute_result",
          "data": {
            "text/plain": [
              "'Mintu'"
            ],
            "application/vnd.google.colaboratory.intrinsic+json": {
              "type": "string"
            }
          },
          "metadata": {},
          "execution_count": 77
        }
      ],
      "source": [
        "#Q22 print index 8 from myTuple\n",
        "myTuple[8]"
      ]
    },
    {
      "cell_type": "code",
      "execution_count": null,
      "metadata": {
        "colab": {
          "base_uri": "https://localhost:8080/"
        },
        "id": "cwT8vcabWsXs",
        "outputId": "3caf29a9-98b0-42ee-9d4b-1453fa6bd0e5"
      },
      "outputs": [
        {
          "output_type": "stream",
          "name": "stdout",
          "text": [
            "('NPower', 'JDA', 'Tuesday', 30, 3, 2021, ('Coursera', 'course', 6), ('week', (2, 'Lists', 'Tuple')), 'Mintu')\n",
            "3\n",
            "2021\n"
          ]
        }
      ],
      "source": [
        "#Q23 Get the 4th element from the begining of myTuple\n",
        "#and 4th element from last of a myTuple\n",
        "print(myTuple)\n",
        "print(myTuple[4])\n",
        "print(myTuple[-4])"
      ]
    },
    {
      "cell_type": "code",
      "execution_count": null,
      "metadata": {
        "colab": {
          "base_uri": "https://localhost:8080/"
        },
        "id": "vnnkMij-WsXs",
        "outputId": "25f38664-a81b-4926-86c0-6f83fe5045d4"
      },
      "outputs": [
        {
          "output_type": "stream",
          "name": "stdout",
          "text": [
            "(1, 2, 33, 55, 6, 55)\n"
          ]
        },
        {
          "output_type": "execute_result",
          "data": {
            "text/plain": [
              "2"
            ]
          },
          "metadata": {},
          "execution_count": 82
        }
      ],
      "source": [
        "#Q24 Find how many times 55 appeared in testTuple [Hint: Use method count()]\n",
        "\n",
        "print(testTuple)\n",
        "testTuple.count(55)"
      ]
    },
    {
      "cell_type": "code",
      "source": [],
      "metadata": {
        "id": "NkzC2PgWFPMe"
      },
      "execution_count": null,
      "outputs": []
    },
    {
      "cell_type": "markdown",
      "metadata": {
        "id": "27aa67f3-1e57-4f0f-8aa1-b6735c075ab7"
      },
      "source": [
        "<h2 id=\"quiz\">Quiz on List</h2>---------> From Coursera\n"
      ]
    },
    {
      "cell_type": "markdown",
      "metadata": {
        "id": "2dd55d53-00cb-4e2f-9cee-5c843593cf99"
      },
      "source": [
        "Create a list <code>a_list</code>, with the following elements <code>1</code>, <code>hello</code>, <code>\\[1,2,3]</code> and <code>True</code>.\n"
      ]
    },
    {
      "cell_type": "code",
      "metadata": {
        "id": "59e03825-ef68-4b1a-b11e-ba50bb15315f",
        "colab": {
          "base_uri": "https://localhost:8080/"
        },
        "outputId": "e9aadfca-5d1b-4dd9-c728-15ee98d240bb"
      },
      "outputs": [
        {
          "output_type": "execute_result",
          "data": {
            "text/plain": [
              "[1, 'hello', [1, 2, 3], True]"
            ]
          },
          "metadata": {},
          "execution_count": 3
        }
      ],
      "source": [
        "# Write your code below and press Shift+Enter to execute\n",
        "a_list = [1, \"hello\", [1,2,3], True]\n",
        "a_list"
      ],
      "execution_count": null
    },
    {
      "cell_type": "markdown",
      "metadata": {
        "id": "ab526254-0e8e-45c6-ad23-97c7a3e32195"
      },
      "source": [
        "<details><summary>Click here for the solution</summary>\n",
        "\n",
        "```python\n",
        "a_list = [1, 'hello', [1, 2, 3] , True]\n",
        "a_list\n",
        "\n",
        "```\n",
        "\n",
        "</details>\n"
      ]
    },
    {
      "cell_type": "markdown",
      "metadata": {
        "id": "1dcbad24-db10-498c-8588-8db292c24b5c"
      },
      "source": [
        "Find the value stored at index 1 of <code>a_list</code>.\n"
      ]
    },
    {
      "cell_type": "code",
      "metadata": {
        "id": "ad272f97-0b27-400d-858d-41f450c39d42",
        "colab": {
          "base_uri": "https://localhost:8080/",
          "height": 35
        },
        "outputId": "36e6be6f-fe94-4cbc-e841-1665afe49967"
      },
      "outputs": [
        {
          "output_type": "execute_result",
          "data": {
            "text/plain": [
              "'hello'"
            ],
            "application/vnd.google.colaboratory.intrinsic+json": {
              "type": "string"
            }
          },
          "metadata": {},
          "execution_count": 4
        }
      ],
      "source": [
        "# Write your code below and press Shift+Enter to execute\n",
        "a_list[1]"
      ],
      "execution_count": 4
    },
    {
      "cell_type": "markdown",
      "metadata": {
        "id": "c270c65f-86ac-4634-912b-3f97cf3c943b"
      },
      "source": [
        "<details><summary>Click here for the solution</summary>\n",
        "\n",
        "```python\n",
        "a_list[1]\n",
        "\n",
        "```\n",
        "\n",
        "</details>\n"
      ]
    },
    {
      "cell_type": "markdown",
      "metadata": {
        "id": "ed8a37d9-8faf-4047-a496-59d8906d733c"
      },
      "source": [
        "Retrieve the elements stored at index 1, 2 and 3 of <code>a_list</code>.\n"
      ]
    },
    {
      "cell_type": "code",
      "metadata": {
        "id": "8f4d10b9-48f8-4bc1-9d8f-e580b9c5e7b8",
        "colab": {
          "base_uri": "https://localhost:8080/"
        },
        "outputId": "3833f24e-2386-4c5d-d4f5-fa9f4c57007e"
      },
      "outputs": [
        {
          "output_type": "execute_result",
          "data": {
            "text/plain": [
              "['hello', [1, 2, 3], True]"
            ]
          },
          "metadata": {},
          "execution_count": 5
        }
      ],
      "source": [
        "# Write your code below and press Shift+Enter to execute\n",
        "a_list[1:4]\n"
      ],
      "execution_count": 5
    },
    {
      "cell_type": "markdown",
      "metadata": {
        "id": "73583273-147c-457b-bff5-fc2868b77f6f"
      },
      "source": [
        "<details><summary>Click here for the solution</summary>\n",
        "\n",
        "```python\n",
        "a_list[1:4]\n",
        "\n",
        "```\n",
        "\n",
        "</details>\n"
      ]
    },
    {
      "cell_type": "markdown",
      "metadata": {
        "id": "1531c9ba-630a-429d-aa7f-42d5288498f6"
      },
      "source": [
        "Concatenate the following lists <code>A = \\[1, 'a']</code> and <code>B = \\[2, 1, 'd']</code>:\n"
      ]
    },
    {
      "cell_type": "code",
      "metadata": {
        "id": "7990241a-a0e5-4f28-a8b9-90705fb78000",
        "colab": {
          "base_uri": "https://localhost:8080/"
        },
        "outputId": "b1ca55a6-4dbd-4012-b55c-94f8c27b0ee8"
      },
      "outputs": [
        {
          "output_type": "execute_result",
          "data": {
            "text/plain": [
              "[1, 'a', 2, 1, 'd']"
            ]
          },
          "metadata": {},
          "execution_count": 6
        }
      ],
      "source": [
        "# Write your code below and press Shift+Enter to execute\n",
        "A = [1, 'a']\n",
        "B = [2, 1, 'd']\n",
        "\n",
        "A+B\n"
      ],
      "execution_count": 6
    },
    {
      "cell_type": "markdown",
      "metadata": {
        "id": "1c9bb65b-4424-484f-aa9e-e9204aa3a572"
      },
      "source": [
        "<details><summary>Click here for the solution</summary>\n",
        "\n",
        "```python\n",
        "A = [1, 'a']\n",
        "B = [2, 1, 'd']\n",
        "A + B\n",
        "\n",
        "```\n",
        "\n",
        "</details>\n"
      ]
    },
    {
      "cell_type": "markdown",
      "metadata": {
        "id": "0de7c800-1571-477f-9db6-dc7b2f28304f"
      },
      "source": [
        "<center>\n",
        "\n",
        "# Scenario : Shopping list\n",
        "    \n",
        "</center>\n"
      ]
    },
    {
      "cell_type": "markdown",
      "metadata": {
        "id": "2adbcf25-c654-40b2-a19c-9d44138e4107"
      },
      "source": [
        "# Task-1  Create an empty list\n",
        "At first we need to create a empty list for storing the items to buy in Shopping list.\n"
      ]
    },
    {
      "cell_type": "code",
      "metadata": {
        "id": "fee349c5-15f5-4199-883f-5b2bd5fcdf11"
      },
      "outputs": [],
      "source": [
        "#Type your code here\n",
        "shopping_list = []"
      ],
      "execution_count": 8
    },
    {
      "cell_type": "markdown",
      "metadata": {
        "id": "9d3581bc-45c6-4c1c-b861-dfb576f56763"
      },
      "source": [
        "<details><summary>Click here for the solution</summary>\n",
        "\n",
        "```python\n",
        "Shopping_list=[]\n",
        "\n",
        "```\n",
        "\n",
        "</details>\n"
      ]
    },
    {
      "cell_type": "markdown",
      "metadata": {
        "id": "eb57d6fc-ffb8-448c-8dd1-1cb5695ef3e0"
      },
      "source": [
        "# Task-2 Now store the number of items to the shopping_list\n",
        "* Watch\n",
        "* Laptop\n",
        "* Shoes\n",
        "* Pen\n",
        "* Clothes\n",
        "\n",
        "\n",
        "<br>\n",
        "\n"
      ]
    },
    {
      "cell_type": "code",
      "metadata": {
        "id": "f091e356-e3a5-4cd8-8c69-4f36f97faa23"
      },
      "outputs": [],
      "source": [
        "#Type your code here\n",
        "shopping_list =[\"Watch\", \"Laptop\", \"Shoes\", \"Pen\", \"Clothes\"]"
      ],
      "execution_count": 9
    },
    {
      "cell_type": "markdown",
      "metadata": {
        "id": "0f65faa3-92e8-4ada-b804-bffb62469760"
      },
      "source": [
        "<details><summary>Click here for the hint </summary>\n",
        "\n",
        "```python\n",
        "Hint:- Directly store every item as a different string in the list.\n",
        "\n",
        "```\n",
        "\n",
        "</details>\n"
      ]
    },
    {
      "cell_type": "markdown",
      "metadata": {
        "id": "d9f202ba-1d0f-4092-9f17-c15f2bede836"
      },
      "source": [
        "<details><summary>Click here for the solution</summary>\n",
        "\n",
        "```python\n",
        "Shopping_list=[\"Watch\",\"Laptop\",\"Shoes\",\"Pen\",\"Clothes\"]\n",
        "\n",
        "```\n",
        "\n",
        "</details>\n"
      ]
    },
    {
      "cell_type": "markdown",
      "metadata": {
        "id": "3de852a5-36ad-4233-accb-8d7ba4f1ad80"
      },
      "source": [
        "# Task-3 Add a new item to the shopping_list\n",
        "Seems like I missed one item \"Football\" to add in the shopping list.\n",
        "<br>\n"
      ]
    },
    {
      "cell_type": "code",
      "metadata": {
        "id": "93d08931-2a6b-4507-96f4-12c58123c37f",
        "colab": {
          "base_uri": "https://localhost:8080/"
        },
        "outputId": "c083dbdb-6bbd-4a4d-fd7e-8c77b94508ec"
      },
      "outputs": [
        {
          "output_type": "execute_result",
          "data": {
            "text/plain": [
              "['Watch', 'Laptop', 'Shoes', 'Pen', 'Clothes', 'Football', 'Football']"
            ]
          },
          "metadata": {},
          "execution_count": 19
        }
      ],
      "source": [
        "#Type your code here\n",
        "shopping_list.append(\"Football\")\n",
        "shopping_list"
      ],
      "execution_count": 19
    },
    {
      "cell_type": "markdown",
      "metadata": {
        "id": "c6a92e02-b92d-44e5-ab11-1e7f9db01774"
      },
      "source": [
        "<details><summary>Click here for the hint </summary>\n",
        "\n",
        "```python\n",
        "Hint:- Use `Append()` method for adding \"Football\" to our shopping list\n",
        "\n",
        "```\n",
        "\n",
        "</details>\n"
      ]
    },
    {
      "cell_type": "markdown",
      "metadata": {
        "id": "c73a3418-1565-44b3-ad4e-3f0b36dfe4a4"
      },
      "source": [
        "<details><summary>Click here for the solution</summary>\n",
        "\n",
        "```python\n",
        "Shopping_list.append(\"Football\")\n",
        "\n",
        "```\n",
        "\n",
        "</details>\n"
      ]
    },
    {
      "cell_type": "markdown",
      "metadata": {
        "id": "168f3aa9-48bc-4ffa-b4f0-82f2d8c2736a"
      },
      "source": [
        "# Task-4 Print First item from the shopping_list\n",
        "Let's check the first item that we need to buy.\n",
        "<br>\n"
      ]
    },
    {
      "cell_type": "code",
      "metadata": {
        "id": "5bf98b0e-edc3-4105-a7d7-8c31939c5b82",
        "colab": {
          "base_uri": "https://localhost:8080/",
          "height": 35
        },
        "outputId": "d86f695c-f180-4341-fea6-71cd85070084"
      },
      "outputs": [
        {
          "output_type": "execute_result",
          "data": {
            "text/plain": [
              "'Watch'"
            ],
            "application/vnd.google.colaboratory.intrinsic+json": {
              "type": "string"
            }
          },
          "metadata": {},
          "execution_count": 20
        }
      ],
      "source": [
        "#Type your code here\n",
        "shopping_list[0]"
      ],
      "execution_count": 20
    },
    {
      "cell_type": "markdown",
      "metadata": {
        "id": "79fd52a3-7524-4f7f-80d1-0d658ecfe1ca"
      },
      "source": [
        "<details><summary>Click here for the hint </summary>\n",
        "\n",
        "```python\n",
        "**Hint:-** Use `indexing` for checking the first item.\n",
        "\n",
        "```\n",
        "\n",
        "</details>\n"
      ]
    },
    {
      "cell_type": "markdown",
      "metadata": {
        "id": "3141f642-a5b4-4875-b9bd-0ce61b387137"
      },
      "source": [
        "<details><summary>Click here for the solution</summary>\n",
        "\n",
        "```python\n",
        "print(Shopping_list[0])\n",
        "\n",
        "```\n",
        "\n",
        "</details>\n"
      ]
    },
    {
      "cell_type": "markdown",
      "metadata": {
        "id": "31c72df0-4b6f-42ec-834e-201738a205d8"
      },
      "source": [
        "# Task-5 Print Last item from the shopping_list\n",
        "Let's check the last time that we need to buy.\n",
        "<br>\n"
      ]
    },
    {
      "cell_type": "code",
      "metadata": {
        "id": "1de895ab-241f-43e0-b851-9597901a1f54",
        "colab": {
          "base_uri": "https://localhost:8080/",
          "height": 35
        },
        "outputId": "82486491-809e-4c24-8aa7-a8148b5cd688"
      },
      "outputs": [
        {
          "output_type": "execute_result",
          "data": {
            "text/plain": [
              "'Football'"
            ],
            "application/vnd.google.colaboratory.intrinsic+json": {
              "type": "string"
            }
          },
          "metadata": {},
          "execution_count": 21
        }
      ],
      "source": [
        "#Type your code here\n",
        "\n",
        "shopping_list[-1]"
      ],
      "execution_count": 21
    },
    {
      "cell_type": "markdown",
      "metadata": {
        "id": "49124b74-9c70-47d3-9a84-63d26ed526dc"
      },
      "source": [
        "<details><summary>Click here for the hint </summary>\n",
        "\n",
        "```python\n",
        "Hint:- Use `indexing` for checking for last item.\n",
        "\n",
        "```\n",
        "\n",
        "</details>\n"
      ]
    },
    {
      "cell_type": "markdown",
      "metadata": {
        "id": "422cb327-3809-4a3d-b971-fc34a777c866"
      },
      "source": [
        "<details><summary>Click here for the solution</summary>\n",
        "\n",
        "```python\n",
        "print(Shopping_list[-1])\n",
        "\n",
        "```\n",
        "\n",
        "</details>\n"
      ]
    },
    {
      "cell_type": "markdown",
      "metadata": {
        "id": "25346c75-ff18-4adf-9245-8b77f4c0c54d"
      },
      "source": [
        "# Task-6 Print the entire Shopping List\n"
      ]
    },
    {
      "cell_type": "code",
      "metadata": {
        "id": "09f423c2-199b-4a79-8737-701e2f30fd91",
        "colab": {
          "base_uri": "https://localhost:8080/"
        },
        "outputId": "82280278-084e-4c2e-aaaa-d40b61dd2cc1"
      },
      "outputs": [
        {
          "output_type": "stream",
          "name": "stdout",
          "text": [
            "['Watch', 'Laptop', 'Shoes', 'Pen', 'Clothes', 'Football', 'Football']\n"
          ]
        }
      ],
      "source": [
        "#Type your code here.\n",
        "print(shopping_list)"
      ],
      "execution_count": 22
    },
    {
      "cell_type": "markdown",
      "metadata": {
        "id": "12aba380-9015-4d19-b96e-f8a2bb539f58"
      },
      "source": [
        "<details><summary>Click here for the solution</summary>\n",
        "\n",
        "```python\n",
        "print(Shopping_list)\n",
        "\n",
        "```\n",
        "\n",
        "</details>\n"
      ]
    },
    {
      "cell_type": "markdown",
      "metadata": {
        "id": "03fd2048-8cbc-48b1-b091-ec2fcc91ec66"
      },
      "source": [
        "# Task-7 Print the item that are important to buy from the Shopping List\n",
        "Print \"Laptop\" and \"shoes\"\n"
      ]
    },
    {
      "cell_type": "code",
      "metadata": {
        "id": "761e63fe-9ad8-48ab-8932-9e49061e15ac",
        "colab": {
          "base_uri": "https://localhost:8080/"
        },
        "outputId": "0f2360a6-6416-4cf2-e0a9-aeac24f3f668"
      },
      "outputs": [
        {
          "output_type": "execute_result",
          "data": {
            "text/plain": [
              "['Laptop', 'Shoes']"
            ]
          },
          "metadata": {},
          "execution_count": 23
        }
      ],
      "source": [
        "#Type your code here\n",
        "shopping_list[1:3]"
      ],
      "execution_count": 23
    },
    {
      "cell_type": "markdown",
      "metadata": {
        "id": "8463669f-c838-4148-b247-10c7c45417b7"
      },
      "source": [
        "<details><summary>Click here for the hint </summary>\n",
        "\n",
        "```python\n",
        "Hint:- Use `slicing` to print \"Laptop\" and \"Shoes\"\n",
        "\n",
        "```\n",
        "\n",
        "</details>\n"
      ]
    },
    {
      "cell_type": "markdown",
      "metadata": {
        "id": "e0e57de8-48c0-455f-864b-a15e0ad56bf3"
      },
      "source": [
        "<details><summary>Click here for the solution</summary>\n",
        "\n",
        "```python\n",
        "print(Shopping_list[1:3])\n",
        "\n",
        "```\n",
        "\n",
        "</details>\n"
      ]
    },
    {
      "cell_type": "markdown",
      "metadata": {
        "id": "3adfe40b-4b88-4ba3-966a-4627b34c2e92"
      },
      "source": [
        "# Task-8 Change the item from the shopping_list\n",
        "Instead of <u>\"Pen\"</u> I want to buy <u>\"Notebook\"</u>\n",
        "let's change the item stored in the list.\n",
        "<br>\n",
        "\n"
      ]
    },
    {
      "cell_type": "code",
      "metadata": {
        "id": "c4bd35c7-a046-40eb-b02e-62cdb69936ad",
        "colab": {
          "base_uri": "https://localhost:8080/"
        },
        "outputId": "4ffc2de0-80f0-46bf-88ef-b90c503022a8"
      },
      "outputs": [
        {
          "output_type": "execute_result",
          "data": {
            "text/plain": [
              "['Watch', 'Laptop', 'Shoes', 'Notebook', 'Clothes', 'Football', 'Football']"
            ]
          },
          "metadata": {},
          "execution_count": 26
        }
      ],
      "source": [
        "#Type your code here\n",
        "shopping_list[3] = (\"Notebook\")\n",
        "shopping_list\n"
      ],
      "execution_count": 26
    },
    {
      "cell_type": "markdown",
      "metadata": {
        "id": "ec66f6fd-4e6e-45b5-9c14-94258f83abb1"
      },
      "source": [
        "<details><summary>Click here for the hint </summary>\n",
        "\n",
        "```python\n",
        "Hint:- Locate the item you want to change using `index`, and Update the item with the new desired value using `string`.\n",
        "\n",
        "```\n",
        "\n",
        "</details>\n"
      ]
    },
    {
      "cell_type": "markdown",
      "metadata": {
        "id": "68299b11-001f-41b7-89a0-b59f684cfff6"
      },
      "source": [
        "<details><summary>Click here for the solution</summary>\n",
        "\n",
        "```python\n",
        "Shopping_list[3] = \"Notebook\"\n",
        "\n",
        "```\n",
        "\n",
        "</details>\n"
      ]
    },
    {
      "cell_type": "markdown",
      "metadata": {
        "id": "f8cd69c6-a450-4f2d-b632-3e789c2693a3"
      },
      "source": [
        "# Task-9 Delete the item from the shopping_list that is not required\n",
        "Let's delete items that are unimportant, such as; I don't want to buy <u>Clothes</u>, let's delete it.\n",
        "<br>\n",
        "\n"
      ]
    },
    {
      "cell_type": "code",
      "metadata": {
        "id": "4d3bc9ee-0f14-4295-af7d-52224143ef3e",
        "colab": {
          "base_uri": "https://localhost:8080/"
        },
        "outputId": "f932e2b4-fad4-41f1-cc0c-538d80321413"
      },
      "outputs": [
        {
          "output_type": "execute_result",
          "data": {
            "text/plain": [
              "['Watch', 'Laptop', 'Shoes', 'Notebook', 'Football']"
            ]
          },
          "metadata": {},
          "execution_count": 28
        }
      ],
      "source": [
        "#Type your code here\n",
        "del shopping_list[4]\n",
        "shopping_list\n"
      ],
      "execution_count": 28
    },
    {
      "cell_type": "markdown",
      "metadata": {
        "id": "99c48030-340c-42b2-9c53-74626180309b"
      },
      "source": [
        "<details><summary>Click here for the hint </summary>\n",
        "\n",
        "```python\n",
        "Hint:- Use `del` method for deleting.\n",
        "\n",
        "```\n",
        "\n",
        "</details>\n"
      ]
    },
    {
      "cell_type": "markdown",
      "metadata": {
        "id": "895d1dc2-00dc-42bb-8ddd-677b06ec7bb2"
      },
      "source": [
        "<details><summary>Click here for the solution</summary>\n",
        "\n",
        "```python\n",
        "del (shopping_list[4])\n",
        "\n",
        "```\n",
        "\n",
        "</details>\n"
      ]
    },
    {
      "cell_type": "markdown",
      "metadata": {
        "id": "19541aeb-db6b-4d19-be63-134a408500d7"
      },
      "source": [
        "# Task-10 Print the shopping list\n",
        "We are ready with our shopping list.\n"
      ]
    },
    {
      "cell_type": "code",
      "metadata": {
        "id": "020593a7-d50e-49c0-8e03-28e9c9f0d3af",
        "colab": {
          "base_uri": "https://localhost:8080/"
        },
        "outputId": "daf78d8e-e512-44e0-e18d-91f80b17d8a2"
      },
      "outputs": [
        {
          "output_type": "stream",
          "name": "stdout",
          "text": [
            "['Watch', 'Laptop', 'Shoes', 'Notebook', 'Football']\n"
          ]
        }
      ],
      "source": [
        "# Type your code here\n",
        "print(shopping_list)"
      ],
      "execution_count": 29
    },
    {
      "cell_type": "code",
      "source": [],
      "metadata": {
        "id": "KXMd8wqrCtZU"
      },
      "execution_count": null,
      "outputs": []
    },
    {
      "cell_type": "code",
      "source": [],
      "metadata": {
        "id": "nemmMBnXCuQf"
      },
      "execution_count": null,
      "outputs": []
    },
    {
      "cell_type": "markdown",
      "metadata": {
        "id": "62bc109b-e569-46df-8daf-afb01d1a55b8"
      },
      "source": [
        "<h2 id=\"quiz\">Quiz on Tuples</h2>  -----> From Coursera\n"
      ]
    },
    {
      "cell_type": "markdown",
      "metadata": {
        "id": "399530bd-a823-4cdf-aa6d-7812622aee13"
      },
      "source": [
        "Consider the following tuple:\n"
      ]
    },
    {
      "cell_type": "code",
      "metadata": {
        "colab": {
          "base_uri": "https://localhost:8080/"
        },
        "id": "97da9c7c-d842-484c-b19f-2c1b991819f3",
        "outputId": "646a6f7a-e578-4cb3-8060-992d96939b3d"
      },
      "outputs": [
        {
          "output_type": "execute_result",
          "data": {
            "text/plain": [
              "('pop',\n",
              " 'rock',\n",
              " 'soul',\n",
              " 'hard rock',\n",
              " 'soft rock',\n",
              " 'R&B',\n",
              " 'progressive rock',\n",
              " 'disco')"
            ]
          },
          "metadata": {},
          "execution_count": 31
        }
      ],
      "source": [
        "# sample tuple\n",
        "\n",
        "genres_tuple = (\"pop\", \"rock\", \"soul\", \"hard rock\", \"soft rock\", \\\n",
        "                \"R&B\", \"progressive rock\", \"disco\")\n",
        "genres_tuple"
      ],
      "execution_count": 31
    },
    {
      "cell_type": "markdown",
      "metadata": {
        "id": "d923f60a-0e91-4be7-a38e-94e60d842479"
      },
      "source": [
        "Find the length of the tuple, <code>genres_tuple</code>:\n"
      ]
    },
    {
      "cell_type": "code",
      "metadata": {
        "id": "15824835-34a6-4ef0-b396-6796357d3bdb",
        "colab": {
          "base_uri": "https://localhost:8080/"
        },
        "outputId": "6a9e7507-52df-49a9-e2ae-743a76773f87"
      },
      "outputs": [
        {
          "output_type": "execute_result",
          "data": {
            "text/plain": [
              "8"
            ]
          },
          "metadata": {},
          "execution_count": 32
        }
      ],
      "source": [
        "# Write your code below and press Shift+Enter to execute\n",
        "\n",
        "len(genres_tuple)\n"
      ],
      "execution_count": 32
    },
    {
      "cell_type": "markdown",
      "metadata": {
        "id": "5e98cdb7-e61b-4aaa-9b1e-7f5c4a1c7eeb"
      },
      "source": [
        "<img src=\"https://cf-courses-data.s3.us.cloud-object-storage.appdomain.cloud/IBMDeveloperSkillsNetwork-PY0101EN-SkillsNetwork/labs/Module%202/images/TuplesQuiz.png\" width=\"1100\" align=\"center\">\n"
      ]
    },
    {
      "cell_type": "markdown",
      "metadata": {
        "id": "667c364a-1fe8-4a7a-9b0e-2ec8831f06ca"
      },
      "source": [
        "<details><summary>Click here for the solution</summary>\n",
        "\n",
        "```python\n",
        "len(genres_tuple)\n",
        "```\n",
        "\n",
        "</details>\n"
      ]
    },
    {
      "cell_type": "markdown",
      "metadata": {
        "id": "e12c2b89-e10b-425c-a4f0-d13da637856d"
      },
      "source": [
        "Access the element, with respect to index 3:\n"
      ]
    },
    {
      "cell_type": "code",
      "metadata": {
        "id": "0d4c0638-ded2-46a5-a408-8b77989f548c",
        "colab": {
          "base_uri": "https://localhost:8080/",
          "height": 35
        },
        "outputId": "30aaf88e-50da-421b-f3e0-37c42ffe2777"
      },
      "outputs": [
        {
          "output_type": "execute_result",
          "data": {
            "text/plain": [
              "'hard rock'"
            ],
            "application/vnd.google.colaboratory.intrinsic+json": {
              "type": "string"
            }
          },
          "metadata": {},
          "execution_count": 33
        }
      ],
      "source": [
        "# Write your code below and press Shift+Enter to execute\n",
        "genres_tuple[3]\n"
      ],
      "execution_count": 33
    },
    {
      "cell_type": "markdown",
      "metadata": {
        "id": "36dfd91e-69a8-414d-9c61-991fb35c4c11"
      },
      "source": [
        "<details><summary>Click here for the solution</summary>\n",
        "\n",
        "```python\n",
        "genres_tuple[3]\n",
        "\n",
        "```\n",
        "\n",
        "</details>\n"
      ]
    },
    {
      "cell_type": "markdown",
      "metadata": {
        "id": "c8963d39-60a8-409f-8c90-e86536604500"
      },
      "source": [
        "Use slicing to obtain indexes 3, 4 and 5:\n"
      ]
    },
    {
      "cell_type": "code",
      "metadata": {
        "id": "b5247a2f-9d4c-47cf-9311-8931a1f727d9",
        "colab": {
          "base_uri": "https://localhost:8080/"
        },
        "outputId": "3e9477b1-8262-46be-b531-1e21cbad9ff3"
      },
      "outputs": [
        {
          "output_type": "execute_result",
          "data": {
            "text/plain": [
              "('hard rock', 'soft rock', 'R&B')"
            ]
          },
          "metadata": {},
          "execution_count": 34
        }
      ],
      "source": [
        "# Write your code below and press Shift+Enter to execute\n",
        "genres_tuple[3:6]\n"
      ],
      "execution_count": 34
    },
    {
      "cell_type": "markdown",
      "metadata": {
        "id": "878874fa-8bf4-4d4a-834e-91487bd9cf43"
      },
      "source": [
        "<details><summary>Click here for the solution</summary>\n",
        "\n",
        "```python\n",
        "genres_tuple[3:6]\n",
        "\n",
        "```\n",
        "\n",
        "</details>\n"
      ]
    },
    {
      "cell_type": "markdown",
      "metadata": {
        "id": "751b30c1-ea3c-4bd7-bf5c-2ca538dcdabd"
      },
      "source": [
        "Find the first two elements of the tuple <code>genres_tuple</code>:\n"
      ]
    },
    {
      "cell_type": "code",
      "metadata": {
        "id": "e38cfb83-8ba5-40f8-830d-981274ef5fb0",
        "colab": {
          "base_uri": "https://localhost:8080/"
        },
        "outputId": "88189340-8385-4bee-d23f-3f2529cdf49a"
      },
      "outputs": [
        {
          "output_type": "execute_result",
          "data": {
            "text/plain": [
              "('pop', 'rock')"
            ]
          },
          "metadata": {},
          "execution_count": 35
        }
      ],
      "source": [
        "# Write your code below and press Shift+Enter to execute\n",
        "genres_tuple[0:2]\n"
      ],
      "execution_count": 35
    },
    {
      "cell_type": "markdown",
      "metadata": {
        "id": "f1464d74-f659-4d42-a0f8-37c8076c70d6"
      },
      "source": [
        "<details><summary>Click here for the solution</summary>\n",
        "\n",
        "```python\n",
        "genres_tuple[0:2]\n",
        "\n",
        "```\n",
        "\n",
        "</details>\n"
      ]
    },
    {
      "cell_type": "markdown",
      "metadata": {
        "id": "9002fe7a-8b0c-47a8-86f8-0fb8187e683b"
      },
      "source": [
        "Find the first index of <code>\"disco\"</code>:\n"
      ]
    },
    {
      "cell_type": "code",
      "metadata": {
        "id": "266aba07-9890-42f1-ad47-5fc087001a32",
        "colab": {
          "base_uri": "https://localhost:8080/"
        },
        "outputId": "94697175-551d-454a-eabe-c69d20f13b89"
      },
      "outputs": [
        {
          "output_type": "execute_result",
          "data": {
            "text/plain": [
              "7"
            ]
          },
          "metadata": {},
          "execution_count": 38
        }
      ],
      "source": [
        "# Write your code below and press Shift+Enter to execute\n",
        "genres_tuple.index(\"disco\")\n"
      ],
      "execution_count": 38
    },
    {
      "cell_type": "markdown",
      "metadata": {
        "id": "1c26816b-8b98-4937-ad58-cbd22c638386"
      },
      "source": [
        "<details><summary>Click here for the solution</summary>\n",
        "\n",
        "```python\n",
        "genres_tuple.index(\"disco\")\n",
        "\n",
        "```\n",
        "\n",
        "</details>\n"
      ]
    },
    {
      "cell_type": "markdown",
      "metadata": {
        "id": "d3f475b3-d8b2-4855-b623-cd225e221891"
      },
      "source": [
        "Generate a sorted List from the Tuple <code>C_tuple=(-5, 1, -3)</code>:\n"
      ]
    },
    {
      "cell_type": "code",
      "metadata": {
        "id": "aa53c010-69f1-41c4-a44d-ee8c3b296af6",
        "colab": {
          "base_uri": "https://localhost:8080/"
        },
        "outputId": "26985ec9-6a5d-4f60-a8d0-c02c86d0862f"
      },
      "outputs": [
        {
          "output_type": "execute_result",
          "data": {
            "text/plain": [
              "[-5, -3, 1]"
            ]
          },
          "metadata": {},
          "execution_count": 41
        }
      ],
      "source": [
        "# Write your code below and press Shift+Enter to execute\n",
        "C_tuple=(-5, 1, -3)\n",
        "sorted(C_tuple)"
      ],
      "execution_count": 41
    },
    {
      "cell_type": "markdown",
      "metadata": {
        "id": "92579cce-72d9-482b-b430-f471248fed15"
      },
      "source": [
        "<details><summary>Click here for the solution</summary>\n",
        "\n",
        "```python\n",
        "C_tuple = (-5, 1, -3)\n",
        "C_list = sorted(C_tuple)\n",
        "C_list\n",
        "\n",
        "```\n",
        "\n",
        "</details>\n"
      ]
    },
    {
      "cell_type": "code",
      "source": [],
      "metadata": {
        "id": "z_igdEwVC73K"
      },
      "execution_count": null,
      "outputs": []
    },
    {
      "cell_type": "markdown",
      "metadata": {
        "id": "c7dde7d7-9bae-4c3e-b17d-682cc1b9b3b7"
      },
      "source": [
        "<a id=\"quiz\"></a>\n",
        "## Quiz on Dictionaries -------> From Coursera\n"
      ]
    },
    {
      "cell_type": "markdown",
      "metadata": {
        "id": "7597f95e-c5e8-4741-aa3d-fe5e7d4a579b"
      },
      "source": [
        "<b>You will need this dictionary for the next two questions:</b>\n"
      ]
    },
    {
      "cell_type": "code",
      "metadata": {
        "id": "30e690df-e742-4bd1-9d26-b74ad77d7961",
        "colab": {
          "base_uri": "https://localhost:8080/"
        },
        "outputId": "3c5f5dc4-40a2-4a84-b96b-13bafaace07b"
      },
      "outputs": [
        {
          "output_type": "execute_result",
          "data": {
            "text/plain": [
              "{'The Bodyguard': '1992', 'Saturday Night Fever': '1977'}"
            ]
          },
          "metadata": {},
          "execution_count": 1
        }
      ],
      "source": [
        "# Question sample dictionary\n",
        "\n",
        "soundtrack_dic = {\"The Bodyguard\":\"1992\", \"Saturday Night Fever\":\"1977\"}\n",
        "soundtrack_dic"
      ],
      "execution_count": 1
    },
    {
      "cell_type": "markdown",
      "metadata": {
        "id": "4ac480a3-4ef2-452a-8096-286911a0d072"
      },
      "source": [
        "a) In the dictionary <code>soundtrack_dic</code> what are the keys ?\n"
      ]
    },
    {
      "cell_type": "code",
      "metadata": {
        "id": "f6543094-3b31-4e9d-a6ec-a0449ab942c8",
        "colab": {
          "base_uri": "https://localhost:8080/"
        },
        "outputId": "83f17c55-000d-4689-c5b9-d97026627481"
      },
      "outputs": [
        {
          "output_type": "stream",
          "name": "stdout",
          "text": [
            "dict_keys(['The Bodyguard', 'Saturday Night Fever'])\n"
          ]
        }
      ],
      "source": [
        "# Write your code below and press Shift+Enter to execute\n",
        "print(soundtrack_dic.keys())\n"
      ],
      "execution_count": 6
    },
    {
      "cell_type": "markdown",
      "metadata": {
        "id": "01c0f610-5b4b-40f1-969b-99189473e8c0"
      },
      "source": [
        "<details><summary>Click here for the solution</summary>\n",
        "\n",
        "```python\n",
        "soundtrack_dic.keys() # The Keys \"The Bodyguard\" and \"Saturday Night Fever\"\n",
        "\n",
        "```\n",
        "\n",
        "</details>\n"
      ]
    },
    {
      "cell_type": "markdown",
      "metadata": {
        "id": "45176e31-175e-458c-91f8-b675f6fa9fd9"
      },
      "source": [
        "b) In the dictionary <code>soundtrack_dic</code> what are the values ?\n"
      ]
    },
    {
      "cell_type": "code",
      "metadata": {
        "id": "061c5bc3-8dc3-402b-8282-7c00e55d712f",
        "colab": {
          "base_uri": "https://localhost:8080/"
        },
        "outputId": "5ed65dad-222d-46ea-ef67-c4e9c492fe8d"
      },
      "outputs": [
        {
          "output_type": "execute_result",
          "data": {
            "text/plain": [
              "dict_values(['1992', '1977'])"
            ]
          },
          "metadata": {},
          "execution_count": 7
        }
      ],
      "source": [
        "# Write your code below and press Shift+Enter to execute\n",
        "soundtrack_dic.values()"
      ],
      "execution_count": 7
    },
    {
      "cell_type": "markdown",
      "metadata": {
        "id": "5e0a6d07-54eb-4466-b023-7fc52cff9183"
      },
      "source": [
        "<details><summary>Click here for the solution</summary>\n",
        "\n",
        "```python\n",
        "soundtrack_dic.values() # The values are \"1992\" and \"1977\"\n",
        "\n",
        "```\n",
        "\n",
        "</details>\n"
      ]
    },
    {
      "cell_type": "markdown",
      "metadata": {
        "id": "3df74c48-c861-41c6-9c65-483140685b9e"
      },
      "source": [
        "<hr>\n"
      ]
    },
    {
      "cell_type": "markdown",
      "metadata": {
        "id": "af9e1893-9655-4349-a35c-5480a9c2b8af"
      },
      "source": [
        "<b>You will need this dictionary for the following questions:</b>\n"
      ]
    },
    {
      "cell_type": "markdown",
      "metadata": {
        "id": "22504ab9-59b4-4596-a929-0db332a46472"
      },
      "source": [
        "The Albums <b>Back in Black</b>, <b>The Bodyguard</b> and <b>Thriller</b> have the following music recording sales in millions 50, 50 and 65 respectively:\n"
      ]
    },
    {
      "cell_type": "markdown",
      "metadata": {
        "id": "91937218-2d6d-434b-8f24-cd823b0514b8"
      },
      "source": [
        "a) Create a dictionary <code>album_sales_dict</code> where the keys are the album name and the sales in millions are the values.\n"
      ]
    },
    {
      "cell_type": "code",
      "metadata": {
        "id": "d65526c4-4906-43ef-9a6d-89cd9bdb9f80",
        "colab": {
          "base_uri": "https://localhost:8080/"
        },
        "outputId": "e0d2aee4-416f-4fb7-a5d2-bb04d44ae712"
      },
      "outputs": [
        {
          "output_type": "execute_result",
          "data": {
            "text/plain": [
              "{'Back in Black': 50, 'The Bodyguard': 50, 'Thriller': 65}"
            ]
          },
          "metadata": {},
          "execution_count": 10
        }
      ],
      "source": [
        "# Write your code below and press Shift+Enter to execute\n",
        "\n",
        "album_sales_dict = {\"Back in Black\": 50, \"The Bodyguard\": 50, \"Thriller\": 65}\n",
        "album_sales_dict"
      ],
      "execution_count": 10
    },
    {
      "cell_type": "markdown",
      "metadata": {
        "id": "898666c5-2f65-4de9-8861-de151c5cdeb2"
      },
      "source": [
        "<details><summary>Click here for the solution</summary>\n",
        "\n",
        "```python\n",
        "album_sales_dict = {\"The Bodyguard\":50, \"Back in Black\":50, \"Thriller\":65}\n",
        "\n",
        "```\n",
        "\n",
        "</details>\n"
      ]
    },
    {
      "cell_type": "markdown",
      "metadata": {
        "id": "38685f2d-3fdd-4f1f-9c36-dc47147fb0ee"
      },
      "source": [
        "b) Use the dictionary to find the total sales of <b>Thriller</b>:\n"
      ]
    },
    {
      "cell_type": "code",
      "metadata": {
        "id": "aa3bda90-f1eb-4575-bad6-d5cee046c690",
        "colab": {
          "base_uri": "https://localhost:8080/"
        },
        "outputId": "eb067b89-5fad-43d5-b2c3-757ac5c07d21"
      },
      "outputs": [
        {
          "output_type": "execute_result",
          "data": {
            "text/plain": [
              "65"
            ]
          },
          "metadata": {},
          "execution_count": 49
        }
      ],
      "source": [
        "# Write your code below and press Shift+Enter to execute\n",
        "\n",
        "album_sales_dict['Thriller']\n"
      ],
      "execution_count": 49
    },
    {
      "cell_type": "markdown",
      "metadata": {
        "id": "17ca1164-63c7-46b3-a1b2-79a4a8a4d5cf"
      },
      "source": [
        "<details><summary>Click here for the solution</summary>\n",
        "\n",
        "```python\n",
        "album_sales_dict[\"Thriller\"]\n",
        "\n",
        "```\n",
        "\n",
        "</details>\n"
      ]
    },
    {
      "cell_type": "markdown",
      "metadata": {
        "id": "a9773083-71a4-4a61-af93-f43db87c70b5"
      },
      "source": [
        "c) Find the names of the albums from the dictionary using the method <code>keys()</code>:\n"
      ]
    },
    {
      "cell_type": "code",
      "metadata": {
        "id": "097353ab-56b4-4df4-9d45-03a09e260753",
        "colab": {
          "base_uri": "https://localhost:8080/"
        },
        "outputId": "9a812d40-9479-498c-f4fa-c91fd0b32b36"
      },
      "outputs": [
        {
          "output_type": "execute_result",
          "data": {
            "text/plain": [
              "dict_keys(['Back in Black', 'The Bodyguard', 'Thriller'])"
            ]
          },
          "metadata": {},
          "execution_count": 50
        }
      ],
      "source": [
        "# Write your code below and press Shift+Enter to execute\n",
        "\n",
        "album_sales_dict.keys()"
      ],
      "execution_count": 50
    },
    {
      "cell_type": "markdown",
      "metadata": {
        "id": "5c37008a-ced1-4163-a4b7-9ed7aa3803cb"
      },
      "source": [
        "<details><summary>Click here for the solution</summary>\n",
        "\n",
        "```python\n",
        "album_sales_dict.keys()\n",
        "\n",
        "```\n",
        "\n",
        "</details>\n"
      ]
    },
    {
      "cell_type": "markdown",
      "metadata": {
        "id": "76c5d263-0bff-44b6-9c2c-4b08e529acae"
      },
      "source": [
        "d) Find the values of the recording sales from the dictionary using the method <code>values</code>:\n"
      ]
    },
    {
      "cell_type": "code",
      "metadata": {
        "id": "c7821277-3d82-44b0-9c31-f67e2fad6dc1",
        "colab": {
          "base_uri": "https://localhost:8080/"
        },
        "outputId": "03ab2c18-17c5-41fc-cab4-95e9627bd462"
      },
      "outputs": [
        {
          "output_type": "execute_result",
          "data": {
            "text/plain": [
              "dict_values([50, 50, 65])"
            ]
          },
          "metadata": {},
          "execution_count": 51
        }
      ],
      "source": [
        "# Write your code below and press Shift+Enter to execute\n",
        "\n",
        "album_sales_dict.values()\n"
      ],
      "execution_count": 51
    },
    {
      "cell_type": "markdown",
      "metadata": {
        "id": "b844fb4d-5cda-49c7-824f-5d75b8e52804"
      },
      "source": [
        "<details><summary>Click here for the solution</summary>\n",
        "\n",
        "```python\n",
        "album_sales_dict.values()\n",
        "\n",
        "```\n",
        "\n",
        "</details>\n"
      ]
    },
    {
      "cell_type": "markdown",
      "metadata": {
        "id": "1926ea76-4517-4f2c-a259-c7df013c6980"
      },
      "source": [
        "<a id=\"Scenario\"></a>\n",
        "## Scenario:Inventory Store\n",
        "    \n"
      ]
    },
    {
      "cell_type": "markdown",
      "metadata": {
        "id": "0f40c4e4-58a4-4ba7-8379-6a8c552cfd63"
      },
      "source": [
        "The inventory store scenario project utilizes a dictionary-based approach to develop a robust system for managing and tracking inventory in a retail store.\n",
        "<br>\n",
        "**Note:- You will be working with two product details.**\n"
      ]
    },
    {
      "cell_type": "markdown",
      "metadata": {
        "id": "725113a0-f75e-4d59-a8dd-6ddd7db51019"
      },
      "source": [
        "## Task-1 Create an empty dictionary\n"
      ]
    },
    {
      "cell_type": "markdown",
      "metadata": {
        "id": "88a22858-a9f4-4ef6-8f5c-8c45f08e76e4"
      },
      "source": [
        "\n",
        "First you need to create an empty dictionary, where you will be storing the product details.\n"
      ]
    },
    {
      "cell_type": "code",
      "metadata": {
        "id": "a8c88dbd-b5f4-4113-a620-bfbbf525e709"
      },
      "outputs": [],
      "source": [
        "#Type your code here\n",
        "\n",
        "product_details = {}"
      ],
      "execution_count": null
    },
    {
      "cell_type": "markdown",
      "metadata": {
        "id": "55bcba42-f1e2-4e27-b3dc-268119d44fd0"
      },
      "source": [
        "<details> <summary>Click here for the solution</summary>\n",
        "\n",
        "```python\n",
        "\n",
        "inventory ={}\n",
        "\n",
        "```\n",
        "\n",
        "</details>\n"
      ]
    },
    {
      "cell_type": "markdown",
      "metadata": {
        "id": "cac35e00-035a-4a82-98cd-2e715c0cc7f0"
      },
      "source": [
        "## Task-2 Store the first product details in variable\n",
        "* Product Name= Mobile phone\n",
        "* Product Quantity= 5\n",
        "* Product price= 20000\n",
        "* Product Release Year= 2020\n"
      ]
    },
    {
      "cell_type": "code",
      "metadata": {
        "id": "33e79036-13f0-4627-82a5-4630c0381e77"
      },
      "outputs": [],
      "source": [
        "#type your code here\n",
        "Product_name1= \"Mobile phone\"\n",
        "Product_quantity1= 5\n",
        "Product_price1= 20000\n",
        "Product_release_year1= 2020\n"
      ],
      "execution_count": 15
    },
    {
      "cell_type": "markdown",
      "metadata": {
        "id": "02e3f420-3fce-492c-9d3d-1951d2e52298"
      },
      "source": [
        "<details> <summary>Click here for the solution</summary>\n",
        "\n",
        "```python\n",
        "ProductNo1 = \"Mobile Phone\"\n",
        "ProductNo1_quantity = 5\n",
        "ProductNo1_price = 20000\n",
        "ProductNo1_releaseYear= 2020\n",
        "```\n",
        "\n",
        "</details>\n"
      ]
    },
    {
      "cell_type": "markdown",
      "metadata": {
        "id": "5c599c59-6232-4bf8-89f1-2ada9b41afd5"
      },
      "source": [
        "## Task-3 Add the details in inventory\n"
      ]
    },
    {
      "cell_type": "code",
      "metadata": {
        "id": "e992211d-5b58-4803-a650-bbc7f54fe1df",
        "colab": {
          "base_uri": "https://localhost:8080/"
        },
        "outputId": "f8e836aa-c712-4817-ac38-099ed0e51ac4"
      },
      "outputs": [
        {
          "output_type": "execute_result",
          "data": {
            "text/plain": [
              "{'ProductNo1': 'Mobile phone',\n",
              " 'ProductNo1_quantity': 5,\n",
              " 'ProductNo1_price': 20000,\n",
              " 'ProductNo1_releaseYear': 2020}"
            ]
          },
          "metadata": {},
          "execution_count": 19
        }
      ],
      "source": [
        "#Type your code here\n",
        "\n",
        "product_details[\"ProductNo1\"]= Product_name1\n",
        "product_details[\"ProductNo1_quantity\"]= Product_quantity1\n",
        "product_details[\"ProductNo1_price\"]= Product_price1\n",
        "product_details[\"ProductNo1_releaseYear\"]=Product_release_year1\n",
        "\n",
        "product_details"
      ],
      "execution_count": 19
    },
    {
      "cell_type": "markdown",
      "metadata": {
        "id": "14aa0b9c-25a0-4aac-b05e-098488ec554a"
      },
      "source": [
        "<details> <summary>Click here for the solution</summary>\n",
        "\n",
        "```python\n",
        "\n",
        "inventory[\"ProductNo1\"]= ProductNo1\n",
        "inventory[\"ProductNo1_quantity\"]= ProductNo1_quantity\n",
        "inventory[\"ProductNo1_price\"]= ProductNo1_price\n",
        "inventory[\"ProductNo1_releaseYear\"]=ProductNo1_releaseYear\n",
        "\n",
        "```\n",
        "\n",
        "</details>\n"
      ]
    },
    {
      "cell_type": "markdown",
      "metadata": {
        "id": "9966fd1d-d77b-494f-9bdb-e845268fc9b7"
      },
      "source": [
        "## Task-4 Store the second product details in a variable.\n",
        "* Product Name= \"Laptop\"\n",
        "* Product Quantity= 10\n",
        "* Product price = 50000\n",
        "* Product Release Year= 2023\n"
      ]
    },
    {
      "cell_type": "code",
      "metadata": {
        "id": "16c2d75a-3399-40ec-8d97-59e74c5945f2",
        "colab": {
          "base_uri": "https://localhost:8080/"
        },
        "outputId": "4f4560f0-dff0-4b21-f60d-34df89ca5337"
      },
      "outputs": [
        {
          "output_type": "execute_result",
          "data": {
            "text/plain": [
              "{'ProductNo1': 'Mobile phone',\n",
              " 'ProductNo1_quantity': 5,\n",
              " 'ProductNo1_price': 20000,\n",
              " 'ProductNo1_releaseYear': 2020}"
            ]
          },
          "metadata": {},
          "execution_count": 22
        }
      ],
      "source": [
        "#type your code here\n",
        "\n",
        "Product_name2= \"Laptop\"\n",
        "Product_quantity2= 10\n",
        "Product_price2= 50000\n",
        "Product_release_year2= 2023\n",
        "\n",
        "product_details"
      ],
      "execution_count": 22
    },
    {
      "cell_type": "markdown",
      "metadata": {
        "id": "2d4e6595-763e-48b2-af94-f75947a4cc29"
      },
      "source": [
        "<details> <summary>Click here for the solution</summary>\n",
        "\n",
        "```python\n",
        "\n",
        "ProductNo2 = \"Laptop\"\n",
        "ProductNo2_quantity = 10\n",
        "ProductNo2_price = 50000\n",
        "ProductNo2_releaseYear= 2023\n",
        "\n",
        "```\n",
        "\n",
        "</details>\n"
      ]
    },
    {
      "cell_type": "markdown",
      "metadata": {
        "id": "684c1ae3-10cb-4aac-a306-f85a1ee17250"
      },
      "source": [
        "## Task-5 Add the item detail into the inventory.\n"
      ]
    },
    {
      "cell_type": "code",
      "metadata": {
        "id": "1b708ba8-8c9e-43f5-a0b8-320aa3c1b4c3",
        "colab": {
          "base_uri": "https://localhost:8080/"
        },
        "outputId": "da7473b8-5b9e-4f9d-a4ea-6ba26885e46c"
      },
      "outputs": [
        {
          "output_type": "execute_result",
          "data": {
            "text/plain": [
              "{'ProductNo1': 'Mobile phone',\n",
              " 'ProductNo1_quantity': 5,\n",
              " 'ProductNo1_price': 20000,\n",
              " 'ProductNo1_releaseYear': 2020,\n",
              " 'ProductNo2': 'Laptop',\n",
              " 'ProductNo2_quantity': 10,\n",
              " 'ProductNo2_price': 50000,\n",
              " 'ProductNo2_releaseYear': 2023}"
            ]
          },
          "metadata": {},
          "execution_count": 23
        }
      ],
      "source": [
        "#type your code here\n",
        "\n",
        "product_details[\"ProductNo2\"]= Product_name2\n",
        "product_details[\"ProductNo2_quantity\"]= Product_quantity2\n",
        "product_details[\"ProductNo2_price\"]= Product_price2\n",
        "product_details[\"ProductNo2_releaseYear\"]=Product_release_year2\n",
        "\n",
        "product_details\n"
      ],
      "execution_count": 23
    },
    {
      "cell_type": "markdown",
      "metadata": {
        "id": "97079dd4-2cc1-4a0c-aaa8-f2651241ed13"
      },
      "source": [
        "<details> <summary>Click here for the solution</summary>\n",
        "\n",
        "```python\n",
        "\n",
        "inventory[\"ProductNo2\"]= ProductNo2\n",
        "inventory[\"ProductNo2_quantity\"]= ProductNo2_quantity\n",
        "inventory[\"ProductNo2_price\"]= ProductNo2_price\n",
        "inventory[\"ProductNo2_releaseYear\"]=ProductNo2_releaseYear\n",
        "\n",
        "```\n",
        "\n",
        "</details>\n"
      ]
    },
    {
      "cell_type": "markdown",
      "metadata": {
        "id": "3273d849-b1db-41ce-9420-8f4d9c505b75"
      },
      "source": [
        "## Task-6 Display the Products present in the inventory\n"
      ]
    },
    {
      "cell_type": "markdown",
      "metadata": {
        "id": "6fa90feb-34b8-450e-acd3-b70d0a607360"
      },
      "source": [
        "Use print statement for displaying the products\n"
      ]
    },
    {
      "cell_type": "code",
      "metadata": {
        "id": "0d0e2eea-92f7-46c2-9b69-5a6cb471e837",
        "colab": {
          "base_uri": "https://localhost:8080/"
        },
        "outputId": "1d851df1-7cf8-4df9-f446-2f5e50b61020"
      },
      "outputs": [
        {
          "output_type": "stream",
          "name": "stdout",
          "text": [
            "{'ProductNo1': 'Mobile phone', 'ProductNo1_quantity': 5, 'ProductNo1_price': 20000, 'ProductNo1_releaseYear': 2020, 'ProductNo2': 'Laptop', 'ProductNo2_quantity': 10, 'ProductNo2_price': 50000, 'ProductNo2_releaseYear': 2023}\n"
          ]
        }
      ],
      "source": [
        "#type your code here\n",
        "print(product_details)"
      ],
      "execution_count": 31
    },
    {
      "cell_type": "markdown",
      "metadata": {
        "id": "e6a0af57-8dee-4f7d-a463-58f598af235a"
      },
      "source": [
        "<details> <summary>Click here for the solution</summary>\n",
        "\n",
        "```python\n",
        "\n",
        "print(inventory)\n",
        "\n",
        "```\n",
        "\n",
        "</details>\n"
      ]
    },
    {
      "cell_type": "markdown",
      "metadata": {
        "id": "c903b750-ca6d-4d32-b75a-cbed417df116"
      },
      "source": [
        "## Task-7 Check if `ProductNo1_releaseYear` and `ProductNo2_releaseYear` is in the inventory\n"
      ]
    },
    {
      "cell_type": "code",
      "metadata": {
        "id": "2b6bc82e-7ac1-49a8-ad46-22de06edad9a",
        "colab": {
          "base_uri": "https://localhost:8080/"
        },
        "outputId": "fb4df72d-e230-4495-c8dd-aae6e01bf5f6"
      },
      "outputs": [
        {
          "output_type": "stream",
          "name": "stdout",
          "text": [
            "True\n",
            "True\n"
          ]
        }
      ],
      "source": [
        "#Type your code here\n",
        "\n",
        "print('ProductNo1_releaseYear' in product_details)\n",
        "print('ProductNo2_releaseYear' in product_details)"
      ],
      "execution_count": 39
    },
    {
      "cell_type": "markdown",
      "metadata": {
        "id": "916e9906-48db-42d9-9e2d-89e4afbf026c"
      },
      "source": [
        " <details> <summary>Click here for the solution</summary>\n",
        "\n",
        "```python\n",
        "\n",
        "\"ProductNo1_releaseYear\" in inventory\n",
        "\"ProductNo2_releaseYear\" in inventory\n",
        "\n",
        "```\n",
        "\n",
        "</details>\n"
      ]
    },
    {
      "cell_type": "markdown",
      "metadata": {
        "id": "d7cfdfb5-133f-4817-8b38-46930cac254c"
      },
      "source": [
        "**As in inventory `Release year` is not required, let's delete it.**\n"
      ]
    },
    {
      "cell_type": "markdown",
      "metadata": {
        "id": "6ba1457d-3e01-4d79-92fa-645a1299e55a"
      },
      "source": [
        "## Task-8 Delete release year of both the products from the inventory\n"
      ]
    },
    {
      "cell_type": "code",
      "metadata": {
        "id": "9433de28-b32b-442d-bcca-4d50f85feb99",
        "colab": {
          "base_uri": "https://localhost:8080/"
        },
        "outputId": "ab39857d-35c0-4473-ea7e-f0d40d40788d"
      },
      "outputs": [
        {
          "output_type": "execute_result",
          "data": {
            "text/plain": [
              "{'ProductNo1': 'Mobile phone',\n",
              " 'ProductNo1_quantity': 5,\n",
              " 'ProductNo1_price': 20000,\n",
              " 'ProductNo2': 'Laptop',\n",
              " 'ProductNo2_quantity': 10,\n",
              " 'ProductNo2_price': 50000}"
            ]
          },
          "metadata": {},
          "execution_count": 46
        }
      ],
      "source": [
        "#Type your code here\n",
        "del(product_details['ProductNo1_releaseYear'])\n",
        "del(product_details['ProductNo2_releaseYear'])\n",
        "product_details"
      ],
      "execution_count": 46
    },
    {
      "cell_type": "markdown",
      "metadata": {
        "id": "a3ea1042-5bb0-4f18-8da4-5f85f8e40932"
      },
      "source": [
        "\n",
        "<details> <summary>Click here for the solution</summary>\n",
        "\n",
        "```python\n",
        "\n",
        "del(inventory[\"ProductNo1_releaseYear\"])\n",
        "del(inventory[\"ProductNo2_releaseYear\"])\n",
        "\n",
        "```\n",
        "\n",
        "</details>\n"
      ]
    },
    {
      "cell_type": "code",
      "source": [],
      "metadata": {
        "id": "m4UK30GYlfLv"
      },
      "execution_count": null,
      "outputs": []
    },
    {
      "cell_type": "markdown",
      "metadata": {
        "id": "lGfyN_4hnZj8"
      },
      "source": [
        "<h2 id=\"quiz\">Quiz on Sets</h2> ------------> From Coursera\n"
      ]
    },
    {
      "cell_type": "markdown",
      "metadata": {
        "id": "DAvN7uyynZj9"
      },
      "source": [
        "Convert the list <code>['rap','house','electronic music', 'rap']</code> to a set:\n"
      ]
    },
    {
      "cell_type": "code",
      "execution_count": 3,
      "metadata": {
        "id": "DeRbMvK7nZj9",
        "colab": {
          "base_uri": "https://localhost:8080/"
        },
        "outputId": "0da67fa4-71e3-45b5-9dd0-709fbee4ce0c"
      },
      "outputs": [
        {
          "output_type": "execute_result",
          "data": {
            "text/plain": [
              "{'electronic music', 'house', 'rap'}"
            ]
          },
          "metadata": {},
          "execution_count": 3
        }
      ],
      "source": [
        "# Write your code below and press Shift+Enter to execute\n",
        "\n",
        "S = set(['rap','house','electronic music', 'rap'])\n",
        "S"
      ]
    },
    {
      "cell_type": "markdown",
      "metadata": {
        "id": "mi8-x7S8nZj9"
      },
      "source": [
        "<details><summary>Click here for the solution</summary>\n",
        "\n",
        "```python\n",
        "set(['rap','house','electronic music','rap'])\n",
        "\n",
        "```\n",
        "\n",
        "</details>\n"
      ]
    },
    {
      "cell_type": "markdown",
      "metadata": {
        "id": "sNfXQnvJnZj9"
      },
      "source": [
        "Consider the list <code>A = [1, 2, 2, 1]</code> and set <code>B = set([1, 2, 2, 1])</code>, does <code>sum(A) == sum(B)</code>?\n"
      ]
    },
    {
      "cell_type": "code",
      "execution_count": 6,
      "metadata": {
        "id": "T8FKz92QnZj9",
        "colab": {
          "base_uri": "https://localhost:8080/"
        },
        "outputId": "87778d4c-9517-4ad3-a8e7-0b69935b000d"
      },
      "outputs": [
        {
          "output_type": "stream",
          "name": "stdout",
          "text": [
            "6\n",
            "3\n"
          ]
        }
      ],
      "source": [
        "# Write your code below and press Shift+Enter to execute\n",
        "\n",
        "A = [1, 2, 2, 1]\n",
        "B = set([1, 2, 2, 1])\n",
        "\n",
        "print(sum(A))\n",
        "print(sum(B))\n",
        "\n",
        "\n",
        "#"
      ]
    },
    {
      "cell_type": "markdown",
      "metadata": {
        "id": "7Lspm_XbnZj9"
      },
      "source": [
        "<details><summary>Click here for the solution</summary>\n",
        "\n",
        "```python\n",
        "A = [1, 2, 2, 1]  \n",
        "B = set([1, 2, 2, 1])\n",
        "print(\"the sum of A is:\", sum(A))\n",
        "print(\"the sum of B is:\", sum(B))\n",
        "\n",
        "```\n",
        "\n",
        "</details>\n"
      ]
    },
    {
      "cell_type": "markdown",
      "metadata": {
        "id": "Vl7YL_LKnZj-"
      },
      "source": [
        "Create a new set <code>album_set3</code> that is the union of <code>album_set1</code> and <code>album_set2</code>:\n"
      ]
    },
    {
      "cell_type": "code",
      "execution_count": 8,
      "metadata": {
        "id": "ph-DWNH5nZj-",
        "colab": {
          "base_uri": "https://localhost:8080/"
        },
        "outputId": "66dc69aa-10e8-4000-c3e3-f91824b00f5f"
      },
      "outputs": [
        {
          "output_type": "execute_result",
          "data": {
            "text/plain": [
              "{'AC/DC', 'Back in Black', 'The Dark Side of the Moon', 'Thriller'}"
            ]
          },
          "metadata": {},
          "execution_count": 8
        }
      ],
      "source": [
        "# Write your code below and press Shift+Enter to execute\n",
        "\n",
        "album_set1 = set([\"Thriller\", 'AC/DC', 'Back in Black'])\n",
        "album_set2 = set([ \"AC/DC\", \"Back in Black\", \"The Dark Side of the Moon\"])\n",
        "\n",
        "album_set3 =album_set1.union(album_set2)\n",
        "\n",
        "album_set3"
      ]
    },
    {
      "cell_type": "markdown",
      "metadata": {
        "id": "V3o4X-fAnZj-"
      },
      "source": [
        "<details><summary>Click here for the solution</summary>\n",
        "\n",
        "```python\n",
        "album_set3 = album_set1.union(album_set2)\n",
        "album_set3\n",
        "\n",
        "```\n",
        "\n",
        "</details>\n"
      ]
    },
    {
      "cell_type": "markdown",
      "metadata": {
        "id": "VNLKRZySnZj-"
      },
      "source": [
        "Find out if <code>album_set1</code> is a subset of <code>album_set3</code>:\n"
      ]
    },
    {
      "cell_type": "code",
      "execution_count": 11,
      "metadata": {
        "id": "RA0Gs6ZFnZj-",
        "colab": {
          "base_uri": "https://localhost:8080/"
        },
        "outputId": "6347434c-a5e7-4f9e-9d66-82399c7b3efd"
      },
      "outputs": [
        {
          "output_type": "execute_result",
          "data": {
            "text/plain": [
              "True"
            ]
          },
          "metadata": {},
          "execution_count": 11
        }
      ],
      "source": [
        "# Write your code below and press Shift+Enter to execute\n",
        "album_set1.issubset(album_set3)"
      ]
    },
    {
      "cell_type": "markdown",
      "metadata": {
        "id": "ZwXG7uPsnZj_"
      },
      "source": [
        "<details><summary>Click here for the solution</summary>\n",
        "\n",
        "```python\n",
        "album_set1.issubset(album_set3)\n",
        "\n",
        "```\n",
        "\n",
        "</details>\n"
      ]
    }
  ]
}