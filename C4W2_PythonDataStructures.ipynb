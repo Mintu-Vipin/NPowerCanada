{
  "nbformat": 4,
  "nbformat_minor": 0,
  "metadata": {
    "colab": {
      "provenance": [],
      "authorship_tag": "ABX9TyOWarK1H0OjAZDCoPgyrcwg",
      "include_colab_link": true
    },
    "kernelspec": {
      "name": "python3",
      "display_name": "Python 3"
    },
    "language_info": {
      "name": "python"
    }
  },
  "cells": [
    {
      "cell_type": "markdown",
      "metadata": {
        "id": "view-in-github",
        "colab_type": "text"
      },
      "source": [
        "<a href=\"https://colab.research.google.com/github/Mintu-Vipin/NPowerCanada/blob/main/C4W2_PythonDataStructures.ipynb\" target=\"_parent\"><img src=\"https://colab.research.google.com/assets/colab-badge.svg\" alt=\"Open In Colab\"/></a>"
      ]
    },
    {
      "cell_type": "markdown",
      "source": [
        "#Articulate\n",
        "\n",
        "#Dictionary, List, Tuples and Sets"
      ],
      "metadata": {
        "id": "EDQpZzbHm0UG"
      }
    },
    {
      "cell_type": "code",
      "source": [],
      "metadata": {
        "id": "RmBBcYjrm15Z"
      },
      "execution_count": null,
      "outputs": []
    },
    {
      "cell_type": "markdown",
      "metadata": {
        "id": "27aa67f3-1e57-4f0f-8aa1-b6735c075ab7"
      },
      "source": [
        "<h2 id=\"quiz\">Quiz on List</h2>---------> From Coursera\n"
      ]
    },
    {
      "cell_type": "markdown",
      "metadata": {
        "id": "2dd55d53-00cb-4e2f-9cee-5c843593cf99"
      },
      "source": [
        "Create a list <code>a_list</code>, with the following elements <code>1</code>, <code>hello</code>, <code>\\[1,2,3]</code> and <code>True</code>.\n"
      ]
    },
    {
      "cell_type": "code",
      "metadata": {
        "id": "59e03825-ef68-4b1a-b11e-ba50bb15315f",
        "colab": {
          "base_uri": "https://localhost:8080/"
        },
        "outputId": "e9aadfca-5d1b-4dd9-c728-15ee98d240bb"
      },
      "outputs": [
        {
          "output_type": "execute_result",
          "data": {
            "text/plain": [
              "[1, 'hello', [1, 2, 3], True]"
            ]
          },
          "metadata": {},
          "execution_count": 3
        }
      ],
      "source": [
        "# Write your code below and press Shift+Enter to execute\n",
        "a_list = [1, \"hello\", [1,2,3], True]\n",
        "a_list"
      ],
      "execution_count": null
    },
    {
      "cell_type": "markdown",
      "metadata": {
        "id": "ab526254-0e8e-45c6-ad23-97c7a3e32195"
      },
      "source": [
        "<details><summary>Click here for the solution</summary>\n",
        "\n",
        "```python\n",
        "a_list = [1, 'hello', [1, 2, 3] , True]\n",
        "a_list\n",
        "\n",
        "```\n",
        "\n",
        "</details>\n"
      ]
    },
    {
      "cell_type": "markdown",
      "metadata": {
        "id": "1dcbad24-db10-498c-8588-8db292c24b5c"
      },
      "source": [
        "Find the value stored at index 1 of <code>a_list</code>.\n"
      ]
    },
    {
      "cell_type": "code",
      "metadata": {
        "id": "ad272f97-0b27-400d-858d-41f450c39d42",
        "colab": {
          "base_uri": "https://localhost:8080/",
          "height": 35
        },
        "outputId": "36e6be6f-fe94-4cbc-e841-1665afe49967"
      },
      "outputs": [
        {
          "output_type": "execute_result",
          "data": {
            "text/plain": [
              "'hello'"
            ],
            "application/vnd.google.colaboratory.intrinsic+json": {
              "type": "string"
            }
          },
          "metadata": {},
          "execution_count": 4
        }
      ],
      "source": [
        "# Write your code below and press Shift+Enter to execute\n",
        "a_list[1]"
      ],
      "execution_count": 4
    },
    {
      "cell_type": "markdown",
      "metadata": {
        "id": "c270c65f-86ac-4634-912b-3f97cf3c943b"
      },
      "source": [
        "<details><summary>Click here for the solution</summary>\n",
        "\n",
        "```python\n",
        "a_list[1]\n",
        "\n",
        "```\n",
        "\n",
        "</details>\n"
      ]
    },
    {
      "cell_type": "markdown",
      "metadata": {
        "id": "ed8a37d9-8faf-4047-a496-59d8906d733c"
      },
      "source": [
        "Retrieve the elements stored at index 1, 2 and 3 of <code>a_list</code>.\n"
      ]
    },
    {
      "cell_type": "code",
      "metadata": {
        "id": "8f4d10b9-48f8-4bc1-9d8f-e580b9c5e7b8",
        "colab": {
          "base_uri": "https://localhost:8080/"
        },
        "outputId": "3833f24e-2386-4c5d-d4f5-fa9f4c57007e"
      },
      "outputs": [
        {
          "output_type": "execute_result",
          "data": {
            "text/plain": [
              "['hello', [1, 2, 3], True]"
            ]
          },
          "metadata": {},
          "execution_count": 5
        }
      ],
      "source": [
        "# Write your code below and press Shift+Enter to execute\n",
        "a_list[1:4]\n"
      ],
      "execution_count": 5
    },
    {
      "cell_type": "markdown",
      "metadata": {
        "id": "73583273-147c-457b-bff5-fc2868b77f6f"
      },
      "source": [
        "<details><summary>Click here for the solution</summary>\n",
        "\n",
        "```python\n",
        "a_list[1:4]\n",
        "\n",
        "```\n",
        "\n",
        "</details>\n"
      ]
    },
    {
      "cell_type": "markdown",
      "metadata": {
        "id": "1531c9ba-630a-429d-aa7f-42d5288498f6"
      },
      "source": [
        "Concatenate the following lists <code>A = \\[1, 'a']</code> and <code>B = \\[2, 1, 'd']</code>:\n"
      ]
    },
    {
      "cell_type": "code",
      "metadata": {
        "id": "7990241a-a0e5-4f28-a8b9-90705fb78000",
        "colab": {
          "base_uri": "https://localhost:8080/"
        },
        "outputId": "b1ca55a6-4dbd-4012-b55c-94f8c27b0ee8"
      },
      "outputs": [
        {
          "output_type": "execute_result",
          "data": {
            "text/plain": [
              "[1, 'a', 2, 1, 'd']"
            ]
          },
          "metadata": {},
          "execution_count": 6
        }
      ],
      "source": [
        "# Write your code below and press Shift+Enter to execute\n",
        "A = [1, 'a']\n",
        "B = [2, 1, 'd']\n",
        "\n",
        "A+B\n"
      ],
      "execution_count": 6
    },
    {
      "cell_type": "markdown",
      "metadata": {
        "id": "1c9bb65b-4424-484f-aa9e-e9204aa3a572"
      },
      "source": [
        "<details><summary>Click here for the solution</summary>\n",
        "\n",
        "```python\n",
        "A = [1, 'a']\n",
        "B = [2, 1, 'd']\n",
        "A + B\n",
        "\n",
        "```\n",
        "\n",
        "</details>\n"
      ]
    },
    {
      "cell_type": "markdown",
      "metadata": {
        "id": "0de7c800-1571-477f-9db6-dc7b2f28304f"
      },
      "source": [
        "<center>\n",
        "\n",
        "# Scenario : Shopping list\n",
        "    \n",
        "</center>\n"
      ]
    },
    {
      "cell_type": "markdown",
      "metadata": {
        "id": "2adbcf25-c654-40b2-a19c-9d44138e4107"
      },
      "source": [
        "# Task-1  Create an empty list\n",
        "At first we need to create a empty list for storing the items to buy in Shopping list.\n"
      ]
    },
    {
      "cell_type": "code",
      "metadata": {
        "id": "fee349c5-15f5-4199-883f-5b2bd5fcdf11"
      },
      "outputs": [],
      "source": [
        "#Type your code here\n",
        "shopping_list = []"
      ],
      "execution_count": 8
    },
    {
      "cell_type": "markdown",
      "metadata": {
        "id": "9d3581bc-45c6-4c1c-b861-dfb576f56763"
      },
      "source": [
        "<details><summary>Click here for the solution</summary>\n",
        "\n",
        "```python\n",
        "Shopping_list=[]\n",
        "\n",
        "```\n",
        "\n",
        "</details>\n"
      ]
    },
    {
      "cell_type": "markdown",
      "metadata": {
        "id": "eb57d6fc-ffb8-448c-8dd1-1cb5695ef3e0"
      },
      "source": [
        "# Task-2 Now store the number of items to the shopping_list\n",
        "* Watch\n",
        "* Laptop\n",
        "* Shoes\n",
        "* Pen\n",
        "* Clothes\n",
        "\n",
        "\n",
        "<br>\n",
        "\n"
      ]
    },
    {
      "cell_type": "code",
      "metadata": {
        "id": "f091e356-e3a5-4cd8-8c69-4f36f97faa23"
      },
      "outputs": [],
      "source": [
        "#Type your code here\n",
        "shopping_list =[\"Watch\", \"Laptop\", \"Shoes\", \"Pen\", \"Clothes\"]"
      ],
      "execution_count": 9
    },
    {
      "cell_type": "markdown",
      "metadata": {
        "id": "0f65faa3-92e8-4ada-b804-bffb62469760"
      },
      "source": [
        "<details><summary>Click here for the hint </summary>\n",
        "\n",
        "```python\n",
        "Hint:- Directly store every item as a different string in the list.\n",
        "\n",
        "```\n",
        "\n",
        "</details>\n"
      ]
    },
    {
      "cell_type": "markdown",
      "metadata": {
        "id": "d9f202ba-1d0f-4092-9f17-c15f2bede836"
      },
      "source": [
        "<details><summary>Click here for the solution</summary>\n",
        "\n",
        "```python\n",
        "Shopping_list=[\"Watch\",\"Laptop\",\"Shoes\",\"Pen\",\"Clothes\"]\n",
        "\n",
        "```\n",
        "\n",
        "</details>\n"
      ]
    },
    {
      "cell_type": "markdown",
      "metadata": {
        "id": "3de852a5-36ad-4233-accb-8d7ba4f1ad80"
      },
      "source": [
        "# Task-3 Add a new item to the shopping_list\n",
        "Seems like I missed one item \"Football\" to add in the shopping list.\n",
        "<br>\n"
      ]
    },
    {
      "cell_type": "code",
      "metadata": {
        "id": "93d08931-2a6b-4507-96f4-12c58123c37f",
        "colab": {
          "base_uri": "https://localhost:8080/"
        },
        "outputId": "c083dbdb-6bbd-4a4d-fd7e-8c77b94508ec"
      },
      "outputs": [
        {
          "output_type": "execute_result",
          "data": {
            "text/plain": [
              "['Watch', 'Laptop', 'Shoes', 'Pen', 'Clothes', 'Football', 'Football']"
            ]
          },
          "metadata": {},
          "execution_count": 19
        }
      ],
      "source": [
        "#Type your code here\n",
        "shopping_list.append(\"Football\")\n",
        "shopping_list"
      ],
      "execution_count": 19
    },
    {
      "cell_type": "markdown",
      "metadata": {
        "id": "c6a92e02-b92d-44e5-ab11-1e7f9db01774"
      },
      "source": [
        "<details><summary>Click here for the hint </summary>\n",
        "\n",
        "```python\n",
        "Hint:- Use `Append()` method for adding \"Football\" to our shopping list\n",
        "\n",
        "```\n",
        "\n",
        "</details>\n"
      ]
    },
    {
      "cell_type": "markdown",
      "metadata": {
        "id": "c73a3418-1565-44b3-ad4e-3f0b36dfe4a4"
      },
      "source": [
        "<details><summary>Click here for the solution</summary>\n",
        "\n",
        "```python\n",
        "Shopping_list.append(\"Football\")\n",
        "\n",
        "```\n",
        "\n",
        "</details>\n"
      ]
    },
    {
      "cell_type": "markdown",
      "metadata": {
        "id": "168f3aa9-48bc-4ffa-b4f0-82f2d8c2736a"
      },
      "source": [
        "# Task-4 Print First item from the shopping_list\n",
        "Let's check the first item that we need to buy.\n",
        "<br>\n"
      ]
    },
    {
      "cell_type": "code",
      "metadata": {
        "id": "5bf98b0e-edc3-4105-a7d7-8c31939c5b82",
        "colab": {
          "base_uri": "https://localhost:8080/",
          "height": 35
        },
        "outputId": "d86f695c-f180-4341-fea6-71cd85070084"
      },
      "outputs": [
        {
          "output_type": "execute_result",
          "data": {
            "text/plain": [
              "'Watch'"
            ],
            "application/vnd.google.colaboratory.intrinsic+json": {
              "type": "string"
            }
          },
          "metadata": {},
          "execution_count": 20
        }
      ],
      "source": [
        "#Type your code here\n",
        "shopping_list[0]"
      ],
      "execution_count": 20
    },
    {
      "cell_type": "markdown",
      "metadata": {
        "id": "79fd52a3-7524-4f7f-80d1-0d658ecfe1ca"
      },
      "source": [
        "<details><summary>Click here for the hint </summary>\n",
        "\n",
        "```python\n",
        "**Hint:-** Use `indexing` for checking the first item.\n",
        "\n",
        "```\n",
        "\n",
        "</details>\n"
      ]
    },
    {
      "cell_type": "markdown",
      "metadata": {
        "id": "3141f642-a5b4-4875-b9bd-0ce61b387137"
      },
      "source": [
        "<details><summary>Click here for the solution</summary>\n",
        "\n",
        "```python\n",
        "print(Shopping_list[0])\n",
        "\n",
        "```\n",
        "\n",
        "</details>\n"
      ]
    },
    {
      "cell_type": "markdown",
      "metadata": {
        "id": "31c72df0-4b6f-42ec-834e-201738a205d8"
      },
      "source": [
        "# Task-5 Print Last item from the shopping_list\n",
        "Let's check the last time that we need to buy.\n",
        "<br>\n"
      ]
    },
    {
      "cell_type": "code",
      "metadata": {
        "id": "1de895ab-241f-43e0-b851-9597901a1f54",
        "colab": {
          "base_uri": "https://localhost:8080/",
          "height": 35
        },
        "outputId": "82486491-809e-4c24-8aa7-a8148b5cd688"
      },
      "outputs": [
        {
          "output_type": "execute_result",
          "data": {
            "text/plain": [
              "'Football'"
            ],
            "application/vnd.google.colaboratory.intrinsic+json": {
              "type": "string"
            }
          },
          "metadata": {},
          "execution_count": 21
        }
      ],
      "source": [
        "#Type your code here\n",
        "\n",
        "shopping_list[-1]"
      ],
      "execution_count": 21
    },
    {
      "cell_type": "markdown",
      "metadata": {
        "id": "49124b74-9c70-47d3-9a84-63d26ed526dc"
      },
      "source": [
        "<details><summary>Click here for the hint </summary>\n",
        "\n",
        "```python\n",
        "Hint:- Use `indexing` for checking for last item.\n",
        "\n",
        "```\n",
        "\n",
        "</details>\n"
      ]
    },
    {
      "cell_type": "markdown",
      "metadata": {
        "id": "422cb327-3809-4a3d-b971-fc34a777c866"
      },
      "source": [
        "<details><summary>Click here for the solution</summary>\n",
        "\n",
        "```python\n",
        "print(Shopping_list[-1])\n",
        "\n",
        "```\n",
        "\n",
        "</details>\n"
      ]
    },
    {
      "cell_type": "markdown",
      "metadata": {
        "id": "25346c75-ff18-4adf-9245-8b77f4c0c54d"
      },
      "source": [
        "# Task-6 Print the entire Shopping List\n"
      ]
    },
    {
      "cell_type": "code",
      "metadata": {
        "id": "09f423c2-199b-4a79-8737-701e2f30fd91",
        "colab": {
          "base_uri": "https://localhost:8080/"
        },
        "outputId": "82280278-084e-4c2e-aaaa-d40b61dd2cc1"
      },
      "outputs": [
        {
          "output_type": "stream",
          "name": "stdout",
          "text": [
            "['Watch', 'Laptop', 'Shoes', 'Pen', 'Clothes', 'Football', 'Football']\n"
          ]
        }
      ],
      "source": [
        "#Type your code here.\n",
        "print(shopping_list)"
      ],
      "execution_count": 22
    },
    {
      "cell_type": "markdown",
      "metadata": {
        "id": "12aba380-9015-4d19-b96e-f8a2bb539f58"
      },
      "source": [
        "<details><summary>Click here for the solution</summary>\n",
        "\n",
        "```python\n",
        "print(Shopping_list)\n",
        "\n",
        "```\n",
        "\n",
        "</details>\n"
      ]
    },
    {
      "cell_type": "markdown",
      "metadata": {
        "id": "03fd2048-8cbc-48b1-b091-ec2fcc91ec66"
      },
      "source": [
        "# Task-7 Print the item that are important to buy from the Shopping List\n",
        "Print \"Laptop\" and \"shoes\"\n"
      ]
    },
    {
      "cell_type": "code",
      "metadata": {
        "id": "761e63fe-9ad8-48ab-8932-9e49061e15ac",
        "colab": {
          "base_uri": "https://localhost:8080/"
        },
        "outputId": "0f2360a6-6416-4cf2-e0a9-aeac24f3f668"
      },
      "outputs": [
        {
          "output_type": "execute_result",
          "data": {
            "text/plain": [
              "['Laptop', 'Shoes']"
            ]
          },
          "metadata": {},
          "execution_count": 23
        }
      ],
      "source": [
        "#Type your code here\n",
        "shopping_list[1:3]"
      ],
      "execution_count": 23
    },
    {
      "cell_type": "markdown",
      "metadata": {
        "id": "8463669f-c838-4148-b247-10c7c45417b7"
      },
      "source": [
        "<details><summary>Click here for the hint </summary>\n",
        "\n",
        "```python\n",
        "Hint:- Use `slicing` to print \"Laptop\" and \"Shoes\"\n",
        "\n",
        "```\n",
        "\n",
        "</details>\n"
      ]
    },
    {
      "cell_type": "markdown",
      "metadata": {
        "id": "e0e57de8-48c0-455f-864b-a15e0ad56bf3"
      },
      "source": [
        "<details><summary>Click here for the solution</summary>\n",
        "\n",
        "```python\n",
        "print(Shopping_list[1:3])\n",
        "\n",
        "```\n",
        "\n",
        "</details>\n"
      ]
    },
    {
      "cell_type": "markdown",
      "metadata": {
        "id": "3adfe40b-4b88-4ba3-966a-4627b34c2e92"
      },
      "source": [
        "# Task-8 Change the item from the shopping_list\n",
        "Instead of <u>\"Pen\"</u> I want to buy <u>\"Notebook\"</u>\n",
        "let's change the item stored in the list.\n",
        "<br>\n",
        "\n"
      ]
    },
    {
      "cell_type": "code",
      "metadata": {
        "id": "c4bd35c7-a046-40eb-b02e-62cdb69936ad",
        "colab": {
          "base_uri": "https://localhost:8080/"
        },
        "outputId": "4ffc2de0-80f0-46bf-88ef-b90c503022a8"
      },
      "outputs": [
        {
          "output_type": "execute_result",
          "data": {
            "text/plain": [
              "['Watch', 'Laptop', 'Shoes', 'Notebook', 'Clothes', 'Football', 'Football']"
            ]
          },
          "metadata": {},
          "execution_count": 26
        }
      ],
      "source": [
        "#Type your code here\n",
        "shopping_list[3] = (\"Notebook\")\n",
        "shopping_list\n"
      ],
      "execution_count": 26
    },
    {
      "cell_type": "markdown",
      "metadata": {
        "id": "ec66f6fd-4e6e-45b5-9c14-94258f83abb1"
      },
      "source": [
        "<details><summary>Click here for the hint </summary>\n",
        "\n",
        "```python\n",
        "Hint:- Locate the item you want to change using `index`, and Update the item with the new desired value using `string`.\n",
        "\n",
        "```\n",
        "\n",
        "</details>\n"
      ]
    },
    {
      "cell_type": "markdown",
      "metadata": {
        "id": "68299b11-001f-41b7-89a0-b59f684cfff6"
      },
      "source": [
        "<details><summary>Click here for the solution</summary>\n",
        "\n",
        "```python\n",
        "Shopping_list[3] = \"Notebook\"\n",
        "\n",
        "```\n",
        "\n",
        "</details>\n"
      ]
    },
    {
      "cell_type": "markdown",
      "metadata": {
        "id": "f8cd69c6-a450-4f2d-b632-3e789c2693a3"
      },
      "source": [
        "# Task-9 Delete the item from the shopping_list that is not required\n",
        "Let's delete items that are unimportant, such as; I don't want to buy <u>Clothes</u>, let's delete it.\n",
        "<br>\n",
        "\n"
      ]
    },
    {
      "cell_type": "code",
      "metadata": {
        "id": "4d3bc9ee-0f14-4295-af7d-52224143ef3e",
        "colab": {
          "base_uri": "https://localhost:8080/"
        },
        "outputId": "f932e2b4-fad4-41f1-cc0c-538d80321413"
      },
      "outputs": [
        {
          "output_type": "execute_result",
          "data": {
            "text/plain": [
              "['Watch', 'Laptop', 'Shoes', 'Notebook', 'Football']"
            ]
          },
          "metadata": {},
          "execution_count": 28
        }
      ],
      "source": [
        "#Type your code here\n",
        "del shopping_list[4]\n",
        "shopping_list\n"
      ],
      "execution_count": 28
    },
    {
      "cell_type": "markdown",
      "metadata": {
        "id": "99c48030-340c-42b2-9c53-74626180309b"
      },
      "source": [
        "<details><summary>Click here for the hint </summary>\n",
        "\n",
        "```python\n",
        "Hint:- Use `del` method for deleting.\n",
        "\n",
        "```\n",
        "\n",
        "</details>\n"
      ]
    },
    {
      "cell_type": "markdown",
      "metadata": {
        "id": "895d1dc2-00dc-42bb-8ddd-677b06ec7bb2"
      },
      "source": [
        "<details><summary>Click here for the solution</summary>\n",
        "\n",
        "```python\n",
        "del (shopping_list[4])\n",
        "\n",
        "```\n",
        "\n",
        "</details>\n"
      ]
    },
    {
      "cell_type": "markdown",
      "metadata": {
        "id": "19541aeb-db6b-4d19-be63-134a408500d7"
      },
      "source": [
        "# Task-10 Print the shopping list\n",
        "We are ready with our shopping list.\n"
      ]
    },
    {
      "cell_type": "code",
      "metadata": {
        "id": "020593a7-d50e-49c0-8e03-28e9c9f0d3af",
        "colab": {
          "base_uri": "https://localhost:8080/"
        },
        "outputId": "daf78d8e-e512-44e0-e18d-91f80b17d8a2"
      },
      "outputs": [
        {
          "output_type": "stream",
          "name": "stdout",
          "text": [
            "['Watch', 'Laptop', 'Shoes', 'Notebook', 'Football']\n"
          ]
        }
      ],
      "source": [
        "# Type your code here\n",
        "print(shopping_list)"
      ],
      "execution_count": 29
    },
    {
      "cell_type": "markdown",
      "metadata": {
        "id": "5f320017-18b3-4075-84ba-66c6132d6328"
      },
      "source": [
        "<details><summary>Click here for the solution</summary>\n",
        "\n",
        "```python\n",
        "print(Shopping_list)\n",
        "\n",
        "```\n",
        "\n",
        "</details>\n"
      ]
    }
  ]
}