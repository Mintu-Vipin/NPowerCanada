{
  "cells": [
    {
      "cell_type": "markdown",
      "metadata": {
        "id": "view-in-github",
        "colab_type": "text"
      },
      "source": [
        "<a href=\"https://colab.research.google.com/github/Mintu-Vipin/NPowerCanada_JuniorDataAnalyst/blob/main/Course9Week1_Web_Scraping_Lab.ipynb\" target=\"_parent\"><img src=\"https://colab.research.google.com/assets/colab-badge.svg\" alt=\"Open In Colab\"/></a>"
      ]
    },
    {
      "cell_type": "markdown",
      "metadata": {
        "id": "P_MfFfM5Gv8t"
      },
      "source": [
        "<p style=\"text-align:center\">\n",
        "    <a href=\"https://skills.network/?utm_medium=Exinfluencer&utm_source=Exinfluencer&utm_content=000026UJ&utm_term=10006555&utm_id=NA-SkillsNetwork-Channel-SkillsNetworkCoursesIBMDA0321ENSkillsNetwork928-2022-01-01\" target=\"_blank\">\n",
        "    <img src=\"https://cf-courses-data.s3.us.cloud-object-storage.appdomain.cloud/assets/logos/SN_web_lightmode.png\" width=\"200\" alt=\"Skills Network Logo\"  />\n",
        "    </a>\n",
        "</p>\n"
      ]
    },
    {
      "cell_type": "markdown",
      "metadata": {
        "id": "pZcvq4g1Gv8u"
      },
      "source": [
        "# **Hands-on Lab : Web Scraping**\n"
      ]
    },
    {
      "cell_type": "markdown",
      "metadata": {
        "id": "Z9jkaUeGGv8u"
      },
      "source": [
        "Estimated time needed: **30 to 45** minutes\n"
      ]
    },
    {
      "cell_type": "markdown",
      "metadata": {
        "id": "PRkQDp16Gv8u"
      },
      "source": [
        "## Objectives\n"
      ]
    },
    {
      "cell_type": "markdown",
      "metadata": {
        "id": "Tyxvxa1GGv8u"
      },
      "source": [
        "In this lab you will perform the following:\n"
      ]
    },
    {
      "cell_type": "markdown",
      "metadata": {
        "id": "Tx7Hg-pcGv8u"
      },
      "source": [
        "* Extract information from a given web site\n",
        "* Write the scraped data into a csv file.\n"
      ]
    },
    {
      "cell_type": "markdown",
      "metadata": {
        "id": "_-5GZ027Gv8u"
      },
      "source": [
        "## Extract information from the given web site\n",
        "You will extract the data from the below web site: <br>\n"
      ]
    },
    {
      "cell_type": "code",
      "execution_count": 1,
      "metadata": {
        "id": "rXa-fwICGv8v"
      },
      "outputs": [],
      "source": [
        "#this url contains the data you need to scrape\n",
        "url = \"https://cf-courses-data.s3.us.cloud-object-storage.appdomain.cloud/IBM-DA0321EN-SkillsNetwork/labs/datasets/Programming_Languages.html\""
      ]
    },
    {
      "cell_type": "markdown",
      "metadata": {
        "id": "UYkXTLE4Gv8v"
      },
      "source": [
        "The data you need to scrape is the **name of the programming language** and **average annual salary**.<br> It is a good idea to open the url in your web broswer and study the contents of the web page before you start to scrape.\n"
      ]
    },
    {
      "cell_type": "markdown",
      "metadata": {
        "id": "OAA7Rw1DGv8v"
      },
      "source": [
        "Import the required libraries\n"
      ]
    },
    {
      "cell_type": "code",
      "execution_count": 2,
      "metadata": {
        "id": "siCqeLCzGv8v"
      },
      "outputs": [],
      "source": [
        "import requests\n",
        "from bs4 import BeautifulSoup\n",
        "import pandas as pd"
      ]
    },
    {
      "cell_type": "markdown",
      "metadata": {
        "id": "6RgGywRsGv8v"
      },
      "source": [
        "Download the webpage at the url\n"
      ]
    },
    {
      "cell_type": "code",
      "execution_count": 3,
      "metadata": {
        "colab": {
          "base_uri": "https://localhost:8080/"
        },
        "id": "9TJvIaoFGv8v",
        "outputId": "56ab61a8-2182-4c06-958c-a9b2fcf8fb54"
      },
      "outputs": [
        {
          "output_type": "execute_result",
          "data": {
            "text/plain": [
              "200"
            ]
          },
          "metadata": {},
          "execution_count": 3
        }
      ],
      "source": [
        "response = requests.get(url)\n",
        "response.status_code"
      ]
    },
    {
      "cell_type": "markdown",
      "metadata": {
        "id": "qZDyv7pRGv8w"
      },
      "source": [
        "Create a soup object\n"
      ]
    },
    {
      "cell_type": "code",
      "execution_count": 4,
      "metadata": {
        "colab": {
          "base_uri": "https://localhost:8080/"
        },
        "id": "caU-sSU8Gv8w",
        "outputId": "503b458f-e17c-436a-ddab-0f6372dc493b"
      },
      "outputs": [
        {
          "output_type": "execute_result",
          "data": {
            "text/plain": [
              "<!DOCTYPE html>\n",
              "\n",
              "<html lang=\"en\">\n",
              "<head>\n",
              "<title>\n",
              "Salary survey results of programming languages\n",
              "</title>\n",
              "<style>\n",
              "table, th, td {\n",
              "  border: 1px solid black;\n",
              "}\n",
              "</style>\n",
              "</head>\n",
              "<body>\n",
              "<hr/>\n",
              "<h2>Popular Programming Languages</h2>\n",
              "<hr/>\n",
              "<p>Finding out which is the best language is a tough task. A programming language is created to solve a specific problem. A language which is good for task A may not be able to properly handle task B. Comparing programming language is never easy. What we can do, however, is find which is popular in the industry.</p>\n",
              "<p>There are many ways to find the popularity of a programming languages. Counting the number of google searchs for each language is a simple way to find the popularity. GitHub and StackOverflow also can give some good pointers.</p>\n",
              "<p>Salary surveys are a way to find out the programmings languages that are most in demand in the industry. Below table is the result of one such survey. When using any survey keep in mind that the results vary year on year.</p>\n",
              "<hr/>\n",
              "<table>\n",
              "<tbody>\n",
              "<tr>\n",
              "<td>No.</td>\n",
              "<td>Language</td>\n",
              "<td>Created By</td>\n",
              "<td>Average Annual Salary</td>\n",
              "<td>Learning Difficulty</td>\n",
              "</tr>\n",
              "<tr>\n",
              "<td>1</td>\n",
              "<td>Python</td>\n",
              "<td>Guido van Rossum</td>\n",
              "<td>$114,383</td>\n",
              "<td>Easy</td>\n",
              "</tr>\n",
              "<tr>\n",
              "<td>2</td>\n",
              "<td>Java</td>\n",
              "<td>James Gosling</td>\n",
              "<td>$101,013</td>\n",
              "<td>Easy</td>\n",
              "</tr>\n",
              "<tr>\n",
              "<td>3</td>\n",
              "<td>R</td>\n",
              "<td>Robert Gentleman, Ross Ihaka</td>\n",
              "<td>$92,037</td>\n",
              "<td>Hard</td>\n",
              "</tr>\n",
              "<tr>\n",
              "<td>4</td>\n",
              "<td>Javascript</td>\n",
              "<td>Netscape</td>\n",
              "<td>$110,981</td>\n",
              "<td>Easy</td>\n",
              "</tr>\n",
              "<tr>\n",
              "<td>5</td>\n",
              "<td>Swift</td>\n",
              "<td>Apple</td>\n",
              "<td>$130,801</td>\n",
              "<td>Easy</td>\n",
              "</tr>\n",
              "<tr>\n",
              "<td>6</td>\n",
              "<td>C++</td>\n",
              "<td>Bjarne Stroustrup</td>\n",
              "<td>$113,865</td>\n",
              "<td>Hard</td>\n",
              "</tr>\n",
              "<tr>\n",
              "<td>7</td>\n",
              "<td>C#</td>\n",
              "<td>Microsoft</td>\n",
              "<td>$88,726</td>\n",
              "<td>Hard</td>\n",
              "</tr>\n",
              "<tr>\n",
              "<td>8</td>\n",
              "<td>PHP</td>\n",
              "<td>Rasmus Lerdorf</td>\n",
              "<td>$84,727</td>\n",
              "<td>Easy</td>\n",
              "</tr>\n",
              "<tr>\n",
              "<td>9</td>\n",
              "<td>SQL</td>\n",
              "<td>Donald D. Chamberlin, Raymond F. Boyce.</td>\n",
              "<td>$84,793</td>\n",
              "<td>Easy</td>\n",
              "</tr>\n",
              "<tr>\n",
              "<td>10</td>\n",
              "<td>Go</td>\n",
              "<td>Robert Griesemer, Ken Thompson, Rob Pike.</td>\n",
              "<td>$94,082</td>\n",
              "<td>Difficult</td>\n",
              "</tr>\n",
              "</tbody>\n",
              "</table>\n",
              "<hr/>\n",
              "</body>\n",
              "</html>"
            ]
          },
          "metadata": {},
          "execution_count": 4
        }
      ],
      "source": [
        "soup = BeautifulSoup(response.content, 'html.parser')\n",
        "soup"
      ]
    },
    {
      "cell_type": "markdown",
      "metadata": {
        "id": "Y_RC5le8Gv8w"
      },
      "source": [
        "Scrape the `Language name` and `annual average salary`.\n"
      ]
    },
    {
      "cell_type": "code",
      "execution_count": 15,
      "metadata": {
        "colab": {
          "base_uri": "https://localhost:8080/"
        },
        "id": "KUm4CgDzGv8w",
        "outputId": "3028766c-89a0-411a-f5c4-4d668ed40035"
      },
      "outputs": [
        {
          "output_type": "stream",
          "name": "stdout",
          "text": [
            "   Language Name Average Salary\n",
            "1         Python       $114,383\n",
            "2           Java       $101,013\n",
            "3              R        $92,037\n",
            "4     Javascript       $110,981\n",
            "5          Swift       $130,801\n",
            "6            C++       $113,865\n",
            "7             C#        $88,726\n",
            "8            PHP        $84,727\n",
            "9            SQL        $84,793\n",
            "10            Go        $94,082\n"
          ]
        }
      ],
      "source": [
        "df = pd.DataFrame(columns=['Language Name', 'Average Salary'])\n",
        "\n",
        "for row in soup.find(\"tbody\").find_all(\"tr\"):\n",
        " col = row.find_all(\"td\")\n",
        " language = col[1].text\n",
        " salary = col[3].text\n",
        " df = df._append({'Language Name' : language, 'Average Salary' : salary}, ignore_index=True)\n",
        "\n",
        "df.drop(index=df.index[0], axis=0, inplace=True)\n",
        "print(df)"
      ]
    },
    {
      "cell_type": "markdown",
      "metadata": {
        "id": "-d-TUkdGGv8w"
      },
      "source": [
        "Save the scrapped data into a file named *popular-languages.csv*\n"
      ]
    },
    {
      "cell_type": "code",
      "execution_count": 16,
      "metadata": {
        "id": "EnwPndgWGv8w"
      },
      "outputs": [],
      "source": [
        "df.to_csv('popular-languages.csv')"
      ]
    },
    {
      "cell_type": "markdown",
      "metadata": {
        "id": "QLw-e5BgGv8w"
      },
      "source": [
        "## Authors\n"
      ]
    },
    {
      "cell_type": "markdown",
      "metadata": {
        "id": "Or7ZTKF1Gv8x"
      },
      "source": [
        "Ramesh Sannareddy\n"
      ]
    },
    {
      "cell_type": "markdown",
      "metadata": {
        "id": "yAmqoKFmGv8x"
      },
      "source": [
        "### Other Contributors\n"
      ]
    },
    {
      "cell_type": "markdown",
      "metadata": {
        "id": "1wEJy3r7Gv8x"
      },
      "source": [
        "Rav Ahuja\n"
      ]
    },
    {
      "cell_type": "markdown",
      "metadata": {
        "id": "F6JGePTGGv8x"
      },
      "source": [
        "## Change Log\n"
      ]
    },
    {
      "cell_type": "markdown",
      "metadata": {
        "id": "HhrfGGu5Gv8x"
      },
      "source": [
        "|  Date (YYYY-MM-DD) |  Version | Changed By  |  Change Description |\n",
        "|---|---|---|---|\n",
        "| 2020-10-17  | 0.1  | Ramesh Sannareddy  |  Created initial version of the lab |\n"
      ]
    },
    {
      "cell_type": "markdown",
      "metadata": {
        "id": "ZCUL4mWuGv8x"
      },
      "source": [
        " Copyright &copy; 2020 IBM Corporation. This notebook and its source code are released under the terms of the [MIT License](https://cognitiveclass.ai/mit-license/?utm_medium=Exinfluencer&utm_source=Exinfluencer&utm_content=000026UJ&utm_term=10006555&utm_id=NA-SkillsNetwork-Channel-SkillsNetworkCoursesIBMDA0321ENSkillsNetwork928-2022-01-01).\n"
      ]
    }
  ],
  "metadata": {
    "kernelspec": {
      "display_name": "Python",
      "language": "python",
      "name": "conda-env-python-py"
    },
    "language_info": {
      "name": ""
    },
    "colab": {
      "provenance": [],
      "include_colab_link": true
    }
  },
  "nbformat": 4,
  "nbformat_minor": 0
}