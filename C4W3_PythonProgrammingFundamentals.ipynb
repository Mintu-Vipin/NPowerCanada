{
  "nbformat": 4,
  "nbformat_minor": 0,
  "metadata": {
    "colab": {
      "provenance": [],
      "authorship_tag": "ABX9TyO+ObY/7GHdAG1r2vGS+FQ9",
      "include_colab_link": true
    },
    "kernelspec": {
      "name": "python3",
      "display_name": "Python 3"
    },
    "language_info": {
      "name": "python"
    }
  },
  "cells": [
    {
      "cell_type": "markdown",
      "metadata": {
        "id": "view-in-github",
        "colab_type": "text"
      },
      "source": [
        "<a href=\"https://colab.research.google.com/github/Mintu-Vipin/NPowerCanada_JuniorDataAnalyst/blob/main/C4W3_PythonProgrammingFundamentals.ipynb\" target=\"_parent\"><img src=\"https://colab.research.google.com/assets/colab-badge.svg\" alt=\"Open In Colab\"/></a>"
      ]
    },
    {
      "cell_type": "markdown",
      "source": [
        "# **Coursera**"
      ],
      "metadata": {
        "id": "knaMB-BC3XfW"
      }
    },
    {
      "cell_type": "markdown",
      "source": [
        "# **Conditions & Branching**"
      ],
      "metadata": {
        "id": "nKgpBC-A7Si1"
      }
    },
    {
      "cell_type": "markdown",
      "metadata": {
        "id": "fdeb6886-cc5f-40ab-a1e1-465faaf94f03"
      },
      "source": [
        "<h2 id=\"quiz\">Practise Exercises</h2>\n"
      ]
    },
    {
      "cell_type": "markdown",
      "metadata": {
        "id": "c406a406-4545-412a-836c-45287291e94a"
      },
      "source": [
        "##### 1. There are 2 sisters, Annie and Jane, born in 1996 and 1999 respectively. They want to know who was born in a leap year. Write an if-else statement to determine who was born in a leap year.\n"
      ]
    },
    {
      "cell_type": "code",
      "metadata": {
        "id": "314631b7-9200-4138-acfa-a7f8697f8ee0",
        "colab": {
          "base_uri": "https://localhost:8080/"
        },
        "outputId": "f89f3fc5-0897-4ead-bab6-e4b5e9e16d3e"
      },
      "outputs": [
        {
          "output_type": "stream",
          "name": "stdout",
          "text": [
            "Annie born in leap year\n",
            "Jane born in not a leap year\n"
          ]
        }
      ],
      "source": [
        "# Write your code below and press Shift+Enter to execute\n",
        "def check(year):\n",
        "  if(year%4==0):\n",
        "   return (\"leap year\")\n",
        "  else:\n",
        "    return (\"not a leap year\")\n",
        "\n",
        "# Annie\n",
        "print('Annie born in',check(1996))\n",
        "# # Jane\n",
        "print('Jane born in',check(1999))"
      ],
      "execution_count": 1
    },
    {
      "cell_type": "markdown",
      "metadata": {
        "id": "58fe621e-5989-42c8-9205-e0df77ce26c8"
      },
      "source": [
        "<details><summary>Click here for the hint</summary>\n",
        "\n",
        "A leap year is one that is divisible by 4\n",
        "\n",
        "</details>\n"
      ]
    },
    {
      "cell_type": "markdown",
      "metadata": {
        "id": "3e497eca-2694-4aa9-bf16-5e1bcb37300d"
      },
      "source": [
        "<details><summary>Click here for the solution</summary>\n",
        "\n",
        "```python\n",
        "Annie=1996\n",
        "Jane=1999\n",
        "if Annie%4==0:\n",
        "    print(\"Annie was born in a leap year\")\n",
        "elif Jane%4==0:\n",
        "    print(\"Jane was born in a leap year\")\n",
        "else:\n",
        "    print(\"None of them were born in a leap year\")\n",
        "\n",
        "```\n",
        "\n",
        "</details>\n"
      ]
    },
    {
      "cell_type": "markdown",
      "metadata": {
        "id": "1c311f01-2238-4b24-b7cf-bc246e6248fd"
      },
      "source": [
        "##### 2. In a school canteen, children under the age of 9 are only given milk porridge for breakfast. Children from 10 to 14 are given a sandwich, and children from 15 to 17 are given a burger. The canteen master asks the age of the student and gives them breakfast accordingly. Sam's age is 10. Use if-else statement to determine what the canteen master will offer to him.\n"
      ]
    },
    {
      "cell_type": "code",
      "metadata": {
        "id": "a79a577e-6308-4295-b814-c68643fe1008",
        "colab": {
          "base_uri": "https://localhost:8080/"
        },
        "outputId": "eab54b0f-f2ed-46a2-b254-7335afbea13a"
      },
      "outputs": [
        {
          "output_type": "stream",
          "name": "stdout",
          "text": [
            "Sam will get burger\n"
          ]
        }
      ],
      "source": [
        "# Write your code below and press Shift+Enter to execute\n",
        "def food(age):\n",
        "  if age<9:\n",
        "    return 'milk porridge'\n",
        "  elif age in range(10,18):\n",
        "    return 'burger'\n",
        "\n",
        "sam_age = 10\n",
        "\n",
        "print(\"Sam will get\", food(sam_age))\n"
      ],
      "execution_count": 2
    },
    {
      "cell_type": "markdown",
      "metadata": {
        "id": "356a7a4a-2fe3-4205-9535-0b1a396851cc"
      },
      "source": [
        "<details><summary>Click here for the hint</summary>\n",
        "\n",
        "<p>For each range of age, create an if condition and print what the student will get according to their age<p>\n",
        "\n",
        "</details>\n"
      ]
    },
    {
      "cell_type": "markdown",
      "metadata": {
        "id": "1b12d9f2-e8cb-4a18-9be3-83a73a0a359f"
      },
      "source": [
        "<details><summary>Click here for the solution</summary>\n",
        "\n",
        "```python\n",
        "age = 10\n",
        "if age <=9:\n",
        "    print (\"You will get a bowl of porridge!\")\n",
        "elif age>=10 and age<=14:\n",
        "    print (\"You will get a sandwich!\")\n",
        "elif age>=15 and age<=17:\n",
        "    print(\"You will get a burger!\")\n",
        "    \n",
        "```\n",
        "\n",
        "</details>\n"
      ]
    },
    {
      "cell_type": "markdown",
      "source": [
        "# **Loops**"
      ],
      "metadata": {
        "id": "MzYTEsT4hhHc"
      }
    },
    {
      "cell_type": "markdown",
      "metadata": {
        "id": "21fe9199-cd7b-4573-b8d3-66b74631f8d9"
      },
      "source": [
        "<h2 id=\"quiz\">Practise Exercises on Loops</h2>\n"
      ]
    },
    {
      "cell_type": "markdown",
      "metadata": {
        "id": "d8a449e0-081e-4aa9-af29-10785a8eff6c"
      },
      "source": [
        "Write a <code>for</code> loop the prints out all the element between <b>-5</b> and <b>5</b> using the range function.\n"
      ]
    },
    {
      "cell_type": "code",
      "metadata": {
        "id": "b71fa842-0269-4798-b8d1-88b7148f741f",
        "colab": {
          "base_uri": "https://localhost:8080/"
        },
        "outputId": "4c0c71d6-f63d-46f5-dcc2-3f7b9ffc9254"
      },
      "outputs": [
        {
          "output_type": "stream",
          "name": "stdout",
          "text": [
            "-4\n",
            "-3\n",
            "-2\n",
            "-1\n",
            "0\n",
            "1\n",
            "2\n",
            "3\n",
            "4\n"
          ]
        }
      ],
      "source": [
        "# Write your code below and press Shift+Enter to execute\n",
        "for number in range(-4,5):\n",
        "  print(number)"
      ],
      "execution_count": 3
    },
    {
      "cell_type": "markdown",
      "metadata": {
        "id": "548ead57-2249-4346-b8c5-36bd3ff1a7eb"
      },
      "source": [
        "<details><summary>Click here for the solution</summary>\n",
        "\n",
        "```python\n",
        "for i in range(-4, 5):\n",
        "    print(i)\n",
        "    \n",
        "```\n",
        "\n",
        "</details>\n"
      ]
    },
    {
      "cell_type": "markdown",
      "metadata": {
        "id": "f0648f96-1a24-43de-a46d-c9a886f85d10"
      },
      "source": [
        "Print the elements of the following list:\n",
        "<code>Genres=[ 'rock', 'R&B', 'Soundtrack', 'R&B', 'soul', 'pop']</code>\n",
        "Make sure you follow Python conventions.\n"
      ]
    },
    {
      "cell_type": "code",
      "metadata": {
        "id": "fe608a6f-ef16-490a-9486-08b2346e9ed2",
        "colab": {
          "base_uri": "https://localhost:8080/"
        },
        "outputId": "0427b55d-a653-4522-9cdc-eaee47258ace"
      },
      "outputs": [
        {
          "output_type": "stream",
          "name": "stdout",
          "text": [
            "rock\n",
            "R&B\n",
            "Soundtrack\n",
            "R&B\n",
            "soul\n",
            "pop\n"
          ]
        }
      ],
      "source": [
        "# Write your code below and press Shift+Enter to execute\n",
        "Genres=[ 'rock', 'R&B', 'Soundtrack', 'R&B', 'soul', 'pop']\n",
        "for genre in Genres:\n",
        "  print(genre)"
      ],
      "execution_count": 4
    },
    {
      "cell_type": "markdown",
      "metadata": {
        "id": "28e6acbd-f5e3-476d-a717-12e468d01295"
      },
      "source": [
        "<details><summary>Click here for the solution</summary>\n",
        "\n",
        "```python\n",
        "Genres = ['rock', 'R&B', 'Soundtrack', 'R&B', 'soul', 'pop']\n",
        "for Genre in Genres:\n",
        "    print(Genre)\n",
        "    \n",
        "```\n",
        "\n",
        "</details>\n"
      ]
    },
    {
      "cell_type": "markdown",
      "metadata": {
        "id": "9da142b2-667d-4946-b85b-3cd2cd883d5d"
      },
      "source": [
        "<hr>\n"
      ]
    },
    {
      "cell_type": "markdown",
      "metadata": {
        "id": "c3c22e47-6ee3-4e03-8e70-cf08e306274b"
      },
      "source": [
        "Write a for loop that prints out the following list: <code>squares=['red', 'yellow', 'green', 'purple', 'blue']</code>\n"
      ]
    },
    {
      "cell_type": "code",
      "metadata": {
        "id": "573edc30-8eb4-400b-9ef5-699db2bb1327",
        "colab": {
          "base_uri": "https://localhost:8080/"
        },
        "outputId": "60f46610-58db-425a-fea3-83522abfbb8e"
      },
      "outputs": [
        {
          "output_type": "stream",
          "name": "stdout",
          "text": [
            "red\n",
            "yellow\n",
            "green\n",
            "purple\n",
            "blue\n"
          ]
        }
      ],
      "source": [
        "# Write your code below and press Shift+Enter to execute\n",
        "squares=['red', 'yellow', 'green', 'purple', 'blue']\n",
        "for color in squares:\n",
        "  print(color)"
      ],
      "execution_count": 5
    },
    {
      "cell_type": "markdown",
      "metadata": {
        "id": "4a4aae44-dd4e-4b9e-b1d7-ed7b6839d3bc"
      },
      "source": [
        "<details><summary>Click here for the solution</summary>\n",
        "\n",
        "```python\n",
        "squares=['red', 'yellow', 'green', 'purple', 'blue']\n",
        "for square in squares:\n",
        "    print(square)\n",
        "    \n",
        "```\n",
        "\n",
        "</details>\n"
      ]
    },
    {
      "cell_type": "markdown",
      "metadata": {
        "id": "49154a0a-de9f-4336-bed9-ac72080fe03a"
      },
      "source": [
        "<hr>\n"
      ]
    },
    {
      "cell_type": "markdown",
      "metadata": {
        "id": "22c37648-bdae-42fb-8435-35bd185ce5e5"
      },
      "source": [
        "Write a while loop to display the values of the Rating of an album playlist stored in the list <code>PlayListRatings</code>. If the score is less than 6, exit the loop. The list <code>PlayListRatings</code> is given by: <code>PlayListRatings = [10, 9.5, 10, 8, 7.5, 5, 10, 10]</code>\n"
      ]
    },
    {
      "cell_type": "code",
      "metadata": {
        "id": "8f0677d8-9112-4341-afcd-420727effe56",
        "colab": {
          "base_uri": "https://localhost:8080/"
        },
        "outputId": "818568be-4eef-427c-eb3b-df978a6c2a67"
      },
      "outputs": [
        {
          "output_type": "stream",
          "name": "stdout",
          "text": [
            "10\n",
            "9.5\n",
            "10\n",
            "8\n",
            "7.5\n"
          ]
        }
      ],
      "source": [
        "# Write your code below and press Shift+Enter to execute\n",
        "PlayListRatings = [10, 9.5, 10, 8, 7.5, 5, 10, 10]\n",
        "i=0\n",
        "while(PlayListRatings[i]>=6):\n",
        "  print(PlayListRatings[i])\n",
        "  i+=1"
      ],
      "execution_count": 6
    },
    {
      "cell_type": "markdown",
      "metadata": {
        "id": "6f68bc45-2bae-444b-82ac-6d433519cd49"
      },
      "source": [
        "<details><summary>Click here for the solution</summary>\n",
        "\n",
        "```python\n",
        "PlayListRatings = [10, 9.5, 10, 8, 7.5, 5, 10, 10]\n",
        "i = 0\n",
        "rating = PlayListRatings[0]\n",
        "while(i < len(PlayListRatings) and rating >= 6):\n",
        "    print(rating)\n",
        "    i = i + 1\n",
        "    rating = PlayListRatings[i]    \n",
        "```\n",
        "\n",
        "</details>\n"
      ]
    },
    {
      "cell_type": "markdown",
      "metadata": {
        "id": "5e44c0b8-dff5-4ab7-928a-c899f1503754"
      },
      "source": [
        "Write a while loop to copy the strings <code>'orange'</code> of the list <code>squares</code> to the list <code>new_squares</code>. Stop and exit the loop if the value on the list is not <code>'orange'</code>:\n"
      ]
    },
    {
      "cell_type": "code",
      "metadata": {
        "id": "f5de7dc9-10ac-41c1-89bf-57a94070ceb8",
        "colab": {
          "base_uri": "https://localhost:8080/"
        },
        "outputId": "d8e3dd7d-e3e5-4b68-c3d6-bdc69ef33017"
      },
      "outputs": [
        {
          "output_type": "stream",
          "name": "stdout",
          "text": [
            "['orange', 'orange']\n"
          ]
        }
      ],
      "source": [
        "# Write your code below and press Shift+Enter to execute\n",
        "\n",
        "squares = ['orange', 'orange', 'purple', 'blue ', 'orange']\n",
        "new_squares = []\n",
        "i=0\n",
        "while(squares[i] == 'orange'):\n",
        "  new_squares.append(squares[i])\n",
        "  i+=1\n",
        "print(new_squares)"
      ],
      "execution_count": 7
    },
    {
      "cell_type": "markdown",
      "metadata": {
        "id": "24fd4725-bbc8-4da4-93d2-77d68f6343be"
      },
      "source": [
        "<details><summary>Click here for the solution</summary>\n",
        "\n",
        "```python\n",
        "squares = ['orange', 'orange', 'purple', 'blue ', 'orange']\n",
        "new_squares = []\n",
        "i = 0\n",
        "while(i < len(squares) and squares[i] == 'orange'):\n",
        "    new_squares.append(squares[i])\n",
        "    i = i + 1\n",
        "print (new_squares)\n",
        "    \n",
        "```\n",
        "\n",
        "</details>\n",
        "\n"
      ]
    },
    {
      "cell_type": "markdown",
      "metadata": {
        "id": "4df186c3-1ddb-40fc-a2a4-8c979c2a060c"
      },
      "source": [
        "### Some real-life problems!\n"
      ]
    },
    {
      "cell_type": "markdown",
      "metadata": {
        "id": "afde4adb-f125-428f-922e-9158cab60bb0"
      },
      "source": [
        "Your little brother has just learned multiplication tables in school. Today he has learned tables of 6 and 7. Help him memorise both the tables by printing them using <code>for</code> loop.\n"
      ]
    },
    {
      "cell_type": "code",
      "metadata": {
        "id": "eb5ae970-c447-4467-aa9a-252148e3d342",
        "colab": {
          "base_uri": "https://localhost:8080/"
        },
        "outputId": "c3b0eb57-37a7-48ab-a882-d749c6dcb29d"
      },
      "outputs": [
        {
          "output_type": "stream",
          "name": "stdout",
          "text": [
            "1 * 6 = 6\n",
            "2 * 6 = 12\n",
            "3 * 6 = 18\n",
            "4 * 6 = 24\n",
            "5 * 6 = 30\n",
            "6 * 6 = 36\n",
            "7 * 6 = 42\n",
            "8 * 6 = 48\n",
            "9 * 6 = 54\n",
            "10 * 6 = 60\n",
            "11 * 6 = 66\n",
            "12 * 6 = 72\n",
            "\n",
            "\n",
            "1 * 7 = 7\n",
            "2 * 7 = 14\n",
            "3 * 7 = 21\n",
            "4 * 7 = 28\n",
            "5 * 7 = 35\n",
            "6 * 7 = 42\n",
            "7 * 7 = 49\n",
            "8 * 7 = 56\n",
            "9 * 7 = 63\n",
            "10 * 7 = 70\n",
            "11 * 7 = 77\n",
            "12 * 7 = 84\n"
          ]
        }
      ],
      "source": [
        "# Write your code here\n",
        "def multiplication_table(number):\n",
        "  for i in range(1,13):\n",
        "    print(i,'*',number,'=', i*number);\n",
        "\n",
        "multiplication_table(6)\n",
        "print('\\n')\n",
        "multiplication_table(7)"
      ],
      "execution_count": 8
    },
    {
      "cell_type": "markdown",
      "metadata": {
        "id": "51284656-ce30-4387-994d-4f1765906aed"
      },
      "source": [
        "<details><summary>Click here for the hint</summary>\n",
        "\n",
        "Write two for loops. One to print the multiplication table of 6 and the other for 7\n",
        "\n",
        "</details>\n"
      ]
    },
    {
      "cell_type": "markdown",
      "metadata": {
        "id": "b1f5569d-9805-4fae-ab07-7c9a1dd34830"
      },
      "source": [
        "<details><summary>Click here for the solution</summary>\n",
        "\n",
        "```python\n",
        "print(\"Multiplication table of 6:\")\n",
        "for i in range (10):\n",
        "    print(\"6*\",i,\"=\",6*i)\n",
        "print(\"Multiplication table of 7:\")\n",
        "for i in range (10):\n",
        "    print(\"7*\",i,\"=\",7*i)\n",
        "    \n",
        "```\n",
        "\n",
        "</details>\n"
      ]
    },
    {
      "cell_type": "markdown",
      "metadata": {
        "id": "e1d10e4a-bceb-45c0-b7dc-7aa6374b1d5e"
      },
      "source": [
        "<hr>\n"
      ]
    },
    {
      "cell_type": "markdown",
      "metadata": {
        "id": "e14a85b8-0ae8-4266-ac91-b7123e2d6421"
      },
      "source": [
        "The following is a list of animals in a National Zoo.\n",
        "<code>Animals = [\"lion\", \"giraffe\", \"gorilla\", \"parrots\", \"crocodile\",\"deer\", \"swan\"]</code>\n",
        "\n",
        "Your brother needs to write an essay on the animals whose names are made of 7 letters. Help him find those animals through a <code>while</code> loop and create a separate list of such animals.\n"
      ]
    },
    {
      "cell_type": "code",
      "metadata": {
        "id": "ab9c4dd8-bdd3-429f-90cf-6dcbcaedbefb",
        "colab": {
          "base_uri": "https://localhost:8080/"
        },
        "outputId": "a6b894bf-ebd4-42da-a8a3-05ca6abc54ed"
      },
      "outputs": [
        {
          "output_type": "stream",
          "name": "stdout",
          "text": [
            "['giraffe', 'gorilla', 'parrots']\n"
          ]
        }
      ],
      "source": [
        "# Write your code here\n",
        "Animals = [\"lion\", \"giraffe\", \"gorilla\", \"parrots\", \"crocodile\",\"deer\", \"swan\"]\n",
        "animals7 = []\n",
        "i =0\n",
        "while(i<len(Animals)):\n",
        "  if(len(Animals[i])==7):\n",
        "    animals7.append(Animals[i])\n",
        "    i+=1\n",
        "  else:\n",
        "    i+=1\n",
        "print(animals7)"
      ],
      "execution_count": 9
    },
    {
      "cell_type": "markdown",
      "metadata": {
        "id": "7e804728-56de-4f26-9f7e-63be54dd52d6"
      },
      "source": [
        "<details><summary>Click here for hint</summary>\n",
        "\n",
        "Use while loop to iterate over the elements of the list. Use if-else statement inside the for loop to check the length of each element and if the length is 7, add the element to a new list.\n",
        "\n",
        "</details>\n"
      ]
    },
    {
      "cell_type": "markdown",
      "metadata": {
        "id": "8b095bd0-7b88-443d-8efa-bb27a98694c0"
      },
      "source": [
        "<details><summary>Click here for the solution</summary>\n",
        "\n",
        "```python\n",
        "\n",
        "Animals = [\"lion\", \"giraffe\", \"gorilla\", \"parrots\", \"crocodile\",\"deer\", \"swan\"]\n",
        "New = []\n",
        "i=0\n",
        "while i<len(Animals):\n",
        "    j=Animals[i]\n",
        "    if(len(j)==7):\n",
        "        New.append(j)\n",
        "    i=i+1\n",
        "print(New)\n",
        "    \n",
        "```\n",
        "\n",
        "</details>\n"
      ]
    },
    {
      "cell_type": "markdown",
      "source": [
        "# **Functions**"
      ],
      "metadata": {
        "id": "CXNtq0B9oR2K"
      }
    },
    {
      "cell_type": "markdown",
      "metadata": {
        "id": "895d46d9-3307-4542-888e-d63118ef102d"
      },
      "source": [
        "<h2>Quiz on Functions</h2>\n"
      ]
    },
    {
      "cell_type": "markdown",
      "metadata": {
        "id": "31b6d2a8-975e-4719-9819-378b559b7c5a"
      },
      "source": [
        "Come up with a function that divides the first input by the second input:\n"
      ]
    },
    {
      "cell_type": "code",
      "metadata": {
        "id": "b664089c-f3b2-47dd-b3ee-9bfb65f4bda8",
        "colab": {
          "base_uri": "https://localhost:8080/"
        },
        "outputId": "bc80fe7c-6e09-46a8-f8cc-f227c457583d"
      },
      "outputs": [
        {
          "output_type": "execute_result",
          "data": {
            "text/plain": [
              "5.0"
            ]
          },
          "metadata": {},
          "execution_count": 10
        }
      ],
      "source": [
        "# Write your code below and press Shift+Enter to execute\n",
        "def div(a,b):\n",
        "  return a/b\n",
        "div(10,2)"
      ],
      "execution_count": 10
    },
    {
      "cell_type": "markdown",
      "metadata": {
        "id": "a78c3636-65ac-4e84-9cf6-4d9e865b6d74"
      },
      "source": [
        "<details><summary>Click here for the solution</summary>\n",
        "\n",
        "```python\n",
        "def div(a, b):\n",
        "    return(a/b)\n",
        "    \n",
        "```\n",
        "\n",
        "</details>\n"
      ]
    },
    {
      "cell_type": "markdown",
      "metadata": {
        "id": "28f0f119-bf39-4e74-b607-62e716d1c11c"
      },
      "source": [
        "<hr>\n"
      ]
    },
    {
      "cell_type": "markdown",
      "metadata": {
        "id": "10a8abf5-f863-4081-b672-73f883ef6c0d"
      },
      "source": [
        "Use the function <code>con</code> for the following question.\n"
      ]
    },
    {
      "cell_type": "code",
      "metadata": {
        "id": "a354e7dc-41af-49f4-b816-6ff7e101a7ca"
      },
      "outputs": [],
      "source": [
        "# Use the con function for the following question\n",
        "\n",
        "def con(a, b):\n",
        "    return(a + b)"
      ],
      "execution_count": 11
    },
    {
      "cell_type": "markdown",
      "metadata": {
        "id": "653da421-5361-4ab8-a0d7-439b7564bdf4"
      },
      "source": [
        "Can the <code>con</code> function we defined before be used to add two integers or strings?\n"
      ]
    },
    {
      "cell_type": "code",
      "metadata": {
        "id": "f7ccf00c-af20-454f-b2a7-9a3b4545cf1e",
        "colab": {
          "base_uri": "https://localhost:8080/"
        },
        "outputId": "eeda20ac-83df-494d-ff4d-2e13119cdbcb"
      },
      "outputs": [
        {
          "output_type": "execute_result",
          "data": {
            "text/plain": [
              "3"
            ]
          },
          "metadata": {},
          "execution_count": 12
        }
      ],
      "source": [
        "# Write your code below and press Shift+Enter to execute\n",
        "# Yes\n",
        "con(1,2)\n"
      ],
      "execution_count": 12
    },
    {
      "cell_type": "markdown",
      "metadata": {
        "id": "b45ab1ff-4b72-466a-82e4-6dd959e0a105"
      },
      "source": [
        "<details><summary>Click here for the solution</summary>\n",
        "\n",
        "```python\n",
        "Yes, for example:\n",
        "con(2, 2)\n",
        "    \n",
        "```\n",
        "\n",
        "</details>\n"
      ]
    },
    {
      "cell_type": "markdown",
      "metadata": {
        "id": "75d73963-21bb-4c56-b2cd-aa17baec0071"
      },
      "source": [
        "<hr>\n"
      ]
    },
    {
      "cell_type": "markdown",
      "metadata": {
        "id": "ce84f793-f512-4523-80a3-2ec66cedc55a"
      },
      "source": [
        "Can the <code>con</code> function we defined before be used to concatenate lists or tuples?\n"
      ]
    },
    {
      "cell_type": "code",
      "metadata": {
        "id": "2d35c0e1-a9c2-4e59-a50d-5afccc1de5a7",
        "colab": {
          "base_uri": "https://localhost:8080/"
        },
        "outputId": "6a52d6ee-8052-402a-f0bb-ce7ac9a1cc23"
      },
      "outputs": [
        {
          "output_type": "execute_result",
          "data": {
            "text/plain": [
              "[1, 2, 3, 4]"
            ]
          },
          "metadata": {},
          "execution_count": 13
        }
      ],
      "source": [
        "# Write your code below and press Shift+Enter to execute\n",
        "# Yes\n",
        "con([1,2],[3,4])\n"
      ],
      "execution_count": 13
    },
    {
      "cell_type": "markdown",
      "metadata": {
        "id": "e89d9aab-b112-4129-ae0e-5578ea779d43"
      },
      "source": [
        "<details><summary>Click here for the solution</summary>\n",
        "\n",
        "```python\n",
        "Yes, for example:\n",
        "con(['a', 1], ['b', 1])\n",
        "    \n",
        "```\n",
        "\n",
        "</details>\n"
      ]
    },
    {
      "cell_type": "markdown",
      "metadata": {
        "id": "cbfc2c51-b7d1-40d0-9b1b-5032d288fff9"
      },
      "source": [
        "Write a function code to find total count of word `little` in the given string:\n",
        "`\"Mary had a little lamb Little lamb, little lamb Mary had a little lamb.Its fleece was white as snow And everywhere that Mary went Mary went, Mary went Everywhere that Mary went The lamb was sure to go\"**`\n"
      ]
    },
    {
      "cell_type": "code",
      "metadata": {
        "id": "4fe184c1-9372-4a91-9fee-2600857247e8",
        "colab": {
          "base_uri": "https://localhost:8080/"
        },
        "outputId": "43b062f6-d7f8-4b23-e593-7e0b95f7253f"
      },
      "outputs": [
        {
          "output_type": "execute_result",
          "data": {
            "text/plain": [
              "3"
            ]
          },
          "metadata": {},
          "execution_count": 14
        }
      ],
      "source": [
        "# Write your code below and press Shift+Enter to execute\n",
        "def count(sentence):\n",
        "  word='little'\n",
        "  words = sentence.split()\n",
        "  count =0\n",
        "  # print(len(words))\n",
        "  for i in range(0,(len(words)-1)):\n",
        "    if word in words[i]:\n",
        "     count+=1\n",
        "  return count\n",
        "\n",
        "count(\"Mary had a little lamb Little lamb, little lamb Mary had a little lamb.Its fleece was white as snow And everywhere that Mary went Mary went, Mary went Everywhere that Mary went The lamb was sure to go\")\n"
      ],
      "execution_count": 14
    },
    {
      "cell_type": "markdown",
      "metadata": {
        "id": "3a28596b-5260-4fe7-905a-e5901d5261d8"
      },
      "source": [
        "<details><summary>Click here for the solution</summary>\n",
        "\n",
        "```python\n",
        "# Python Program to Count words in a String using Dictionary\n",
        "def freq(string,passedkey):\n",
        "\n",
        "    #step1: A list variable is declared and initialized to an empty list.\n",
        "    words = []\n",
        "\n",
        "    #step2: Break the string into list of words\n",
        "    words = string.split() # or string.lower().split()\n",
        "\n",
        "    #step3: Declare a dictionary\n",
        "    Dict = {}\n",
        "\n",
        "    #step4: Use for loop to iterate words and values to the dictionary\n",
        "    for key in words:\n",
        "        if(key == passedkey):\n",
        "            Dict[key] = words.count(key)   \n",
        "    #step5: Print the dictionary\n",
        "    print(\"Total Count:\",Dict)\n",
        "\n",
        "#step6: Call function and pass string in it\n",
        "freq(\"Mary had a little lamb Little lamb, little lamb Mary had a little lamb.Its fleece was white as snow And everywhere that Mary went Mary went, Mary went \\\n",
        "Everywhere that Mary went The lamb was sure to go\",\"little\")\n",
        "    \n",
        "```\n",
        "\n",
        "</details>\n"
      ]
    },
    {
      "cell_type": "markdown",
      "source": [
        "# **Exception Handling**"
      ],
      "metadata": {
        "id": "wEyo5RnS2N2E"
      }
    },
    {
      "cell_type": "markdown",
      "metadata": {
        "id": "b56dfee9-3454-4ea0-90da-79a05bf50cdc"
      },
      "source": [
        "<center>\n",
        "    \n",
        "    \n",
        "# Practice Exercises\n",
        "\n",
        "</center>\n"
      ]
    },
    {
      "cell_type": "markdown",
      "metadata": {
        "id": "ab6c92f6-161d-401e-96d5-55b55a62f32e"
      },
      "source": [
        "## Exercise 1: Handling ZeroDivisionError\n"
      ]
    },
    {
      "cell_type": "markdown",
      "metadata": {
        "id": "55a786f9-0e4a-4e9f-bf72-1496419bd17b"
      },
      "source": [
        "Imagine you have two numbers and want to determine what happens when you divide one number by the other. To do this, you need to create a Python function called `safe_divide.` You give this function two numbers, a `'numerator'` and a `'denominator'`. The 'numerator' is the number you want to divide, and the `'denominator'` is the number you want to divide by. Use the user input method of Python to take the values.\n",
        "\n",
        "The function should be able to do the division for you and give you the result. But here's the catch: if you try to divide by zero (which is not allowed in math), the function should be smart enough to catch that and tell you that it's not possible to divide by zero. Instead of showing an error, it should return None, which means 'nothing' or 'no value', and print `\"Error: Cannot divide by Zero.`\n"
      ]
    },
    {
      "cell_type": "code",
      "metadata": {
        "id": "d5d70116-4102-4003-9ea3-68fe3848712f",
        "colab": {
          "base_uri": "https://localhost:8080/"
        },
        "outputId": "3522b91b-26e6-42e8-f54a-25f384044ef5"
      },
      "outputs": [
        {
          "name": "stdout",
          "output_type": "stream",
          "text": [
            "Enter Numerator5\n",
            "Enter Denominator10\n"
          ]
        },
        {
          "output_type": "execute_result",
          "data": {
            "text/plain": [
              "0.5"
            ]
          },
          "metadata": {},
          "execution_count": 15
        }
      ],
      "source": [
        "# function for division\n",
        "def safe_divide(numerator,denominator):\n",
        "  try:\n",
        "    result = numerator/denominator\n",
        "    return result\n",
        "  except ZeroDivisionError:\n",
        "    print(\"Error: Cannot divide by Zero\")\n",
        "    return None\n",
        "\n",
        "# Test case\n",
        "n = int(input(\"Enter Numerator\"))\n",
        "d = int(input(\"Enter Denominator\"))\n",
        "safe_divide(n,d)"
      ],
      "execution_count": 15
    },
    {
      "cell_type": "markdown",
      "metadata": {
        "id": "13a513a4-f554-4fd3-acb0-9df76bd962d9"
      },
      "source": [
        "**Note:- Practice handling exceptions by trying different input types like using integers, strings, zero, negative values, or other data types.**\n"
      ]
    },
    {
      "cell_type": "markdown",
      "metadata": {
        "id": "d949d1ac-bd4e-4ce3-8dd5-1a7ecea9a080"
      },
      "source": [
        "<details><summary>Click here for the hints</summary>\n",
        "\n",
        "```python\n",
        "Follow these: -\n",
        "* Define a function to perform the division and use two arguments.\n",
        "* Use the try-except block to handle ZeroDivisionError.\n",
        "* Return the result of the division if no error occurs.\n",
        "* Return None if division by zero occurs.\n",
        "* take user input for numerator and denominator values.\n",
        "* call and print your function with the user inputs.\n",
        "**Note:- Test with different inputs to validate error handling.**\n",
        "```\n",
        "\n",
        "</details>\n"
      ]
    },
    {
      "cell_type": "markdown",
      "metadata": {
        "id": "be074f59-cc65-4ebf-8c19-5cea786de9f8"
      },
      "source": [
        "\n",
        "<details><summary>Click here for the solution</summary>\n",
        "\n",
        "```python\n",
        "\n",
        "def safe_divide(numerator,denominator):\n",
        "    try:\n",
        "        result = numerator / denominator\n",
        "        return result\n",
        "    except ZeroDivisionError:\n",
        "        print(\"Error: Cannot divide by zero.\")\n",
        "        return None\n",
        "# Test case\n",
        "numerator=int(input(\"Enter the numerator value:-\"))\n",
        "denominator=int(input(\"Enter the denominator value:-\"))\n",
        "print(safe_divide(numerator,denominator))\n",
        "```\n",
        "\n",
        "</details>\n"
      ]
    },
    {
      "cell_type": "markdown",
      "metadata": {
        "id": "269c7911-4e5b-41ee-b6ab-926e98bd785e"
      },
      "source": [
        "## Exercise 2: Handling ValueError\n"
      ]
    },
    {
      "cell_type": "markdown",
      "metadata": {
        "id": "608bdd17-a149-4a81-9329-7d0053fe7ce2"
      },
      "source": [
        "Imagine you have a number and want to calculate its square root. To do this, you need to create a Python function. You give this function one number, `'number1'`.\n",
        "\n",
        "The function should generate the square root value if you provide a positive integer or float value as input. However, the function should be clever enough to detect the mistake if you enter a negative value. It should kindly inform you with a message saying, `'Invalid input! Please enter a positive integer or a float value.`\n"
      ]
    },
    {
      "cell_type": "code",
      "metadata": {
        "id": "3f070461-0a06-43e2-a858-8640157624c5",
        "colab": {
          "base_uri": "https://localhost:8080/",
          "height": 54
        },
        "outputId": "f0d942c6-d918-48eb-c900-e748b4a61983"
      },
      "outputs": [
        {
          "name": "stdout",
          "output_type": "stream",
          "text": [
            "Enter the number: 9\n"
          ]
        },
        {
          "output_type": "execute_result",
          "data": {
            "text/plain": [
              "' Square root the number 9 is 3.0'"
            ],
            "application/vnd.google.colaboratory.intrinsic+json": {
              "type": "string"
            }
          },
          "metadata": {},
          "execution_count": 16
        }
      ],
      "source": [
        "#Function for generating square root\n",
        "# import package\n",
        "import math\n",
        "\n",
        "def sqrt(number1):\n",
        "  try:\n",
        "    if(number1>=1):\n",
        "      return f\" Square root the number {number} is {math.sqrt(number)}\"\n",
        "    else:\n",
        "      return 'Please enter a number greater than 1'\n",
        "  except ValueError:\n",
        "      print(\"'Invalid input! Please enter a positive integer or a float value\")\n",
        "      return None\n",
        "# Test case\n",
        "number= int(input(\"Enter the number: \"))\n",
        "sqrt(number)"
      ],
      "execution_count": 16
    },
    {
      "cell_type": "markdown",
      "metadata": {
        "id": "c9c3df9a-1c18-4ee5-b81c-9ed595d8d954"
      },
      "source": [
        "**Note:- Practice handling exceptions by trying different input types like using integers, strings, zero, negative values, or other data types.**\n"
      ]
    },
    {
      "cell_type": "markdown",
      "metadata": {
        "id": "4b0c0953-b0c8-4b1f-9213-4b8f19805245"
      },
      "source": [
        "<details><summary>Click here for the hints</summary>\n",
        "\n",
        "```python\n",
        "Follow these:-\n",
        "* Define a function to perform square root of the argument.\n",
        "* Use try-except block for error handling.\n",
        "* Use `sqrt()` function from the `math` package to calculate the square root. Catch ValueError and display the error message.\"\n",
        "* Take user input of the value, number1.\n",
        "* Test with negative numbers to validate error handling.\n",
        "```\n",
        "\n",
        "</details>\n"
      ]
    },
    {
      "cell_type": "markdown",
      "metadata": {
        "id": "860bdb9b-94ca-47ea-8896-ce15725c6e75"
      },
      "source": [
        "<details><summary>Click here for the solution</summary>\n",
        "\n",
        "```python\n",
        "import math\n",
        "\n",
        "def perform_calculation(number1):\n",
        "    try:\n",
        "        result = math.sqrt(number1)\n",
        "        print(f\"Result: {result}\")\n",
        "    except ValueError:\n",
        "        print(\"Error: Invalid input! Please enter a positive integer or a float value.\")\n",
        "# Test case\n",
        "number1=float(input(\"Enter the number:-\"))\n",
        "perform_calculation(number1)\n",
        "```\n",
        "\n",
        "**Note:- Test with different inputs to validate error handling.**\n",
        "\n",
        "</details>\n"
      ]
    },
    {
      "cell_type": "markdown",
      "metadata": {
        "id": "c155ec83-81ba-4da4-8833-968777692865"
      },
      "source": [
        "## Exercise 3: Handling Generic Exceptions\n"
      ]
    },
    {
      "cell_type": "markdown",
      "metadata": {
        "id": "8658c620-02b4-4265-b897-e28b48346fb5"
      },
      "source": [
        "Imagine you have a number and want to perform a complex mathematical task. The calculation requires dividing the value of the input argument `\"num\"` by the difference between `\"num\"` and 5, and the result has to be stored in a variable called `\"result\"`.\n",
        "\n",
        "You have to define a function so that it can perform that complex mathematical task. The function should handle any potential errors that occur during the calculation. To do this, you can use a try-except block. If any exception arises during the calculation, it should catch the error using the generic exception class `\"Exception\" as \"e\"`. When an exception occurs, the function should display `\"An error occurred during calculation.`\n"
      ]
    },
    {
      "cell_type": "code",
      "metadata": {
        "id": "411b4e71-1ba2-4589-84e5-845df48401ce",
        "colab": {
          "base_uri": "https://localhost:8080/"
        },
        "outputId": "cb8b889e-8706-40cd-fc3f-6366a163fe8b"
      },
      "outputs": [
        {
          "output_type": "stream",
          "name": "stdout",
          "text": [
            "Enter the number: 5\n",
            "An error occurred during calculation\n"
          ]
        }
      ],
      "source": [
        "#Function for math\n",
        "\n",
        "def math(num):\n",
        "  try:\n",
        "    result =num/(num-5)\n",
        "    return f\"Result is {result}\"\n",
        "  except Exception as e:\n",
        "    print(\"An error occurred during calculation\")\n",
        "\n",
        "n =int(input(\"Enter the number: \"))\n",
        "math(n)"
      ],
      "execution_count": 17
    },
    {
      "cell_type": "markdown",
      "metadata": {
        "id": "54a8360a-8d8f-492a-9fca-c26423e83524"
      },
      "source": [
        "**Note:- Practice handling exceptions by trying different input types like using integers, strings, zero, negative values, or other data types.**\n"
      ]
    },
    {
      "cell_type": "markdown",
      "metadata": {
        "id": "c09ebd04-b197-419f-aacf-a369a58325f9"
      },
      "source": [
        "<details><summary>Click here for the hints</summary>\n",
        "\n",
        "```python\n",
        "Follow these:-\n",
        "* Define a function for the complex calculation and pass any argument.\n",
        "* Use a try-except block for error handling.\n",
        "* Perform the calculation and store the result in \"result.\"\n",
        "* Catch any exceptions using Exception as e.\n",
        "* Display \"An error occurred during calculation.\" when an exception is caught.\n",
        "* take user input\n",
        "* Call the defined function with the user input\n",
        "**Note:- Test with different inputs to validate error handling.**\n",
        "```\n",
        "\n",
        "</details>\n"
      ]
    },
    {
      "cell_type": "markdown",
      "metadata": {
        "id": "00551995-96bf-45a7-9505-c3075c125b7c"
      },
      "source": [
        "<details><summary>Click here for the solution</summary>\n",
        "\n",
        "```python\n",
        "def complex_calculation(num):\n",
        "    try:\n",
        "        result = num / (num - 5)\n",
        "        print (f\"Result: {result}\")\n",
        "    except Exception as e:\n",
        "        print(\"An error occurred during calculation.\")\n",
        "# Test case\n",
        "user_input = float(input(\"Enter a number: \"))\n",
        "complex_calculation(user_input)\n",
        "```\n",
        "\n",
        "</details>\n"
      ]
    },
    {
      "cell_type": "markdown",
      "source": [
        "# **Classes**"
      ],
      "metadata": {
        "id": "4lM023hR3ML8"
      }
    },
    {
      "cell_type": "markdown",
      "metadata": {
        "id": "26c7d2dd-bc3a-451e-bcec-06319f026eb0"
      },
      "source": [
        "<center>\n",
        "    \n",
        "# Scenario: Car dealership's inventory management system\n",
        "\n",
        "</center>\n"
      ]
    },
    {
      "cell_type": "markdown",
      "metadata": {
        "id": "cbdbb186-5f4c-4640-99cf-659e69de3e1e"
      },
      "source": [
        "You are working on a Python program to simulate a car dealership's inventory management system. The system aims to model cars and their attributes accurately.\n"
      ]
    },
    {
      "cell_type": "markdown",
      "metadata": {
        "id": "b0cba00d-0353-40f7-8aac-a00222490098"
      },
      "source": [
        "### Task-1. You are tasked with creating a Python program to represent vehicles using a class. Each car should have attributes for maximum speed and mileage.\n"
      ]
    },
    {
      "cell_type": "code",
      "metadata": {
        "id": "7e604c71-2544-498f-afb3-69cb307ed7fc"
      },
      "outputs": [],
      "source": [
        "#class Vehicle\n",
        "class Vehicle:\n",
        "  # Constructor\n",
        "  def __init__(self,max_speed,mileage):\n",
        "    self.max_speed = max_speed\n",
        "    self.mileage = mileage\n"
      ],
      "execution_count": 18
    },
    {
      "cell_type": "markdown",
      "metadata": {
        "id": "2da449c3-980a-4ae2-a4b8-bf807f6ccb37"
      },
      "source": [
        "<details><summary>Click here for the solution</summary>\n",
        "\n",
        "```python\n",
        "\n",
        "class Vehicle:\n",
        "    def __init__(self, max_speed, mileage):\n",
        "        self.max_speed = max_speed\n",
        "        self.mileage = mileage\n",
        "        \n",
        "```\n",
        "\n",
        "</details>\n"
      ]
    },
    {
      "cell_type": "markdown",
      "metadata": {
        "id": "05d91b3d-6fc4-4b45-b050-80cfae413668"
      },
      "source": [
        "### Task-2. Update the class with the default color for all vehicles,\" white\".\n"
      ]
    },
    {
      "cell_type": "code",
      "metadata": {
        "id": "4ca4e8d8-ee71-4c34-ab7a-83de338df986"
      },
      "outputs": [],
      "source": [
        "#update color\n",
        "\n",
        "#class Vehicle\n",
        "class Vehicle:\n",
        "  color = 'white'\n",
        "  # Constructor\n",
        "  def __init__(self,max_speed,mileage):\n",
        "    self.max_speed = max_speed\n",
        "    self.mileage = mileage"
      ],
      "execution_count": 19
    },
    {
      "cell_type": "markdown",
      "metadata": {
        "id": "7bcd6b3e-3a2c-4b74-a5b7-c694b1551dd0"
      },
      "source": [
        "<details><summary>Click here for the solution</summary>\n",
        "\n",
        "```python\n",
        "\n",
        "class Vehicle:\n",
        "    color = \"white\"\n",
        "\n",
        "    def __init__(self, max_speed, mileage):\n",
        "        self.max_speed = max_speed\n",
        "        self.mileage = mileage\n",
        "        \n",
        "```\n",
        "\n",
        "</details>\n"
      ]
    },
    {
      "cell_type": "markdown",
      "metadata": {
        "id": "85217890-5d8c-4847-87f3-324e5ee77606"
      },
      "source": [
        "### Task-3. Additionally, you need to create methods in the Vehicle class to assign seating capacity to a vehicle.\n"
      ]
    },
    {
      "cell_type": "code",
      "metadata": {
        "id": "6e47ed7d-6edf-410f-8718-18db10ec70e4"
      },
      "outputs": [],
      "source": [
        "#Add method assign_seating\n",
        "\n",
        "#class Vehicle\n",
        "class Vehicle:\n",
        "  color = 'white' #set color as 'white\n",
        "  # Constructor\n",
        "  def __init__(self,max_speed,mileage):\n",
        "    self.max_speed = max_speed\n",
        "    self.mileage = mileage\n",
        "    self.seating_caapcity=None\n",
        "\n",
        "  def assign_seating(self, seating_caapcity):\n",
        "    self.seating_caapcity=seating_caapcity\n",
        "\n"
      ],
      "execution_count": 20
    },
    {
      "cell_type": "markdown",
      "metadata": {
        "id": "1bb15c8b-b242-46a7-b044-a2beb1683578"
      },
      "source": [
        "<details><summary>Click here for the solution</summary>\n",
        "\n",
        "```python\n",
        "\n",
        "class Vehicle:\n",
        "    color = \"white\"\n",
        "\n",
        "    def __init__(self, max_speed, mileage):\n",
        "        self.max_speed = max_speed\n",
        "        self.mileage = mileage\n",
        "        self.seating_capacity = None\n",
        "\n",
        "    def assign_seating_capacity(self, seating_capacity):\n",
        "        self.seating_capacity = seating_capacity\n",
        "```\n",
        "\n",
        "</details>\n"
      ]
    },
    {
      "cell_type": "markdown",
      "metadata": {
        "id": "0f3844f7-929f-4d8b-b18a-27ce28a9c685"
      },
      "source": [
        "### Task-4. Create a method to display all the properties of an object of the class.\n"
      ]
    },
    {
      "cell_type": "code",
      "metadata": {
        "id": "45276853-01ca-470c-9c63-752947c8eac5"
      },
      "outputs": [],
      "source": [
        "#Add method display_properties\n",
        "\n",
        "#class Vehicle\n",
        "class Vehicle:\n",
        "  color = 'white' #set color as 'white\n",
        "  # Constructor\n",
        "  def __init__(self,max_speed,mileage):\n",
        "    self.max_speed = max_speed\n",
        "    self.mileage = mileage\n",
        "    self.seating_caapcity=None\n",
        "\n",
        "  # method assign_seating\n",
        "  def assign_seating(self, seating_caapcity):\n",
        "    self.seating_caapcity=seating_caapcity\n",
        "\n",
        "  def display_properties(self):\n",
        "    print(f\"\\nMaximum Speed: {self.max_speed}\\nMileage: {self.mileage}\\nSeating Capaty: {self.seating_caapcity}\")"
      ],
      "execution_count": 27
    },
    {
      "cell_type": "markdown",
      "metadata": {
        "id": "0b4962db-8cec-422c-92c2-3cddd33db27a"
      },
      "source": [
        "<details><summary>Click here for the solution</summary>\n",
        "\n",
        "```python\n",
        "class Vehicle:\n",
        "    color = \"white\"\n",
        "\n",
        "    def __init__(self, max_speed, mileage):\n",
        "        self.max_speed = max_speed\n",
        "        self.mileage = mileage\n",
        "        self.seating_capacity = None\n",
        "\n",
        "    def assign_seating_capacity(self, seating_capacity):\n",
        "        self.seating_capacity = seating_capacity\n",
        "\n",
        "    def display_properties(self):\n",
        "        print(\"Properties of the Vehicle:\")\n",
        "        print(\"Color:\", self.color)\n",
        "        print(\"Maximum Speed:\", self.max_speed)\n",
        "        print(\"Mileage:\", self.mileage)\n",
        "        print(\"Seating Capacity:\", self.seating_capacity)\n",
        "        \n",
        "```\n",
        "\n",
        "</details>\n"
      ]
    },
    {
      "cell_type": "markdown",
      "metadata": {
        "id": "0d41d087-94a7-46ee-aa4e-98e7064b57a5"
      },
      "source": [
        "### Task-5. Additionally, you need to create two objects of the Vehicle class object that should have a max speed of 200kph and mileage of 50000kmpl with five seating capacities, and another car object should have a max speed of 180kph and 75000kmpl with four seating capacities.\n"
      ]
    },
    {
      "cell_type": "code",
      "metadata": {
        "id": "00149df6-43dc-43b9-821e-b5b45bc33c79",
        "colab": {
          "base_uri": "https://localhost:8080/"
        },
        "outputId": "41520ce2-4075-49a9-8970-892895643d2c"
      },
      "outputs": [
        {
          "output_type": "stream",
          "name": "stdout",
          "text": [
            "\n",
            "Maximum Speed: 200\n",
            "Mileage: 50000\n",
            "Seating Capaty: 5\n",
            "\n",
            "Maximum Speed: 180\n",
            "Mileage: 75000\n",
            "Seating Capaty: 4\n"
          ]
        }
      ],
      "source": [
        "#Create object1\n",
        "ob1 =Vehicle(200,50000)\n",
        "ob1.assign_seating(5)\n",
        "ob1.display_properties()\n",
        "\n",
        "#Create object2\n",
        "ob2 =Vehicle(180,75000)\n",
        "ob2.assign_seating(4)\n",
        "ob2.display_properties()"
      ],
      "execution_count": 28
    },
    {
      "cell_type": "markdown",
      "metadata": {
        "id": "dcfd7f71-afd6-4b70-ab24-2d913e501c1a"
      },
      "source": [
        "<details><summary>Click here for the solution</summary>\n",
        "\n",
        "```python\n",
        "class Vehicle:\n",
        "    color = \"white\"\n",
        "\n",
        "    def __init__(self, max_speed, mileage):\n",
        "        self.max_speed = max_speed\n",
        "        self.mileage = mileage\n",
        "        self.seating_capacity = None\n",
        "\n",
        "    def assign_seating_capacity(self, seating_capacity):\n",
        "        self.seating_capacity = seating_capacity\n",
        "\n",
        "    def display_properties(self):\n",
        "        print(\"Properties of the Vehicle:\")\n",
        "        print(\"Color:\", self.color)\n",
        "        print(\"Maximum Speed:\", self.max_speed)\n",
        "        print(\"Mileage:\", self.mileage)\n",
        "        print(\"Seating Capacity:\", self.seating_capacity)\n",
        "\n",
        "# Creating objects of the Vehicle class\n",
        "vehicle1 = Vehicle(200, 50000)\n",
        "vehicle1.assign_seating_capacity(5)\n",
        "vehicle1.display_properties()\n",
        "\n",
        "vehicle2 = Vehicle(180, 75000)\n",
        "vehicle2.assign_seating_capacity(4)\n",
        "vehicle2.display_properties()\n",
        "\n",
        "```\n",
        "\n",
        "</details>\n"
      ]
    },
    {
      "cell_type": "markdown",
      "source": [
        "# **Articulate**"
      ],
      "metadata": {
        "id": "9EHjM8TfB72l"
      }
    },
    {
      "cell_type": "markdown",
      "source": [
        "# ***Conditions & Loops Exercises***"
      ],
      "metadata": {
        "id": "1QMCokL8B-1y"
      }
    },
    {
      "cell_type": "code",
      "execution_count": 5,
      "metadata": {
        "id": "f-5qmLhjCxYr",
        "colab": {
          "base_uri": "https://localhost:8080/"
        },
        "outputId": "e762f7cc-35c8-4e01-a5e7-717648a90221"
      },
      "outputs": [
        {
          "output_type": "stream",
          "name": "stdout",
          "text": [
            "Product of two  numbers : 1200\n"
          ]
        }
      ],
      "source": [
        "#Q1 Given two integer numbers.\n",
        "#If any of the numbers are greater than 50 return their product,\n",
        "#else return their sum\n",
        "number1= 20\n",
        "number2= 60\n",
        "\n",
        "if(number1>50) or (number2>50):\n",
        "  print (f\"Product of two  numbers : {number1*number2}\")\n",
        "else:\n",
        "  print (f\"Sum of two  numbers : {number1+number2}\")\n",
        "\n"
      ]
    },
    {
      "cell_type": "code",
      "execution_count": 14,
      "metadata": {
        "id": "WWuil6ADCxYs",
        "colab": {
          "base_uri": "https://localhost:8080/"
        },
        "outputId": "342d6128-cd88-4a90-96ff-21ea6679b20e"
      },
      "outputs": [
        {
          "output_type": "stream",
          "name": "stdout",
          "text": [
            "True\n"
          ]
        }
      ],
      "source": [
        "#Q2 Given a list of numbers,\n",
        "#return True if first and last number of a list is same\n",
        "#list=[1,2,5,4,1]\n",
        "list=[1,2,5,4,1]\n",
        "first = list[0]\n",
        "last_position= len(list)-1\n",
        "\n",
        "if(list[0]==list[last_position]):\n",
        "  print('True')\n",
        "else:\n",
        "  print('False')"
      ]
    },
    {
      "cell_type": "code",
      "execution_count": 25,
      "metadata": {
        "id": "7T3i6-JbCxYt",
        "colab": {
          "base_uri": "https://localhost:8080/"
        },
        "outputId": "b76ac745-01be-48ea-da35-912075a2c969"
      },
      "outputs": [
        {
          "output_type": "stream",
          "name": "stdout",
          "text": [
            "Iteration 1 : 1\n",
            "Iteration 2 : 3\n",
            "Iteration 3 : 5\n",
            "Iteration 4 : 7\n",
            "Iteration 5 : 9\n",
            "Iteration 6 : 11\n",
            "Iteration 7 : 13\n",
            "Iteration 8 : 15\n",
            "Iteration 9 : 17\n",
            "Iteration 10 : 19\n"
          ]
        }
      ],
      "source": [
        "#Q3 Given a range of the first 10 numbers[1:10],\n",
        "#Iterate from the start number to the end number,\n",
        "#and In each iteration print the sum of the current number and previous number\n",
        "\n",
        "sum =0\n",
        "for i in range(1,11):\n",
        "  print(f\"Iteration {i} : {sum+i}\")\n",
        "  sum+=1"
      ]
    },
    {
      "cell_type": "code",
      "execution_count": 31,
      "metadata": {
        "id": "DUBUEBG_CxYt",
        "colab": {
          "base_uri": "https://localhost:8080/"
        },
        "outputId": "0244537c-cf4e-4fc9-a985-0612f139bb24"
      },
      "outputs": [
        {
          "output_type": "stream",
          "name": "stdout",
          "text": [
            "N\n",
            "o\n",
            "e\n",
            "C\n",
            "n\n",
            "d\n"
          ]
        }
      ],
      "source": [
        "#Q4 Given a string name,\n",
        "#display only those characters which are present at an even index number\n",
        "name=\"NPowerCanada\"\n",
        "for i in range(0,len(name)):\n",
        "  if(i%2==0):\n",
        "    print(name[i])"
      ]
    },
    {
      "cell_type": "code",
      "execution_count": 36,
      "metadata": {
        "id": "KFcLCFFxCxYt",
        "colab": {
          "base_uri": "https://localhost:8080/"
        },
        "outputId": "e5fa90cb-0f6f-4a4c-cf19-d2fd17828a0e"
      },
      "outputs": [
        {
          "output_type": "stream",
          "name": "stdout",
          "text": [
            "ourse\n"
          ]
        }
      ],
      "source": [
        "#Q5 Given a string oldString and an integer number n,\n",
        "#remove characters from a string starting from zero up to n\n",
        "#and return a newString\n",
        "# oldString=\"PythonCourse\"\n",
        "#n=6\n",
        "\n",
        "oldString=\"PythonCourse\"\n",
        "n=6\n",
        "newString=''\n",
        "\n",
        "for i in range(0,len(oldString)):\n",
        "  if(i>n):\n",
        "    newString +=oldString[i]\n",
        "\n",
        "print(newString)"
      ]
    },
    {
      "cell_type": "code",
      "execution_count": 44,
      "metadata": {
        "id": "6jfGWL5ECxYt",
        "colab": {
          "base_uri": "https://localhost:8080/"
        },
        "outputId": "8eb9d96d-51f6-456e-8605-e97e19ed5dab"
      },
      "outputs": [
        {
          "output_type": "stream",
          "name": "stdout",
          "text": [
            "*\n",
            "**\n",
            "***\n",
            "****\n"
          ]
        }
      ],
      "source": [
        "#Q6 Print the follwoing pattern\n",
        "\n",
        "#*\n",
        "#**\n",
        "#***\n",
        "#****\n",
        "\n",
        "\n",
        "for i in range(1,5):\n",
        "  print(i*'*')"
      ]
    },
    {
      "cell_type": "code",
      "execution_count": 49,
      "metadata": {
        "id": "HXue7iahCxYu",
        "colab": {
          "base_uri": "https://localhost:8080/"
        },
        "outputId": "79044a0e-b3ee-4098-8793-2a288fb51331"
      },
      "outputs": [
        {
          "output_type": "stream",
          "name": "stdout",
          "text": [
            "[60, 50, 70, 90]\n"
          ]
        }
      ],
      "source": [
        "#Q7 Reverse the following list using for loop\n",
        "#list1=[90,70,50,60]\n",
        "list1=[90,70,50,60]\n",
        "Reverse_list1=[]\n",
        "for i in range(len(list1)-1, -1, -1):\n",
        " Reverse_list1.append(list1[i])\n",
        "\n",
        "print(Reverse_list1)\n"
      ]
    },
    {
      "cell_type": "code",
      "execution_count": 52,
      "metadata": {
        "id": "MVc3RE7RCxYu",
        "colab": {
          "base_uri": "https://localhost:8080/"
        },
        "outputId": "28201cc9-69af-4be5-f8b3-edecf01c72c3"
      },
      "outputs": [
        {
          "output_type": "stream",
          "name": "stdout",
          "text": [
            "-10\n",
            "-9\n",
            "-8\n",
            "-7\n",
            "-6\n",
            "-5\n",
            "-4\n",
            "-3\n",
            "-2\n",
            "-1\n"
          ]
        }
      ],
      "source": [
        "#Q8 Display numbers from -10 to -1 using for loop\n",
        "#[hint use range method]\n",
        "\n",
        "for i in range(-10,0):\n",
        "  print(i)"
      ]
    },
    {
      "cell_type": "markdown",
      "metadata": {
        "id": "ZeDapTlKC_vW"
      },
      "source": [
        "# ***Functions Exercises***"
      ]
    },
    {
      "cell_type": "code",
      "execution_count": 55,
      "metadata": {
        "id": "PeOJuff0C_vY",
        "colab": {
          "base_uri": "https://localhost:8080/",
          "height": 36
        },
        "outputId": "03b096e6-edc3-4ef7-a007-508953b49e85"
      },
      "outputs": [
        {
          "output_type": "execute_result",
          "data": {
            "text/plain": [
              "'sum of 1 and 2 is 3'"
            ],
            "application/vnd.google.colaboratory.intrinsic+json": {
              "type": "string"
            }
          },
          "metadata": {},
          "execution_count": 55
        }
      ],
      "source": [
        "#Q1 Write Python function that takes two inputs\n",
        "#and return their sum value\n",
        "\n",
        "# function sum()\n",
        "def sum(a,b):\n",
        "  return f'sum of {a} and {b} is {a+b}'\n",
        "\n",
        "# Test case\n",
        "sum(1,2)"
      ]
    },
    {
      "cell_type": "code",
      "execution_count": 58,
      "metadata": {
        "id": "6I1VS2meC_vY",
        "colab": {
          "base_uri": "https://localhost:8080/",
          "height": 36
        },
        "outputId": "e27173d4-3547-449a-dd91-05a2f8b0aab6"
      },
      "outputs": [
        {
          "output_type": "execute_result",
          "data": {
            "text/plain": [
              "'Fahrenheat : 50.0'"
            ],
            "application/vnd.google.colaboratory.intrinsic+json": {
              "type": "string"
            }
          },
          "metadata": {},
          "execution_count": 58
        }
      ],
      "source": [
        "#Q2 Write Python function the takes a celsius temprature\n",
        "#and converts it into fahrenheit\n",
        "\n",
        "# Function Fahrenheat\n",
        "def Fahrenheat(c):\n",
        "  return f'Fahrenheat : {(9/5)*c+32}'\n",
        "\n",
        "# Test case\n",
        "Fahrenheat(10)"
      ]
    },
    {
      "cell_type": "code",
      "execution_count": 61,
      "metadata": {
        "id": "UtPCUn2iC_vY",
        "colab": {
          "base_uri": "https://localhost:8080/"
        },
        "outputId": "b0dfa163-5905-472d-cdda-c936fb2d0cae"
      },
      "outputs": [
        {
          "output_type": "stream",
          "name": "stdout",
          "text": [
            "200 is the max number\n"
          ]
        }
      ],
      "source": [
        "#Q3 Write a Python function to find the Max of three numbers\n",
        "\n",
        "# Function max()\n",
        "def max(x,y,z):\n",
        "  if(x>y) and (x>z):\n",
        "    print(f'{x} is the max number')\n",
        "  elif(y>x) and (y>z):\n",
        "    print(f'{y} is the max number')\n",
        "  else:\n",
        "    print(f'{z} is the max number')\n",
        "\n",
        "# Test cae\n",
        "max(101,200,31)"
      ]
    },
    {
      "cell_type": "code",
      "execution_count": 77,
      "metadata": {
        "id": "uoHnQeBfC_vZ",
        "colab": {
          "base_uri": "https://localhost:8080/",
          "height": 36
        },
        "outputId": "84a48a42-6d5d-4d81-a22b-847201d80900"
      },
      "outputs": [
        {
          "output_type": "execute_result",
          "data": {
            "text/plain": [
              "'Not found'"
            ],
            "application/vnd.google.colaboratory.intrinsic+json": {
              "type": "string"
            }
          },
          "metadata": {},
          "execution_count": 77
        }
      ],
      "source": [
        "#Q4 Write a Python function to check whether a number\n",
        "#is in a given range [5,12]\n",
        "\n",
        "# Function check()\n",
        "def check(n):\n",
        "    if i in range(5,12):\n",
        "      return(\"Found it\")\n",
        "    else:\n",
        "      return(\"Not found\")\n",
        "\n",
        "# Test case\n",
        "check(9)\n"
      ]
    },
    {
      "cell_type": "code",
      "execution_count": 4,
      "metadata": {
        "id": "nX-4mEusC_vZ",
        "colab": {
          "base_uri": "https://localhost:8080/"
        },
        "outputId": "4ae5a3df-2769-42fd-ed07-42179e06195a"
      },
      "outputs": [
        {
          "output_type": "execute_result",
          "data": {
            "text/plain": [
              "[1, 2, 3, 4, 5]"
            ]
          },
          "metadata": {},
          "execution_count": 4
        }
      ],
      "source": [
        "#Q5 Write a Python function that takes a list\n",
        "#and returns a new list with unique elements of the first\n",
        "#Sample_List : [1,2,3,3,3,3,4,5]\n",
        "\n",
        "# Funtion u_list()\n",
        "def u_list(list):\n",
        "  new_list = []\n",
        "  for i in range(0,len(Sample_List)):\n",
        "    if list[i] not in new_list:\n",
        "      new_list.append(list[i])\n",
        "  return new_list\n",
        "\n",
        "\n",
        "# Test case\n",
        "Sample_List=[1,2,3,3,3,3,4,5]\n",
        "u_list(Sample_List)"
      ]
    },
    {
      "cell_type": "code",
      "execution_count": 7,
      "metadata": {
        "id": "U1ZSBwr6C_vZ",
        "colab": {
          "base_uri": "https://localhost:8080/"
        },
        "outputId": "241a572b-b41e-4f65-a0dd-be52c7c55e48"
      },
      "outputs": [
        {
          "output_type": "stream",
          "name": "stdout",
          "text": [
            "True\n",
            "False\n",
            "True\n"
          ]
        }
      ],
      "source": [
        "#Q6 Given a list of numbers, return True if first\n",
        "#and last number of a list is same\n",
        "#list1=[1,2,5,4,1]\n",
        "#list2=[5,6,3,2,1]\n",
        "#list3=[88,44,55,66,77,88]\n",
        "\n",
        "# Function check()\n",
        "def check(list):\n",
        "  for i in range(0,len(list)):\n",
        "    if list[0]==list[len(list)-1]:\n",
        "      return 'True'\n",
        "    else:\n",
        "      return 'False'\n",
        "\n",
        "# Test case\n",
        "list1=[1,2,5,4,1]\n",
        "list2=[5,6,3,2,1]\n",
        "list3=[88,44,55,66,77,88]\n",
        "\n",
        "print(check(list1))\n",
        "print(check(list2))\n",
        "print(check(list3))"
      ]
    },
    {
      "cell_type": "code",
      "source": [],
      "metadata": {
        "id": "WOMy4RAa-LDG"
      },
      "execution_count": null,
      "outputs": []
    }
  ]
}