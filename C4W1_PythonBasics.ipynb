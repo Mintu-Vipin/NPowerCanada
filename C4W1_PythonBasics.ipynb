{
  "cells": [
    {
      "cell_type": "markdown",
      "metadata": {
        "id": "view-in-github",
        "colab_type": "text"
      },
      "source": [
        "<a href=\"https://colab.research.google.com/github/Mintu-Vipin/NPowerCanada/blob/main/C4W1_PythonBasics.ipynb\" target=\"_parent\"><img src=\"https://colab.research.google.com/assets/colab-badge.svg\" alt=\"Open In Colab\"/></a>"
      ]
    },
    {
      "cell_type": "markdown",
      "id": "f12ec5e4",
      "metadata": {
        "id": "f12ec5e4"
      },
      "source": [
        "#Articulate\n",
        "#Python Bascis"
      ]
    },
    {
      "cell_type": "code",
      "execution_count": 5,
      "id": "21501a06",
      "metadata": {
        "colab": {
          "base_uri": "https://localhost:8080/"
        },
        "id": "21501a06",
        "outputId": "bbf3839b-d9c0-43fe-d816-1b2c96054cdd"
      },
      "outputs": [
        {
          "output_type": "stream",
          "name": "stdout",
          "text": [
            "t\n",
            "o\n"
          ]
        }
      ],
      "source": [
        "# Retrieving the character using index value\n",
        "\n",
        "name = \"tom\"\n",
        "\n",
        "print(name[0])\n",
        "\n",
        "print(name[1])"
      ]
    },
    {
      "cell_type": "code",
      "execution_count": 6,
      "id": "ae23e815",
      "metadata": {
        "colab": {
          "base_uri": "https://localhost:8080/"
        },
        "id": "ae23e815",
        "outputId": "ad042401-c8f7-4a26-9ebb-002cd07cf91d"
      },
      "outputs": [
        {
          "output_type": "stream",
          "name": "stdout",
          "text": [
            "tom and jerry\n"
          ]
        }
      ],
      "source": [
        "# Concatination\n",
        "\n",
        "s=\"tom and \"+\"jerry\"\n",
        "print(s)"
      ]
    },
    {
      "cell_type": "code",
      "execution_count": 7,
      "id": "082b4e80",
      "metadata": {
        "colab": {
          "base_uri": "https://localhost:8080/"
        },
        "id": "082b4e80",
        "outputId": "b624eb28-f4ae-4bec-f8ad-8e0c12bf5f18"
      },
      "outputs": [
        {
          "output_type": "stream",
          "name": "stdout",
          "text": [
            "Spamming is bad\n",
            "Spamming is bad\n",
            "Spamming is bad\n",
            "\n"
          ]
        }
      ],
      "source": [
        "# Printing the values multiple times\n",
        "\n",
        "t = \"Spamming is bad\\n\" *3\n",
        "print(t)"
      ]
    },
    {
      "cell_type": "code",
      "execution_count": null,
      "id": "acd271fd",
      "metadata": {
        "id": "acd271fd",
        "outputId": "32e377b5-6fd7-47a1-b7c1-0e04bbf4aeaa"
      },
      "outputs": [
        {
          "name": "stdout",
          "output_type": "stream",
          "text": [
            "el\n"
          ]
        }
      ],
      "source": [
        "# Slicing the string\n",
        "\n",
        "s = \"Welcome\"\n",
        "print(s[1:3])\n"
      ]
    },
    {
      "cell_type": "code",
      "execution_count": 8,
      "id": "e35375c9",
      "metadata": {
        "colab": {
          "base_uri": "https://localhost:8080/",
          "height": 87
        },
        "id": "e35375c9",
        "outputId": "54e15b04-ef7b-49f1-dad1-70eaa6a492ff"
      },
      "outputs": [
        {
          "output_type": "stream",
          "name": "stdout",
          "text": [
            "Incompre\n",
            "ncom\n",
            "comp\n"
          ]
        },
        {
          "output_type": "execute_result",
          "data": {
            "text/plain": [
              "''"
            ],
            "application/vnd.google.colaboratory.intrinsic+json": {
              "type": "string"
            }
          },
          "metadata": {},
          "execution_count": 8
        }
      ],
      "source": [
        "# Slicing the string\n",
        "\n",
        "a = \"Incomprehensibility\"\n",
        "\n",
        "print(a[0:8])\n",
        "\n",
        "print(a[1:5])\n",
        "\n",
        "print(a[2:6])\n",
        "\n",
        "a[-1:3]"
      ]
    },
    {
      "cell_type": "code",
      "execution_count": null,
      "id": "ca91b22c",
      "metadata": {
        "id": "ca91b22c",
        "outputId": "edb26755-8f88-4cdc-a38a-31412e691b1d"
      },
      "outputs": [
        {
          "name": "stdout",
          "output_type": "stream",
          "text": [
            "Trichotillomania\n",
            "True\n",
            "True\n",
            "False\n",
            "True\n",
            "False\n",
            "False\n",
            "False\n"
          ]
        }
      ],
      "source": [
        "# Testing\n",
        "\n",
        "a = \"Trichotillomania\"\n",
        "print(a)\n",
        "\n",
        "print(a.isalnum())\n",
        "print(a.isalpha())\n",
        "print(a.isdigit())\n",
        "print(a.isidentifier())\n",
        "print(a.islower())\n",
        "print(a.isupper())\n",
        "print(a.isspace())"
      ]
    },
    {
      "cell_type": "code",
      "execution_count": null,
      "id": "f574a5b5",
      "metadata": {
        "id": "f574a5b5",
        "outputId": "ba118704-02c2-45bc-ab12-814ec2ab023d"
      },
      "outputs": [
        {
          "name": "stdout",
          "output_type": "stream",
          "text": [
            "Tergiversation\n",
            "True\n",
            "False\n",
            "2\n",
            "4\n",
            "11\n"
          ]
        }
      ],
      "source": [
        "# Searching\n",
        "\n",
        "b = \"Tergiversation\"\n",
        "print(b)\n",
        "\n",
        "print(b.endswith('on'))\n",
        "print(b.startswith('te'))\n",
        "print(b.count('i'))\n",
        "print(b.find('i'))\n",
        "print(b.rfind('i'))"
      ]
    },
    {
      "cell_type": "code",
      "execution_count": null,
      "id": "6e31f9b2",
      "metadata": {
        "id": "6e31f9b2",
        "outputId": "eb0fb097-9292-4eaa-cbe5-01eba5466300"
      },
      "outputs": [
        {
          "name": "stdout",
          "output_type": "stream",
          "text": [
            "Xenotransplantation\n",
            "Xenotransplantation\n",
            "xenotransplantation\n",
            "XENOTRANSPLANTATION\n",
            "Xenotransplantation\n",
            "xENOTRANSPLANTATION\n",
            "Yenotransplantation\n"
          ]
        }
      ],
      "source": [
        "# Converting\n",
        "\n",
        "c = \"Xenotransplantation\"\n",
        "print(c)\n",
        "\n",
        "print(c.capitalize())\n",
        "print(c.lower())\n",
        "print(c.upper())\n",
        "print(c.title())\n",
        "print(c.swapcase())\n",
        "print(c.replace('X', 'Y'))"
      ]
    },
    {
      "cell_type": "code",
      "execution_count": null,
      "id": "6c4cc609",
      "metadata": {
        "id": "6c4cc609"
      },
      "outputs": [],
      "source": [
        "POPSTAR = \"DIZZY DRAKE\""
      ]
    },
    {
      "cell_type": "code",
      "execution_count": null,
      "id": "4ac10933",
      "metadata": {
        "id": "4ac10933",
        "outputId": "1b4c2d19-c4b9-46e3-f7d7-5bd66f840f9a"
      },
      "outputs": [
        {
          "name": "stdout",
          "output_type": "stream",
          "text": [
            "1.  4\n",
            "    10\n",
            "2.  Z\n",
            "3.  K\n",
            "4.  DIZZY \n",
            "5.  DRAKE\n"
          ]
        }
      ],
      "source": [
        "# Assuming positive index numbers, what are the index numbers of the letters Y and E?\n",
        "print(f\"1. \", POPSTAR.find('Y'))\n",
        "print(f\"   \",POPSTAR.find('E'))\n",
        "\n",
        "# What is the result of the input POPSTAR[3] ?\n",
        "print(f\"2. \", POPSTAR[3] )\n",
        "\n",
        "\n",
        "# What input returns the result “K” ?\n",
        "print(f\"3. \", POPSTAR[9] )\n",
        "\n",
        "\n",
        "# What is the result of the input POPSTAR[0:6] ?\n",
        "print(f\"4. \", POPSTAR[0:6] )\n",
        "\n",
        "\n",
        "# What input returns the result “DRAKE” ?\n",
        "print(f\"5. \", POPSTAR[6:11] )\n"
      ]
    },
    {
      "cell_type": "code",
      "execution_count": null,
      "id": "a413c0fe",
      "metadata": {
        "id": "a413c0fe",
        "outputId": "a75a5d96-463b-4e06-c5df-13f16dd1b844"
      },
      "outputs": [
        {
          "name": "stdout",
          "output_type": "stream",
          "text": [
            "1.  4\n",
            "    1\n",
            "2.  R\n",
            "3.  8\n",
            "4.  7\n"
          ]
        }
      ],
      "source": [
        "# Now, for the same string, assuming negative index numbers:\n",
        "\n",
        "# What are the index numbers of the letter Y and I?\n",
        "print(f\"1. \", POPSTAR.find('Y'))\n",
        "print(f\"   \", POPSTAR.find('I'))\n",
        "\n",
        "# What is the result of the input POPSTAR[-4]?\n",
        "print(f\"2. \", POPSTAR[-4])\n",
        "\n",
        "# What input returns the result 'A'?\n",
        "print(f\"3. \", POPSTAR.find('A'))\n",
        "\n",
        "# What input returns the result \"RAKE\"?\n",
        "print(f\"4. \", POPSTAR.find('RAKE'))\n"
      ]
    },
    {
      "cell_type": "code",
      "execution_count": null,
      "id": "61b31e1e",
      "metadata": {
        "id": "61b31e1e",
        "outputId": "a1f0bde3-dee6-42f7-c27d-86db3e8b8a61"
      },
      "outputs": [
        {
          "name": "stdout",
          "output_type": "stream",
          "text": [
            "1.  MMAMNAIY\n",
            "2.  MMAMN\n",
            "3.  MA\n",
            "4.   NL\n",
            "5.  A TT\n"
          ]
        }
      ],
      "source": [
        "SUCCESS = \"MAMBA MENTALITY\"\n",
        "\n",
        "# Assuming positive index numbers, what is the result of the input SUCCESS[::2] ?\n",
        "print(f\"1. \", SUCCESS[::2])\n",
        "\n",
        "# What is the result of the input SUCCESS[0:10:2] ?\n",
        "print(f\"2. \", SUCCESS[0:10:2])\n",
        "\n",
        "# What is the result of the input SUCCESS[2:5:2] ?\n",
        "print(f\"3. \", SUCCESS[2:5:2])\n",
        "\n",
        "# What input returns the result “ NL” ? (*notice the space)\n",
        "print(f\"4. \", SUCCESS[5:12:3])\n",
        "\n",
        "# What input returns the result “A TT” ? (*notice the space)\n",
        "print(f\"5. \", SUCCESS[1:14:4])"
      ]
    },
    {
      "cell_type": "code",
      "execution_count": null,
      "id": "93d5a2ac",
      "metadata": {
        "id": "93d5a2ac",
        "outputId": "b10f43b3-9732-4d69-a6a8-b68a66734737"
      },
      "outputs": [
        {
          "name": "stdout",
          "output_type": "stream",
          "text": [
            "1.  HARRY POTTER IS A BESTSELLER\n",
            "2.  HARRY POTTER IS A BESTSELLER AND J.K ROWLING IS A GENIUS\n"
          ]
        }
      ],
      "source": [
        "BOOK= \"HARRY POTTER\"\n",
        "COMMENT= \"IS A BESTSELLER\"\n",
        "\n",
        "# If we want to create a new string that reads, “HARRY POTTER\n",
        "# IS A BESTSELLER” what input would we use?\n",
        "\n",
        "print(f\"1.  \" + BOOK + \" \" + COMMENT)\n",
        "\n",
        "\n",
        "# If we want to create a new string that reads, “HARRY POTTER IS A BESTSELLER AND J.K ROWLING IS A GENIUS” what input would we use?\n",
        "print(f\"2.  \" + BOOK + \" \" + COMMENT + \" AND J.K ROWLING IS A GENIUS\")"
      ]
    },
    {
      "cell_type": "code",
      "execution_count": null,
      "id": "8fa532b6",
      "metadata": {
        "id": "8fa532b6",
        "outputId": "ea8efef1-e214-4af2-b1eb-a0e47f7fb0ca"
      },
      "outputs": [
        {
          "name": "stdout",
          "output_type": "stream",
          "text": [
            "MIDDLE CHILDREN HAVE IT THE WORST\n",
            "Middle children have it the worst\n"
          ]
        }
      ],
      "source": [
        "Siblings = \"Middle children have it the worst\"\n",
        "\n",
        "# Convert the string to upper case letters and store it in a new variable called Siblings2\n",
        "Siblings2 = Siblings.upper()\n",
        "print(Siblings2)\n",
        "\n",
        "# Replace the word ‘worst’ with ‘best’ and store the new string in the variable Siblings3\n",
        "Siblings3 = Siblings.replace('best','worse')\n",
        "print(Siblings3)"
      ]
    },
    {
      "cell_type": "code",
      "execution_count": null,
      "id": "e761e620",
      "metadata": {
        "id": "e761e620",
        "outputId": "d268524d-fd11-424b-ab5d-83b80935c074"
      },
      "outputs": [
        {
          "name": "stdout",
          "output_type": "stream",
          "text": [
            "3\n",
            "30\n",
            "-1\n"
          ]
        }
      ],
      "source": [
        "truth= 'We can do anything we set our minds to'\n",
        "\n",
        "# Assuming positive index numbers, what is the result of the input truth.find(‘can’) ? What does this result mean?\n",
        "print(truth.find('can') )\n",
        "\n",
        "# What is the result of the input truth.find(‘minds’) ?\n",
        "print(truth.find('minds') )\n",
        "\n",
        "# What is the result of the input truth.find(‘believe’) ?\n",
        "print(truth.find('believe') )"
      ]
    },
    {
      "cell_type": "code",
      "execution_count": null,
      "id": "7a7b8fec",
      "metadata": {
        "id": "7a7b8fec",
        "outputId": "ab7963be-b250-4a23-c40b-e88e32d8ee85"
      },
      "outputs": [
        {
          "name": "stdout",
          "output_type": "stream",
          "text": [
            "JENNIFER LOPEZ\n",
            "IS AN AWESOME DANCER!\n",
            "colour ---> purple\n",
            "The backslash \\ is so cool\n"
          ]
        }
      ],
      "source": [
        "# What inputs would you run to print each of the following?\n",
        "\n",
        "# JENNIFER LOPEZ\n",
        "# IS AN AWESOME DANCER!\n",
        "print(f\"JENNIFER LOPEZ\\nIS AN AWESOME DANCER!\")\n",
        "\n",
        "\n",
        "# colour ---> purple\n",
        "print(f\"colour ---> purple\")\n",
        "\n",
        "\n",
        "# The backslash \\ is so cool\n",
        "print(f\"The backslash \\ is so cool\")"
      ]
    },
    {
      "cell_type": "markdown",
      "id": "7cb6c74d",
      "metadata": {
        "id": "7cb6c74d"
      },
      "source": [
        "# Variables and Expressions"
      ]
    },
    {
      "cell_type": "code",
      "execution_count": 4,
      "id": "6ddf677c",
      "metadata": {
        "colab": {
          "base_uri": "https://localhost:8080/"
        },
        "id": "6ddf677c",
        "outputId": "220a6971-e574-4e13-af4a-ab2a56be4dab"
      },
      "outputs": [
        {
          "output_type": "stream",
          "name": "stdout",
          "text": [
            "What's up, Doc?\n",
            "17\n",
            "3.14159\n",
            "<class 'str'>\n",
            "<class 'int'>\n",
            "<class 'float'>\n"
          ]
        }
      ],
      "source": [
        "message = \"What's up, Doc?\"\n",
        "n = 17\n",
        "pi = 3.14159\n",
        "\n",
        "print(message)\n",
        "print(n)\n",
        "print(pi)\n",
        "\n",
        "print(type(message))\n",
        "print(type(n))\n",
        "print(type(pi))\n"
      ]
    },
    {
      "cell_type": "code",
      "execution_count": 21,
      "id": "ae13afb8",
      "metadata": {
        "colab": {
          "base_uri": "https://localhost:8080/"
        },
        "id": "ae13afb8",
        "outputId": "879a00da-2610-469e-d69d-c02a6fc9ebd9"
      },
      "outputs": [
        {
          "output_type": "stream",
          "name": "stdout",
          "text": [
            "12\n",
            "4.666666666666667\n",
            "12\n",
            "70\n"
          ]
        }
      ],
      "source": [
        "# Do the following operations\n",
        "\n",
        " a = 7\n",
        " b = 5\n",
        "\n",
        "\n",
        "print(a+b)\n",
        "print(2*a/3)\n",
        "print(5*b//2)\n",
        "print(a*2*b)"
      ]
    },
    {
      "cell_type": "code",
      "source": [
        "# Order of operations(Operators with the same precedence are evaluated from left to right)\n",
        "\n",
        "# Parentheses -----> Exponentiation ------>  Multiplication and Division ----->  Addition and Subtraction\n",
        "\n",
        "\n",
        "\n",
        "print((8-5)*4-5)\n",
        "print(56/8*7-5)\n",
        "print(15-(3+2)/5)\n",
        "print(7*5//6)"
      ],
      "metadata": {
        "colab": {
          "base_uri": "https://localhost:8080/"
        },
        "id": "1PoA4R63WFq6",
        "outputId": "9c4eba84-b6fe-4da2-8863-3265d708f558"
      },
      "id": "1PoA4R63WFq6",
      "execution_count": 26,
      "outputs": [
        {
          "output_type": "stream",
          "name": "stdout",
          "text": [
            "7\n",
            "44.0\n",
            "14.0\n",
            "5\n"
          ]
        }
      ]
    },
    {
      "cell_type": "code",
      "source": [],
      "metadata": {
        "id": "TPfW85W-7R0l"
      },
      "id": "TPfW85W-7R0l",
      "execution_count": null,
      "outputs": []
    },
    {
      "cell_type": "markdown",
      "metadata": {
        "id": "2fa8e1ff-fe2d-4ba5-90d6-832815f50941"
      },
      "source": [
        "<h3 id=\"exer_exp_var\">Exercise: Expression and Variables in Python</h3>----> From Coursera\n"
      ],
      "id": "2fa8e1ff-fe2d-4ba5-90d6-832815f50941"
    },
    {
      "cell_type": "markdown",
      "metadata": {
        "id": "dfce700a-f47a-439b-945e-f9599a21cda8"
      },
      "source": [
        "<p>What is the value of <code>x</code> ?<br> where, <code>x = 3 + 2 * 2</code></p>\n"
      ],
      "id": "dfce700a-f47a-439b-945e-f9599a21cda8"
    },
    {
      "cell_type": "code",
      "execution_count": null,
      "metadata": {
        "id": "1c70c5de-066a-4f9a-aeea-1428d695545c",
        "outputId": "a883ab71-0e71-444f-f9b2-18885b472cbb"
      },
      "outputs": [
        {
          "name": "stdout",
          "output_type": "stream",
          "text": [
            "7\n"
          ]
        }
      ],
      "source": [
        "# Write your code below. Don't forget to press Shift+Enter to execute the cell\n",
        "x = 3 + 2 * 2\n",
        "print (x)"
      ],
      "id": "1c70c5de-066a-4f9a-aeea-1428d695545c"
    },
    {
      "cell_type": "markdown",
      "metadata": {
        "id": "d36583c7-effd-4d14-b2ad-70065cdaa7d0"
      },
      "source": [
        "<details><summary>Click here for the solution</summary>\n",
        "\n",
        "```python\n",
        "7\n",
        "\n",
        "```\n",
        "\n",
        "</details>\n"
      ],
      "id": "d36583c7-effd-4d14-b2ad-70065cdaa7d0"
    },
    {
      "cell_type": "markdown",
      "metadata": {
        "id": "b4ec6ae0-c4eb-4445-9208-9133801e9be2"
      },
      "source": [
        "<p>What is the value of <code>y</code> where <code>y = (3 + 2) * 2</code>?</p>\n"
      ],
      "id": "b4ec6ae0-c4eb-4445-9208-9133801e9be2"
    },
    {
      "cell_type": "code",
      "execution_count": null,
      "metadata": {
        "id": "2d944952-5754-45a2-b07a-78e0aed02d7a",
        "outputId": "5cfc7143-3ffd-482f-b1ce-cd3fbf1083d1"
      },
      "outputs": [
        {
          "name": "stdout",
          "output_type": "stream",
          "text": [
            "10\n"
          ]
        }
      ],
      "source": [
        "# Write your code below. Don't forget to press Shift+Enter to execute the cell\n",
        "y = (3 + 2) * 2\n",
        "print(y)"
      ],
      "id": "2d944952-5754-45a2-b07a-78e0aed02d7a"
    },
    {
      "cell_type": "markdown",
      "metadata": {
        "id": "2595ea66-df79-461f-9eee-1115c8c050bd"
      },
      "source": [
        "<details><summary>Click here for the solution</summary>\n",
        "\n",
        "```python\n",
        "10\n",
        "\n",
        "```\n",
        "\n",
        "</details>\n"
      ],
      "id": "2595ea66-df79-461f-9eee-1115c8c050bd"
    },
    {
      "cell_type": "markdown",
      "metadata": {
        "id": "7f224c6b-cc40-4a94-94d0-aa5c6a784e0a"
      },
      "source": [
        "<p>What is the value of <code>z</code> where <code>z = x + y</code>?</p>\n"
      ],
      "id": "7f224c6b-cc40-4a94-94d0-aa5c6a784e0a"
    },
    {
      "cell_type": "code",
      "execution_count": null,
      "metadata": {
        "id": "68f9fdc9-9e17-4e0b-b60e-c56689c41bb3",
        "outputId": "ab4410bd-fe59-446c-ce30-929be2a8b7c7"
      },
      "outputs": [
        {
          "name": "stdout",
          "output_type": "stream",
          "text": [
            "17\n"
          ]
        }
      ],
      "source": [
        "# Write your code below. Don't forget to press Shift+Enter to execute the cell\n",
        "z = x + y\n",
        "print(z)"
      ],
      "id": "68f9fdc9-9e17-4e0b-b60e-c56689c41bb3"
    },
    {
      "cell_type": "markdown",
      "metadata": {
        "id": "eb9f3fdf-62cc-422a-b420-5cc1df46b2cd"
      },
      "source": [
        "<details><summary>Click here for the solution</summary>\n",
        "\n",
        "```python\n",
        "17\n",
        "\n",
        "```\n",
        "\n",
        "</details>\n"
      ],
      "id": "eb9f3fdf-62cc-422a-b420-5cc1df46b2cd"
    },
    {
      "cell_type": "code",
      "source": [],
      "metadata": {
        "id": "0HK3ZKLW8UEJ"
      },
      "id": "0HK3ZKLW8UEJ",
      "execution_count": null,
      "outputs": []
    },
    {
      "cell_type": "markdown",
      "metadata": {
        "id": "c7346c5c-9299-4ecf-b0e1-060a1f87176e"
      },
      "source": [
        "<h2 id=\"quiz\">Quiz on Strings</h2> -----> From Coursera\n"
      ],
      "id": "c7346c5c-9299-4ecf-b0e1-060a1f87176e"
    },
    {
      "cell_type": "markdown",
      "metadata": {
        "id": "4a73a213-57f5-4671-8e88-3a6693ecaf9b"
      },
      "source": [
        "What is the value of the variable <code>a</code> after the following code is executed?\n"
      ],
      "id": "4a73a213-57f5-4671-8e88-3a6693ecaf9b"
    },
    {
      "cell_type": "code",
      "execution_count": null,
      "metadata": {
        "id": "046b558c-fc11-4d19-bc19-c7fd3302cf70",
        "outputId": "571ac774-e407-4c68-aebf-5e59f25346ef"
      },
      "outputs": [
        {
          "name": "stdout",
          "output_type": "stream",
          "text": [
            "1\n"
          ]
        },
        {
          "data": {
            "text/plain": [
              "str"
            ]
          },
          "execution_count": 40,
          "metadata": {},
          "output_type": "execute_result"
        }
      ],
      "source": [
        "# Write your code below and press Shift+Enter to execute\n",
        "\n",
        "a = \"1\"\n",
        "print(a)\n",
        "type(a)"
      ],
      "id": "046b558c-fc11-4d19-bc19-c7fd3302cf70"
    },
    {
      "cell_type": "markdown",
      "metadata": {
        "id": "084b47d0-d343-489b-8f15-29c715eb58e9"
      },
      "source": [
        "<details><summary>Click here for the solution</summary>\n",
        "\n",
        "```python\n",
        "\"1\"\n",
        "\n",
        "```\n",
        "\n",
        "</details>\n"
      ],
      "id": "084b47d0-d343-489b-8f15-29c715eb58e9"
    },
    {
      "cell_type": "markdown",
      "metadata": {
        "id": "be91375a-3ee7-4268-92a7-a22a445dd3ca"
      },
      "source": [
        "What is the value of the variable <code>b</code> after the following code is executed?\n"
      ],
      "id": "be91375a-3ee7-4268-92a7-a22a445dd3ca"
    },
    {
      "cell_type": "code",
      "execution_count": null,
      "metadata": {
        "id": "12851250-a72f-44d1-ab4a-fdeda450e85d",
        "outputId": "1bd300b2-3001-4127-f51d-46576cdcd5f3"
      },
      "outputs": [
        {
          "name": "stdout",
          "output_type": "stream",
          "text": [
            "2\n"
          ]
        },
        {
          "data": {
            "text/plain": [
              "str"
            ]
          },
          "execution_count": 41,
          "metadata": {},
          "output_type": "execute_result"
        }
      ],
      "source": [
        "# Write your code below and press Shift+Enter to execute\n",
        "\n",
        "b = \"2\"\n",
        "print(b)\n",
        "type(b)"
      ],
      "id": "12851250-a72f-44d1-ab4a-fdeda450e85d"
    },
    {
      "cell_type": "markdown",
      "metadata": {
        "id": "12a1afd0-8c6c-4de1-9fd6-f74487736834"
      },
      "source": [
        "<details><summary>Click here for the solution</summary>\n",
        "\n",
        "```python\n",
        "\"2\"\n",
        "\n",
        "```\n",
        "\n",
        "</details>\n"
      ],
      "id": "12a1afd0-8c6c-4de1-9fd6-f74487736834"
    },
    {
      "cell_type": "markdown",
      "metadata": {
        "id": "f06b81d0-7c05-406b-9e53-d74a51bae169"
      },
      "source": [
        "What is the value of the variable <code>c</code> after the following code is executed?\n"
      ],
      "id": "f06b81d0-7c05-406b-9e53-d74a51bae169"
    },
    {
      "cell_type": "code",
      "execution_count": null,
      "metadata": {
        "id": "31dfc23b-085a-42ce-83a8-dbf6800f4e81",
        "outputId": "c9160895-d70b-41e5-c152-167c16466701"
      },
      "outputs": [
        {
          "name": "stdout",
          "output_type": "stream",
          "text": [
            "12\n"
          ]
        },
        {
          "data": {
            "text/plain": [
              "str"
            ]
          },
          "execution_count": 43,
          "metadata": {},
          "output_type": "execute_result"
        }
      ],
      "source": [
        "# Write your code below and press Shift+Enter to execute\n",
        "\n",
        "c = a + b\n",
        "print(c)\n",
        "type(c)"
      ],
      "id": "31dfc23b-085a-42ce-83a8-dbf6800f4e81"
    },
    {
      "cell_type": "markdown",
      "metadata": {
        "id": "dc27afc9-c059-44bb-a963-a52f49aee9c7"
      },
      "source": [
        "<details><summary>Click here for the solution</summary>\n",
        "\n",
        "```python\n",
        "\"12\"\n",
        "\n",
        "```\n",
        "\n",
        "</details>\n"
      ],
      "id": "dc27afc9-c059-44bb-a963-a52f49aee9c7"
    },
    {
      "cell_type": "markdown",
      "metadata": {
        "id": "3260b4d9-82e1-45cd-b5e3-23246fe9b0a3"
      },
      "source": [
        "<hr>\n"
      ],
      "id": "3260b4d9-82e1-45cd-b5e3-23246fe9b0a3"
    },
    {
      "cell_type": "markdown",
      "metadata": {
        "id": "5f4a5e14-58fe-480a-a578-6a553ac87e1b"
      },
      "source": [
        "Consider the variable <code>d</code> use slicing to print out the first three elements:\n"
      ],
      "id": "5f4a5e14-58fe-480a-a578-6a553ac87e1b"
    },
    {
      "cell_type": "code",
      "execution_count": null,
      "metadata": {
        "id": "de2f90c8-781b-48f3-96eb-1ba4999787a2",
        "outputId": "6d3ca2fe-dd6f-4a30-c38b-811d1a07049f"
      },
      "outputs": [
        {
          "name": "stdout",
          "output_type": "stream",
          "text": [
            "ABC\n"
          ]
        }
      ],
      "source": [
        "# Write your code below and press Shift+Enter to execute\n",
        "\n",
        "d = \"ABCDEFG\"\n",
        "print(d[0:3])"
      ],
      "id": "de2f90c8-781b-48f3-96eb-1ba4999787a2"
    },
    {
      "cell_type": "markdown",
      "metadata": {
        "id": "5a1ad84b-6249-4c92-9bb8-bc3d154ac242"
      },
      "source": [
        "<details><summary>Click here for the solution</summary>\n",
        "\n",
        "```python\n",
        "print(d[:3])\n",
        "\n",
        "# or\n",
        "\n",
        "print(d[0:3])\n",
        "\n",
        "```\n",
        "\n",
        "</details>\n"
      ],
      "id": "5a1ad84b-6249-4c92-9bb8-bc3d154ac242"
    },
    {
      "cell_type": "markdown",
      "metadata": {
        "id": "2118f9a0-a342-45b0-b9da-d81c2ccbd207"
      },
      "source": [
        "<hr>\n"
      ],
      "id": "2118f9a0-a342-45b0-b9da-d81c2ccbd207"
    },
    {
      "cell_type": "markdown",
      "metadata": {
        "id": "0f58ca30-d859-454a-9e61-da6c358b920e"
      },
      "source": [
        "Use a stride value of 2 to print out every second character of the string <code>e</code>:\n"
      ],
      "id": "0f58ca30-d859-454a-9e61-da6c358b920e"
    },
    {
      "cell_type": "code",
      "execution_count": null,
      "metadata": {
        "id": "f13a51ac-c674-433a-a098-183cbbb587e4",
        "outputId": "20128587-f7ba-4246-ddec-70d874509753"
      },
      "outputs": [
        {
          "name": "stdout",
          "output_type": "stream",
          "text": [
            "correct\n"
          ]
        }
      ],
      "source": [
        "# Write your code below and press Shift+Enter to execute\n",
        "\n",
        "e = 'clocrkr1e1c1t'\n",
        "print(e[::2])"
      ],
      "id": "f13a51ac-c674-433a-a098-183cbbb587e4"
    },
    {
      "cell_type": "markdown",
      "metadata": {
        "id": "3d9cc783-8f6e-453c-adbe-45fb0f760ddb"
      },
      "source": [
        "<details><summary>Click here for the solution</summary>\n",
        "\n",
        "```python\n",
        "print(e[::2])\n",
        "\n",
        "```\n",
        "\n",
        "</details>\n"
      ],
      "id": "3d9cc783-8f6e-453c-adbe-45fb0f760ddb"
    },
    {
      "cell_type": "markdown",
      "metadata": {
        "id": "4fae80fa-0ce1-43b3-8049-9d6dae7cfe21"
      },
      "source": [
        "<hr>\n"
      ],
      "id": "4fae80fa-0ce1-43b3-8049-9d6dae7cfe21"
    },
    {
      "cell_type": "markdown",
      "metadata": {
        "id": "11af2999-7df2-4ad0-896f-9ee833dd104c"
      },
      "source": [
        "Print out a backslash:\n"
      ],
      "id": "11af2999-7df2-4ad0-896f-9ee833dd104c"
    },
    {
      "cell_type": "code",
      "execution_count": null,
      "metadata": {
        "id": "59754912-a3ba-4c0c-bd9b-80a544bda37f",
        "outputId": "1b508395-5daf-4aee-b857-8f5d13b94db5"
      },
      "outputs": [
        {
          "name": "stdout",
          "output_type": "stream",
          "text": [
            "\\ \n"
          ]
        }
      ],
      "source": [
        "# Write your code below and press Shift+Enter to execute\n",
        "\n",
        "print(r\"\\ \")\n"
      ],
      "id": "59754912-a3ba-4c0c-bd9b-80a544bda37f"
    },
    {
      "cell_type": "markdown",
      "metadata": {
        "id": "14341f88-9724-4bce-897f-9cdee55fde32"
      },
      "source": [
        "<details><summary>Click here for the solution</summary>\n",
        "\n",
        "```python\n",
        "print(\"\\\\\\\\\")\n",
        "\n",
        "or\n",
        "\n",
        "print(r\"\\ \")\n",
        "\n",
        "```\n",
        "\n",
        "</details>\n"
      ],
      "id": "14341f88-9724-4bce-897f-9cdee55fde32"
    },
    {
      "cell_type": "markdown",
      "metadata": {
        "id": "67efdb7e-d67b-44b0-afea-bf0b09edad9b"
      },
      "source": [
        "<hr>\n"
      ],
      "id": "67efdb7e-d67b-44b0-afea-bf0b09edad9b"
    },
    {
      "cell_type": "markdown",
      "metadata": {
        "id": "43e569e0-6dcb-46e4-9940-deac66153979"
      },
      "source": [
        "Convert the variable <code>f</code> to uppercase:\n"
      ],
      "id": "43e569e0-6dcb-46e4-9940-deac66153979"
    },
    {
      "cell_type": "code",
      "execution_count": null,
      "metadata": {
        "id": "2ff7554e-daa7-4f50-8705-a6ebdc4e7b96",
        "outputId": "37169b64-a20c-4b3f-d48e-4b3ecef3d13e"
      },
      "outputs": [
        {
          "name": "stdout",
          "output_type": "stream",
          "text": [
            "YOU ARE WRONG\n"
          ]
        }
      ],
      "source": [
        "# Write your code below and press Shift+Enter to execute\n",
        "\n",
        "f = \"You are wrong\"\n",
        "print(f.upper())"
      ],
      "id": "2ff7554e-daa7-4f50-8705-a6ebdc4e7b96"
    },
    {
      "cell_type": "markdown",
      "metadata": {
        "id": "f18b5f10-8d32-4fa0-86b5-e57897e4aad9"
      },
      "source": [
        "<details><summary>Click here for the solution</summary>\n",
        "\n",
        "```python\n",
        "f.upper()\n",
        "\n",
        "```\n",
        "\n",
        "</details>\n"
      ],
      "id": "f18b5f10-8d32-4fa0-86b5-e57897e4aad9"
    },
    {
      "cell_type": "markdown",
      "metadata": {
        "id": "0b0a5fc7-ddf0-42cf-80f3-3a0080071f82"
      },
      "source": [
        "Convert the variable <code>f2</code> to lowercase:\n"
      ],
      "id": "0b0a5fc7-ddf0-42cf-80f3-3a0080071f82"
    },
    {
      "cell_type": "code",
      "execution_count": null,
      "metadata": {
        "id": "d4ede439-be92-4827-a492-ebcfa332f656",
        "outputId": "d392dac3-e2a2-422a-f0b8-0dac585ceeeb"
      },
      "outputs": [
        {
          "name": "stdout",
          "output_type": "stream",
          "text": [
            "you are right\n"
          ]
        }
      ],
      "source": [
        "# Write your code below and press Shift+Enter to execute\n",
        "f2=\"YOU ARE RIGHT\"\n",
        "print(f2.lower())"
      ],
      "id": "d4ede439-be92-4827-a492-ebcfa332f656"
    },
    {
      "cell_type": "markdown",
      "metadata": {
        "id": "fbea0fdb-d21e-463e-8ca2-da7e4405e7d1"
      },
      "source": [
        "<details><summary>Click here for the solution</summary>\n",
        "\n",
        "```python\n",
        "f2.lower()\n",
        "\n",
        "```\n",
        "\n",
        "</details>\n"
      ],
      "id": "fbea0fdb-d21e-463e-8ca2-da7e4405e7d1"
    },
    {
      "cell_type": "markdown",
      "metadata": {
        "id": "581cba1e-4cb8-4542-8861-a47dc35cbee9"
      },
      "source": [
        "<hr>\n"
      ],
      "id": "581cba1e-4cb8-4542-8861-a47dc35cbee9"
    },
    {
      "cell_type": "markdown",
      "metadata": {
        "id": "53cf1866-4ce3-4629-948b-dcfb8b7b7d84"
      },
      "source": [
        "Consider the variable <code>g</code>, and find the first index of the sub-string <code>snow</code>:\n"
      ],
      "id": "53cf1866-4ce3-4629-948b-dcfb8b7b7d84"
    },
    {
      "cell_type": "code",
      "execution_count": null,
      "metadata": {
        "id": "27abbe32-63d5-4c63-900c-3f2f356aad6a",
        "outputId": "d90ce64c-ffba-47d4-c2b2-85fc41a20a97"
      },
      "outputs": [
        {
          "name": "stdout",
          "output_type": "stream",
          "text": [
            "95\n"
          ]
        }
      ],
      "source": [
        "# Write your code below and press Shift+Enter to execute\n",
        "\n",
        "g = \"Mary had a little lamb Little lamb, little lamb Mary had a little lamb \\\n",
        "Its fleece was white as snow And everywhere that Mary went Mary went, Mary went \\\n",
        "Everywhere that Mary went The lamb was sure to go\"\n",
        "\n",
        "print(g.find('snow'))"
      ],
      "id": "27abbe32-63d5-4c63-900c-3f2f356aad6a"
    },
    {
      "cell_type": "markdown",
      "metadata": {
        "id": "3fa6955c-c9ad-409d-bade-aa68579ed503"
      },
      "source": [
        "<details><summary>Click here for the solution</summary>\n",
        "\n",
        "```python\n",
        "g.find(\"snow\")\n",
        "\n",
        "```\n",
        "\n",
        "</details>\n"
      ],
      "id": "3fa6955c-c9ad-409d-bade-aa68579ed503"
    },
    {
      "cell_type": "markdown",
      "metadata": {
        "id": "b9d4b60e-de89-432f-b57f-f26fefff68e2"
      },
      "source": [
        "In the variable <code>g</code>, replace the sub-string <code>Mary</code> with <code>Bob</code>:\n"
      ],
      "id": "b9d4b60e-de89-432f-b57f-f26fefff68e2"
    },
    {
      "cell_type": "code",
      "execution_count": null,
      "metadata": {
        "id": "335ccd9b-d556-428f-ab36-e8205e2efc09",
        "outputId": "8e080e64-3ae2-4b9f-aa63-bd92946da750"
      },
      "outputs": [
        {
          "name": "stdout",
          "output_type": "stream",
          "text": [
            "Bob had a little lamb Little lamb, little lamb Bob had a little lamb Its fleece was white as snow And everywhere that Bob went Bob went, Bob went Everywhere that Bob went The lamb was sure to go\n"
          ]
        }
      ],
      "source": [
        "# Write your code below and press Shift+Enter to execute\n",
        "print(g.replace('Mary', 'Bob'))"
      ],
      "id": "335ccd9b-d556-428f-ab36-e8205e2efc09"
    },
    {
      "cell_type": "markdown",
      "metadata": {
        "id": "f5dfd878-75f7-48c2-8cb1-5ccad2a6431a"
      },
      "source": [
        "<details><summary>Click here for the solution</summary>\n",
        "\n",
        "```python\n",
        "g.replace(\"Mary\", \"Bob\")\n",
        "\n",
        "```\n",
        "\n",
        "</details>\n"
      ],
      "id": "f5dfd878-75f7-48c2-8cb1-5ccad2a6431a"
    },
    {
      "cell_type": "markdown",
      "metadata": {
        "id": "8c111e58-8bd2-4459-a1d0-3e80943af808"
      },
      "source": [
        "In the variable <code>g</code>, replace the sub-string <code>,</code> with <code>.</code>:\n"
      ],
      "id": "8c111e58-8bd2-4459-a1d0-3e80943af808"
    },
    {
      "cell_type": "code",
      "execution_count": null,
      "metadata": {
        "id": "ae91ffdb-bade-4042-8a2b-07fc654b9beb",
        "outputId": "3aa44be1-a3f4-4d98-9191-8b26a748d8dd"
      },
      "outputs": [
        {
          "name": "stdout",
          "output_type": "stream",
          "text": [
            "Mary had a little lamb Little lamb. little lamb Mary had a little lamb Its fleece was white as snow And everywhere that Mary went Mary went. Mary went Everywhere that Mary went The lamb was sure to go\n"
          ]
        }
      ],
      "source": [
        "# Write your code below and press Shift+Enter to execute\n",
        "print(g.replace(',', '.'))"
      ],
      "id": "ae91ffdb-bade-4042-8a2b-07fc654b9beb"
    },
    {
      "cell_type": "markdown",
      "metadata": {
        "id": "fcd72378-ed45-4520-b0b3-c194f72c986a"
      },
      "source": [
        "<details><summary>Click here for the solution</summary>\n",
        "\n",
        "```python\n",
        "g.replace(',','.')\n",
        "\n",
        "```\n",
        "\n",
        "</details>\n"
      ],
      "id": "fcd72378-ed45-4520-b0b3-c194f72c986a"
    },
    {
      "cell_type": "markdown",
      "metadata": {
        "id": "2874b7de-183c-40ce-bbf2-29b1cd509f2d"
      },
      "source": [
        "In the variable <code>g</code>, split the substring to list:\n"
      ],
      "id": "2874b7de-183c-40ce-bbf2-29b1cd509f2d"
    },
    {
      "cell_type": "code",
      "execution_count": null,
      "metadata": {
        "id": "c4889fd8-11e5-425a-88b4-76f5a4d6c594",
        "outputId": "29ed8fce-0a51-441b-9204-a7c8f3380cd6"
      },
      "outputs": [
        {
          "name": "stdout",
          "output_type": "stream",
          "text": [
            "['Mary', 'had', 'a', 'little', 'lamb', 'Little', 'lamb,', 'little', 'lamb', 'Mary', 'had', 'a', 'little', 'lamb', 'Its', 'fleece', 'was', 'white', 'as', 'snow', 'And', 'everywhere', 'that', 'Mary', 'went', 'Mary', 'went,', 'Mary', 'went', 'Everywhere', 'that', 'Mary', 'went', 'The', 'lamb', 'was', 'sure', 'to', 'go']\n"
          ]
        }
      ],
      "source": [
        "# Write your code below and press Shift+Enter to execute\n",
        "print(g.split())"
      ],
      "id": "c4889fd8-11e5-425a-88b4-76f5a4d6c594"
    },
    {
      "cell_type": "markdown",
      "metadata": {
        "id": "f10a830b-d4cd-4597-91a3-9017fb6d689f"
      },
      "source": [
        "<details><summary>Click here for the solution</summary>\n",
        "\n",
        "```python\n",
        "g.split()\n",
        "\n",
        "```\n",
        "\n",
        "</details>\n"
      ],
      "id": "f10a830b-d4cd-4597-91a3-9017fb6d689f"
    },
    {
      "cell_type": "markdown",
      "metadata": {
        "id": "1f7c511d-2e66-4076-a9c1-3271043400ff"
      },
      "source": [
        "In the string <code>s3</code>, find whether the digit is present or not using the <code>\\d</code> and <code>search() </code>function:\n"
      ],
      "id": "1f7c511d-2e66-4076-a9c1-3271043400ff"
    },
    {
      "cell_type": "code",
      "execution_count": null,
      "metadata": {
        "id": "ccaffbf7-4188-45cd-bb6f-090dc510b614",
        "outputId": "b7c63b1b-d9c5-47dc-c93d-497a4702f70b"
      },
      "outputs": [
        {
          "name": "stdout",
          "output_type": "stream",
          "text": [
            "digit is present and the first digit is 1\n"
          ]
        }
      ],
      "source": [
        "s3 = \"House number- 1105\"\n",
        "# Write your code below and press Shift+Enter to execute\n",
        "pattern =r\"\\d\"\n",
        "r = re.search(pattern, s3)\n",
        "\n",
        "if r:\n",
        "    print(\"digit is present and the first digit is \"+ r.group() )\n",
        "else:\n",
        "    print(\"digit is not present\")"
      ],
      "id": "ccaffbf7-4188-45cd-bb6f-090dc510b614"
    },
    {
      "cell_type": "markdown",
      "metadata": {
        "id": "IgsKSjxj89fV"
      },
      "source": [
        "<details><summary>Click here for the solution</summary>\n",
        "\n",
        "```python\n",
        "# Use the search() function to search for the \"\\d\" in the string\n",
        "result = re.search(\"\\d\", s3)\n",
        "\n",
        "# Check if a match was found\n",
        "if result:\n",
        "    print(\"Digit found\")\n",
        "else:\n",
        "    print(\"Digit not found.\")\n",
        "```\n",
        "\n",
        "</details>\n"
      ],
      "id": "IgsKSjxj89fV"
    },
    {
      "cell_type": "markdown",
      "metadata": {
        "id": "e32ee31e-4c4a-436d-b62a-8d320a92d3c0"
      },
      "source": [
        "In the string <code>str1</code>, replace the sub-string <code>fox</code> with <code>bear</code> using <code>sub() </code>function:\n"
      ],
      "id": "e32ee31e-4c4a-436d-b62a-8d320a92d3c0"
    },
    {
      "cell_type": "code",
      "execution_count": null,
      "metadata": {
        "id": "45ff6adf-ca66-4c71-9fc3-bc11e454b96e",
        "outputId": "e6361203-b130-406e-ccc4-c245609d2ee0"
      },
      "outputs": [
        {
          "name": "stdout",
          "output_type": "stream",
          "text": [
            "The quick brown bear jumps over the lazy dog.\n"
          ]
        }
      ],
      "source": [
        "str1= \"The quick brown fox jumps over the lazy dog.\"\n",
        "\n",
        "# Write your code below and press Shift+Enter to execute\n",
        "print(re.sub(r'fox', 'bear', str1))"
      ],
      "id": "45ff6adf-ca66-4c71-9fc3-bc11e454b96e"
    },
    {
      "cell_type": "markdown",
      "metadata": {
        "id": "f0a76718-6f51-4a1a-8572-13c6b72a9de2"
      },
      "source": [
        "<details><summary>Click here for the solution</summary>\n",
        "\n",
        "```python\n",
        "# Use re.sub() to replace \"fox\" with \"bear\"\n",
        "new_str1 = re.sub(r\"fox\", \"bear\", str1)\n",
        "\n",
        "print(new_str1)\n",
        "```\n",
        "\n",
        "</details>\n"
      ],
      "id": "f0a76718-6f51-4a1a-8572-13c6b72a9de2"
    },
    {
      "cell_type": "markdown",
      "metadata": {
        "id": "9b2abe2b-8cdb-42f8-911d-1bdb35d455ce"
      },
      "source": [
        "In the string <code>str2</code> find all the occurrences of <code>woo</code> using <code>findall()</code> function:\n"
      ],
      "id": "9b2abe2b-8cdb-42f8-911d-1bdb35d455ce"
    },
    {
      "cell_type": "code",
      "execution_count": null,
      "metadata": {
        "id": "52d44ff7-2768-4a9e-adb0-aacd0eb579c8",
        "outputId": "d64cb3b5-5b9a-4868-9f81-6ff8c6bf7a9c"
      },
      "outputs": [
        {
          "name": "stdout",
          "output_type": "stream",
          "text": [
            "['woo', 'woo', 'woo', 'woo']\n"
          ]
        }
      ],
      "source": [
        "str2= \"How much wood would a woodchuck chuck, if a woodchuck could chuck wood?\"\n",
        "\n",
        "# Write your code below and press Shift+Enter to execute\n",
        "print(re.findall(r'woo', str2))\n"
      ],
      "id": "52d44ff7-2768-4a9e-adb0-aacd0eb579c8"
    },
    {
      "cell_type": "markdown",
      "metadata": {
        "id": "364bb936-bf2b-4fa5-a593-7d438d2387da"
      },
      "source": [
        "<details><summary>Click here for the solution</summary>\n",
        "\n",
        "```python\n",
        "# Use re.findall() to find all occurrences of \"woo\"\n",
        "matches = re.findall(r\"woo\", str2)\n",
        "\n",
        "print(matches)\n",
        "```\n",
        "\n",
        "</details>\n"
      ],
      "id": "364bb936-bf2b-4fa5-a593-7d438d2387da"
    },
    {
      "cell_type": "markdown",
      "metadata": {
        "id": "Cbm91Ad4Ysox"
      },
      "source": [
        "\n",
        "\n",
        "# *Exercise*\n",
        "\n",
        "# Python Basics NoteBook"
      ],
      "id": "Cbm91Ad4Ysox"
    },
    {
      "cell_type": "code",
      "execution_count": 30,
      "metadata": {
        "id": "zH5DWyFnYsoy",
        "colab": {
          "base_uri": "https://localhost:8080/",
          "height": 35
        },
        "outputId": "9658e3de-fb23-4c77-b21a-a879c367219d"
      },
      "outputs": [
        {
          "output_type": "execute_result",
          "data": {
            "text/plain": [
              "'3.10.12 (main, Nov 20 2023, 15:14:05) [GCC 11.4.0]'"
            ],
            "application/vnd.google.colaboratory.intrinsic+json": {
              "type": "string"
            }
          },
          "metadata": {},
          "execution_count": 30
        }
      ],
      "source": [
        "#Write a Python code to return your Python version\n",
        "\n",
        "\n",
        "sys.version"
      ],
      "id": "zH5DWyFnYsoy"
    },
    {
      "cell_type": "code",
      "execution_count": 38,
      "metadata": {
        "id": "O6P1rXXrYsoy",
        "colab": {
          "base_uri": "https://localhost:8080/"
        },
        "outputId": "5a4ce4d4-87e0-4bee-d8e1-4320fb9ec86b"
      },
      "outputs": [
        {
          "output_type": "stream",
          "name": "stdout",
          "text": [
            "customer id = 513\n"
          ]
        }
      ],
      "source": [
        "#Write a Python code to declare variable id=\"513\".\n",
        "id = \"513\"\n",
        "\n",
        "#Print the following statement \"customer id =513\". [Don't use print(\"customer id =513\")]\n",
        "print(\"customer id = \"+id)\n"
      ],
      "id": "O6P1rXXrYsoy"
    },
    {
      "cell_type": "code",
      "execution_count": 35,
      "metadata": {
        "id": "Q4ejsdbDYsoy"
      },
      "outputs": [],
      "source": [
        "#Run the following statement, why there is an error(Ans: Here we are trying to add an integer (1) to a string (id). In Python, you cannot directly add a number to a string using the + operator. )\n",
        "''\n",
        "# id=id+1"
      ],
      "id": "Q4ejsdbDYsoy"
    },
    {
      "cell_type": "code",
      "execution_count": 40,
      "metadata": {
        "id": "EeM1SwxdYsoz",
        "colab": {
          "base_uri": "https://localhost:8080/"
        },
        "outputId": "b364c651-88ff-45d8-8c9e-5b629a2e3514"
      },
      "outputs": [
        {
          "output_type": "stream",
          "name": "stdout",
          "text": [
            "514\n"
          ]
        }
      ],
      "source": [
        "#Convert the variable id into an integer, increment it by 1.\n",
        "#Assign the result to variable new_id.\n",
        "new_id = int(id)+1\n",
        "\n",
        "#Print the new_id\n",
        "print(new_id)"
      ],
      "id": "EeM1SwxdYsoz"
    },
    {
      "cell_type": "code",
      "execution_count": 50,
      "metadata": {
        "id": "Njdk4848Ysoz",
        "colab": {
          "base_uri": "https://localhost:8080/"
        },
        "outputId": "9b302cdf-44ad-4a13-f1fa-81cd3e4e2582"
      },
      "outputs": [
        {
          "output_type": "stream",
          "name": "stdout",
          "text": [
            "Twinkle, twinkle, little star,\n",
            "\tHow I wonder what you are!\n",
            "\t\tUp above the world so high,\n",
            "\t\t\tLike a diamond in the sky.\n"
          ]
        }
      ],
      "source": [
        "#Write a Python code to print the following string in a specific format (see the output).\n",
        "\n",
        "# Twinkle, twinkle, little star,\n",
        "#     How I wonder what you are!\n",
        "#        Up above the world so high,\n",
        "#            Like a diamond in the sky.\n",
        "\n",
        "\n",
        "print(\"Twinkle, twinkle, little star,\\n\\tHow I wonder what you are!\\n\\t\\tUp above the world so high,\\n\\t\\t\\tLike a diamond in the sky.\")\n"
      ],
      "id": "Njdk4848Ysoz"
    },
    {
      "cell_type": "code",
      "execution_count": 52,
      "metadata": {
        "id": "Lzfnes3QYsoz",
        "colab": {
          "base_uri": "https://localhost:8080/"
        },
        "outputId": "65fbc267-b54c-4d4c-a95d-a1050eec95e0"
      },
      "outputs": [
        {
          "output_type": "stream",
          "name": "stdout",
          "text": [
            "P\n"
          ]
        }
      ],
      "source": [
        "#Givin the following string variable, # Print the first element in the string\n",
        "\n",
        "course=\"Python for Data Science\"\n",
        "print(course[0])"
      ],
      "id": "Lzfnes3QYsoz"
    },
    {
      "cell_type": "code",
      "execution_count": 53,
      "metadata": {
        "id": "XpF59fImYsoz",
        "colab": {
          "base_uri": "https://localhost:8080/"
        },
        "outputId": "cca48e5c-a2d4-4431-abeb-777a0dba1e1c"
      },
      "outputs": [
        {
          "output_type": "stream",
          "name": "stdout",
          "text": [
            "a\n"
          ]
        }
      ],
      "source": [
        "# Print the element on the 13th index in the string\n",
        "\n",
        "print(course[12])\n"
      ],
      "id": "XpF59fImYsoz"
    },
    {
      "cell_type": "code",
      "execution_count": 54,
      "metadata": {
        "id": "dsPe-2qcYsoz",
        "colab": {
          "base_uri": "https://localhost:8080/"
        },
        "outputId": "01fef6b9-22b2-46b1-efa9-7eaabd89ad00"
      },
      "outputs": [
        {
          "output_type": "execute_result",
          "data": {
            "text/plain": [
              "23"
            ]
          },
          "metadata": {},
          "execution_count": 54
        }
      ],
      "source": [
        "# Find the length of string\n",
        "\n",
        "len(course)"
      ],
      "id": "dsPe-2qcYsoz"
    },
    {
      "cell_type": "code",
      "execution_count": 55,
      "metadata": {
        "id": "k0jHIl5MYsoz",
        "colab": {
          "base_uri": "https://localhost:8080/",
          "height": 35
        },
        "outputId": "5bcfea33-68ae-437a-c40e-a65ec3c15b2e"
      },
      "outputs": [
        {
          "output_type": "execute_result",
          "data": {
            "text/plain": [
              "'e'"
            ],
            "application/vnd.google.colaboratory.intrinsic+json": {
              "type": "string"
            }
          },
          "metadata": {},
          "execution_count": 55
        }
      ],
      "source": [
        "# Print the last element in the string [use negative index]\n",
        "\n",
        "course[-1]"
      ],
      "id": "k0jHIl5MYsoz"
    },
    {
      "cell_type": "code",
      "execution_count": 56,
      "metadata": {
        "id": "fqXiqgKMYsoz",
        "colab": {
          "base_uri": "https://localhost:8080/",
          "height": 35
        },
        "outputId": "dae4a545-e61d-47e2-9d5d-168705c6f693"
      },
      "outputs": [
        {
          "output_type": "execute_result",
          "data": {
            "text/plain": [
              "'Data'"
            ],
            "application/vnd.google.colaboratory.intrinsic+json": {
              "type": "string"
            }
          },
          "metadata": {},
          "execution_count": 56
        }
      ],
      "source": [
        "# Take the slice on variable course with only index 11 to index 14\n",
        "\n",
        "course[11:15]"
      ],
      "id": "fqXiqgKMYsoz"
    },
    {
      "cell_type": "code",
      "execution_count": 57,
      "metadata": {
        "id": "A3Hg6AheYsoz",
        "colab": {
          "base_uri": "https://localhost:8080/",
          "height": 35
        },
        "outputId": "9558d7ec-3ca4-455f-c6d5-0ddcd9978c11"
      },
      "outputs": [
        {
          "output_type": "execute_result",
          "data": {
            "text/plain": [
              "'Ph ra i'"
            ],
            "application/vnd.google.colaboratory.intrinsic+json": {
              "type": "string"
            }
          },
          "metadata": {},
          "execution_count": 57
        }
      ],
      "source": [
        "# Get every third element in the range from index 0 to index 20\n",
        "\n",
        "course[0:20:3]"
      ],
      "id": "A3Hg6AheYsoz"
    },
    {
      "cell_type": "code",
      "execution_count": 58,
      "metadata": {
        "id": "HKTKBk8wYsoz",
        "colab": {
          "base_uri": "https://localhost:8080/"
        },
        "outputId": "d92483ad-04a9-4542-9e25-e745477c16af"
      },
      "outputs": [
        {
          "output_type": "stream",
          "name": "stdout",
          "text": [
            "Python for Data Science, AI & Development\n"
          ]
        }
      ],
      "source": [
        "# Concatenate course string with \", AI & Development\"\n",
        "\n",
        "print(course+\", AI & Development\")\n"
      ],
      "id": "HKTKBk8wYsoz"
    },
    {
      "cell_type": "code",
      "execution_count": 59,
      "metadata": {
        "id": "yKHtZNnNYso0",
        "colab": {
          "base_uri": "https://localhost:8080/"
        },
        "outputId": "2d897299-3000-45c8-c0b1-0bdfc5b5c7de"
      },
      "outputs": [
        {
          "output_type": "stream",
          "name": "stdout",
          "text": [
            "Python_for_Data_Science,_AI_&_Development\n"
          ]
        }
      ],
      "source": [
        "# Replace all the spaces with (_). New string should looks like\"Python_for_Data_Science,_AI_&_Development\"\n",
        "\n",
        "course = course+\", AI & Development\"\n",
        "print(course.replace(\" \", \"_\"))\n"
      ],
      "id": "yKHtZNnNYso0"
    },
    {
      "cell_type": "code",
      "execution_count": 60,
      "metadata": {
        "id": "vORjVD3wYso0",
        "colab": {
          "base_uri": "https://localhost:8080/"
        },
        "outputId": "59c133ad-271b-4fd5-cccd-56c756c2ffd5"
      },
      "outputs": [
        {
          "output_type": "stream",
          "name": "stdout",
          "text": [
            "PYTHON FOR DATA SCIENCE, AI & DEVELOPMENT\n"
          ]
        }
      ],
      "source": [
        "# Convert all the characters in string to upper case\n",
        "\n",
        "print(course.upper())\n"
      ],
      "id": "vORjVD3wYso0"
    },
    {
      "cell_type": "code",
      "source": [],
      "metadata": {
        "id": "m93YEAKbhhaP"
      },
      "id": "m93YEAKbhhaP",
      "execution_count": null,
      "outputs": []
    }
  ],
  "metadata": {
    "kernelspec": {
      "display_name": "Python 3 (ipykernel)",
      "language": "python",
      "name": "python3"
    },
    "language_info": {
      "codemirror_mode": {
        "name": "ipython",
        "version": 3
      },
      "file_extension": ".py",
      "mimetype": "text/x-python",
      "name": "python",
      "nbconvert_exporter": "python",
      "pygments_lexer": "ipython3",
      "version": "3.9.7"
    },
    "colab": {
      "provenance": [],
      "include_colab_link": true
    }
  },
  "nbformat": 4,
  "nbformat_minor": 5
}