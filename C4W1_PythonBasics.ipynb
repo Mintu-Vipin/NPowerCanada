{
  "cells": [
    {
      "cell_type": "markdown",
      "metadata": {
        "id": "view-in-github",
        "colab_type": "text"
      },
      "source": [
        "<a href=\"https://colab.research.google.com/github/Mintu-Vipin/NPowerCanada/blob/main/C4W1_PythonBasics.ipynb\" target=\"_parent\"><img src=\"https://colab.research.google.com/assets/colab-badge.svg\" alt=\"Open In Colab\"/></a>"
      ]
    },
    {
      "cell_type": "markdown",
      "id": "f12ec5e4",
      "metadata": {
        "id": "f12ec5e4"
      },
      "source": [
        "#Articulate\n",
        "#Python Bascis"
      ]
    },
    {
      "cell_type": "code",
      "execution_count": 5,
      "id": "21501a06",
      "metadata": {
        "colab": {
          "base_uri": "https://localhost:8080/"
        },
        "id": "21501a06",
        "outputId": "bbf3839b-d9c0-43fe-d816-1b2c96054cdd"
      },
      "outputs": [
        {
          "output_type": "stream",
          "name": "stdout",
          "text": [
            "t\n",
            "o\n"
          ]
        }
      ],
      "source": [
        "# Retrieving the character using index value\n",
        "\n",
        "name = \"tom\"\n",
        "\n",
        "print(name[0])\n",
        "\n",
        "print(name[1])"
      ]
    },
    {
      "cell_type": "code",
      "execution_count": 6,
      "id": "ae23e815",
      "metadata": {
        "colab": {
          "base_uri": "https://localhost:8080/"
        },
        "id": "ae23e815",
        "outputId": "ad042401-c8f7-4a26-9ebb-002cd07cf91d"
      },
      "outputs": [
        {
          "output_type": "stream",
          "name": "stdout",
          "text": [
            "tom and jerry\n"
          ]
        }
      ],
      "source": [
        "# Concatination\n",
        "\n",
        "s=\"tom and \"+\"jerry\"\n",
        "print(s)"
      ]
    },
    {
      "cell_type": "code",
      "execution_count": 7,
      "id": "082b4e80",
      "metadata": {
        "colab": {
          "base_uri": "https://localhost:8080/"
        },
        "id": "082b4e80",
        "outputId": "b624eb28-f4ae-4bec-f8ad-8e0c12bf5f18"
      },
      "outputs": [
        {
          "output_type": "stream",
          "name": "stdout",
          "text": [
            "Spamming is bad\n",
            "Spamming is bad\n",
            "Spamming is bad\n",
            "\n"
          ]
        }
      ],
      "source": [
        "# Printing the values multiple times\n",
        "\n",
        "t = \"Spamming is bad\\n\" *3\n",
        "print(t)"
      ]
    },
    {
      "cell_type": "code",
      "execution_count": null,
      "id": "acd271fd",
      "metadata": {
        "id": "acd271fd",
        "outputId": "32e377b5-6fd7-47a1-b7c1-0e04bbf4aeaa"
      },
      "outputs": [
        {
          "name": "stdout",
          "output_type": "stream",
          "text": [
            "el\n"
          ]
        }
      ],
      "source": [
        "# Slicing the string\n",
        "\n",
        "s = \"Welcome\"\n",
        "print(s[1:3])\n"
      ]
    },
    {
      "cell_type": "code",
      "execution_count": 8,
      "id": "e35375c9",
      "metadata": {
        "colab": {
          "base_uri": "https://localhost:8080/",
          "height": 87
        },
        "id": "e35375c9",
        "outputId": "54e15b04-ef7b-49f1-dad1-70eaa6a492ff"
      },
      "outputs": [
        {
          "output_type": "stream",
          "name": "stdout",
          "text": [
            "Incompre\n",
            "ncom\n",
            "comp\n"
          ]
        },
        {
          "output_type": "execute_result",
          "data": {
            "text/plain": [
              "''"
            ],
            "application/vnd.google.colaboratory.intrinsic+json": {
              "type": "string"
            }
          },
          "metadata": {},
          "execution_count": 8
        }
      ],
      "source": [
        "# Slicing the string\n",
        "\n",
        "a = \"Incomprehensibility\"\n",
        "\n",
        "print(a[0:8])\n",
        "\n",
        "print(a[1:5])\n",
        "\n",
        "print(a[2:6])\n",
        "\n",
        "a[-1:3]"
      ]
    },
    {
      "cell_type": "code",
      "execution_count": null,
      "id": "ca91b22c",
      "metadata": {
        "id": "ca91b22c",
        "outputId": "edb26755-8f88-4cdc-a38a-31412e691b1d"
      },
      "outputs": [
        {
          "name": "stdout",
          "output_type": "stream",
          "text": [
            "Trichotillomania\n",
            "True\n",
            "True\n",
            "False\n",
            "True\n",
            "False\n",
            "False\n",
            "False\n"
          ]
        }
      ],
      "source": [
        "# Testing\n",
        "\n",
        "a = \"Trichotillomania\"\n",
        "print(a)\n",
        "\n",
        "print(a.isalnum())\n",
        "print(a.isalpha())\n",
        "print(a.isdigit())\n",
        "print(a.isidentifier())\n",
        "print(a.islower())\n",
        "print(a.isupper())\n",
        "print(a.isspace())"
      ]
    },
    {
      "cell_type": "code",
      "execution_count": null,
      "id": "f574a5b5",
      "metadata": {
        "id": "f574a5b5",
        "outputId": "ba118704-02c2-45bc-ab12-814ec2ab023d"
      },
      "outputs": [
        {
          "name": "stdout",
          "output_type": "stream",
          "text": [
            "Tergiversation\n",
            "True\n",
            "False\n",
            "2\n",
            "4\n",
            "11\n"
          ]
        }
      ],
      "source": [
        "# Searching\n",
        "\n",
        "b = \"Tergiversation\"\n",
        "print(b)\n",
        "\n",
        "print(b.endswith('on'))\n",
        "print(b.startswith('te'))\n",
        "print(b.count('i'))\n",
        "print(b.find('i'))\n",
        "print(b.rfind('i'))"
      ]
    },
    {
      "cell_type": "code",
      "execution_count": null,
      "id": "6e31f9b2",
      "metadata": {
        "id": "6e31f9b2",
        "outputId": "eb0fb097-9292-4eaa-cbe5-01eba5466300"
      },
      "outputs": [
        {
          "name": "stdout",
          "output_type": "stream",
          "text": [
            "Xenotransplantation\n",
            "Xenotransplantation\n",
            "xenotransplantation\n",
            "XENOTRANSPLANTATION\n",
            "Xenotransplantation\n",
            "xENOTRANSPLANTATION\n",
            "Yenotransplantation\n"
          ]
        }
      ],
      "source": [
        "# Converting\n",
        "\n",
        "c = \"Xenotransplantation\"\n",
        "print(c)\n",
        "\n",
        "print(c.capitalize())\n",
        "print(c.lower())\n",
        "print(c.upper())\n",
        "print(c.title())\n",
        "print(c.swapcase())\n",
        "print(c.replace('X', 'Y'))"
      ]
    },
    {
      "cell_type": "code",
      "execution_count": null,
      "id": "6c4cc609",
      "metadata": {
        "id": "6c4cc609"
      },
      "outputs": [],
      "source": [
        "POPSTAR = \"DIZZY DRAKE\""
      ]
    },
    {
      "cell_type": "code",
      "execution_count": null,
      "id": "4ac10933",
      "metadata": {
        "id": "4ac10933",
        "outputId": "1b4c2d19-c4b9-46e3-f7d7-5bd66f840f9a"
      },
      "outputs": [
        {
          "name": "stdout",
          "output_type": "stream",
          "text": [
            "1.  4\n",
            "    10\n",
            "2.  Z\n",
            "3.  K\n",
            "4.  DIZZY \n",
            "5.  DRAKE\n"
          ]
        }
      ],
      "source": [
        "# Assuming positive index numbers, what are the index numbers of the letters Y and E?\n",
        "print(f\"1. \", POPSTAR.find('Y'))\n",
        "print(f\"   \",POPSTAR.find('E'))\n",
        "\n",
        "# What is the result of the input POPSTAR[3] ?\n",
        "print(f\"2. \", POPSTAR[3] )\n",
        "\n",
        "\n",
        "# What input returns the result “K” ?\n",
        "print(f\"3. \", POPSTAR[9] )\n",
        "\n",
        "\n",
        "# What is the result of the input POPSTAR[0:6] ?\n",
        "print(f\"4. \", POPSTAR[0:6] )\n",
        "\n",
        "\n",
        "# What input returns the result “DRAKE” ?\n",
        "print(f\"5. \", POPSTAR[6:11] )\n"
      ]
    },
    {
      "cell_type": "code",
      "execution_count": null,
      "id": "a413c0fe",
      "metadata": {
        "id": "a413c0fe",
        "outputId": "a75a5d96-463b-4e06-c5df-13f16dd1b844"
      },
      "outputs": [
        {
          "name": "stdout",
          "output_type": "stream",
          "text": [
            "1.  4\n",
            "    1\n",
            "2.  R\n",
            "3.  8\n",
            "4.  7\n"
          ]
        }
      ],
      "source": [
        "# Now, for the same string, assuming negative index numbers:\n",
        "\n",
        "# What are the index numbers of the letter Y and I?\n",
        "print(f\"1. \", POPSTAR.find('Y'))\n",
        "print(f\"   \", POPSTAR.find('I'))\n",
        "\n",
        "# What is the result of the input POPSTAR[-4]?\n",
        "print(f\"2. \", POPSTAR[-4])\n",
        "\n",
        "# What input returns the result 'A'?\n",
        "print(f\"3. \", POPSTAR.find('A'))\n",
        "\n",
        "# What input returns the result \"RAKE\"?\n",
        "print(f\"4. \", POPSTAR.find('RAKE'))\n"
      ]
    },
    {
      "cell_type": "code",
      "execution_count": null,
      "id": "61b31e1e",
      "metadata": {
        "id": "61b31e1e",
        "outputId": "a1f0bde3-dee6-42f7-c27d-86db3e8b8a61"
      },
      "outputs": [
        {
          "name": "stdout",
          "output_type": "stream",
          "text": [
            "1.  MMAMNAIY\n",
            "2.  MMAMN\n",
            "3.  MA\n",
            "4.   NL\n",
            "5.  A TT\n"
          ]
        }
      ],
      "source": [
        "SUCCESS = \"MAMBA MENTALITY\"\n",
        "\n",
        "# Assuming positive index numbers, what is the result of the input SUCCESS[::2] ?\n",
        "print(f\"1. \", SUCCESS[::2])\n",
        "\n",
        "# What is the result of the input SUCCESS[0:10:2] ?\n",
        "print(f\"2. \", SUCCESS[0:10:2])\n",
        "\n",
        "# What is the result of the input SUCCESS[2:5:2] ?\n",
        "print(f\"3. \", SUCCESS[2:5:2])\n",
        "\n",
        "# What input returns the result “ NL” ? (*notice the space)\n",
        "print(f\"4. \", SUCCESS[5:12:3])\n",
        "\n",
        "# What input returns the result “A TT” ? (*notice the space)\n",
        "print(f\"5. \", SUCCESS[1:14:4])"
      ]
    },
    {
      "cell_type": "code",
      "execution_count": null,
      "id": "93d5a2ac",
      "metadata": {
        "id": "93d5a2ac",
        "outputId": "b10f43b3-9732-4d69-a6a8-b68a66734737"
      },
      "outputs": [
        {
          "name": "stdout",
          "output_type": "stream",
          "text": [
            "1.  HARRY POTTER IS A BESTSELLER\n",
            "2.  HARRY POTTER IS A BESTSELLER AND J.K ROWLING IS A GENIUS\n"
          ]
        }
      ],
      "source": [
        "BOOK= \"HARRY POTTER\"\n",
        "COMMENT= \"IS A BESTSELLER\"\n",
        "\n",
        "# If we want to create a new string that reads, “HARRY POTTER\n",
        "# IS A BESTSELLER” what input would we use?\n",
        "\n",
        "print(f\"1.  \" + BOOK + \" \" + COMMENT)\n",
        "\n",
        "\n",
        "# If we want to create a new string that reads, “HARRY POTTER IS A BESTSELLER AND J.K ROWLING IS A GENIUS” what input would we use?\n",
        "print(f\"2.  \" + BOOK + \" \" + COMMENT + \" AND J.K ROWLING IS A GENIUS\")"
      ]
    },
    {
      "cell_type": "code",
      "execution_count": null,
      "id": "8fa532b6",
      "metadata": {
        "id": "8fa532b6",
        "outputId": "ea8efef1-e214-4af2-b1eb-a0e47f7fb0ca"
      },
      "outputs": [
        {
          "name": "stdout",
          "output_type": "stream",
          "text": [
            "MIDDLE CHILDREN HAVE IT THE WORST\n",
            "Middle children have it the worst\n"
          ]
        }
      ],
      "source": [
        "Siblings = \"Middle children have it the worst\"\n",
        "\n",
        "# Convert the string to upper case letters and store it in a new variable called Siblings2\n",
        "Siblings2 = Siblings.upper()\n",
        "print(Siblings2)\n",
        "\n",
        "# Replace the word ‘worst’ with ‘best’ and store the new string in the variable Siblings3\n",
        "Siblings3 = Siblings.replace('best','worse')\n",
        "print(Siblings3)"
      ]
    },
    {
      "cell_type": "code",
      "execution_count": null,
      "id": "e761e620",
      "metadata": {
        "id": "e761e620",
        "outputId": "d268524d-fd11-424b-ab5d-83b80935c074"
      },
      "outputs": [
        {
          "name": "stdout",
          "output_type": "stream",
          "text": [
            "3\n",
            "30\n",
            "-1\n"
          ]
        }
      ],
      "source": [
        "truth= 'We can do anything we set our minds to'\n",
        "\n",
        "# Assuming positive index numbers, what is the result of the input truth.find(‘can’) ? What does this result mean?\n",
        "print(truth.find('can') )\n",
        "\n",
        "# What is the result of the input truth.find(‘minds’) ?\n",
        "print(truth.find('minds') )\n",
        "\n",
        "# What is the result of the input truth.find(‘believe’) ?\n",
        "print(truth.find('believe') )"
      ]
    },
    {
      "cell_type": "code",
      "execution_count": null,
      "id": "7a7b8fec",
      "metadata": {
        "id": "7a7b8fec",
        "outputId": "ab7963be-b250-4a23-c40b-e88e32d8ee85"
      },
      "outputs": [
        {
          "name": "stdout",
          "output_type": "stream",
          "text": [
            "JENNIFER LOPEZ\n",
            "IS AN AWESOME DANCER!\n",
            "colour ---> purple\n",
            "The backslash \\ is so cool\n"
          ]
        }
      ],
      "source": [
        "# What inputs would you run to print each of the following?\n",
        "\n",
        "# JENNIFER LOPEZ\n",
        "# IS AN AWESOME DANCER!\n",
        "print(f\"JENNIFER LOPEZ\\nIS AN AWESOME DANCER!\")\n",
        "\n",
        "\n",
        "# colour ---> purple\n",
        "print(f\"colour ---> purple\")\n",
        "\n",
        "\n",
        "# The backslash \\ is so cool\n",
        "print(f\"The backslash \\ is so cool\")"
      ]
    },
    {
      "cell_type": "markdown",
      "id": "7cb6c74d",
      "metadata": {
        "id": "7cb6c74d"
      },
      "source": [
        "# Variables and Expressions"
      ]
    },
    {
      "cell_type": "code",
      "execution_count": 4,
      "id": "6ddf677c",
      "metadata": {
        "colab": {
          "base_uri": "https://localhost:8080/"
        },
        "id": "6ddf677c",
        "outputId": "220a6971-e574-4e13-af4a-ab2a56be4dab"
      },
      "outputs": [
        {
          "output_type": "stream",
          "name": "stdout",
          "text": [
            "What's up, Doc?\n",
            "17\n",
            "3.14159\n",
            "<class 'str'>\n",
            "<class 'int'>\n",
            "<class 'float'>\n"
          ]
        }
      ],
      "source": [
        "message = \"What's up, Doc?\"\n",
        "n = 17\n",
        "pi = 3.14159\n",
        "\n",
        "print(message)\n",
        "print(n)\n",
        "print(pi)\n",
        "\n",
        "print(type(message))\n",
        "print(type(n))\n",
        "print(type(pi))\n"
      ]
    },
    {
      "cell_type": "code",
      "execution_count": 21,
      "id": "ae13afb8",
      "metadata": {
        "colab": {
          "base_uri": "https://localhost:8080/"
        },
        "id": "ae13afb8",
        "outputId": "879a00da-2610-469e-d69d-c02a6fc9ebd9"
      },
      "outputs": [
        {
          "output_type": "stream",
          "name": "stdout",
          "text": [
            "12\n",
            "4.666666666666667\n",
            "12\n",
            "70\n"
          ]
        }
      ],
      "source": [
        "# Do the following operations\n",
        "\n",
        " a = 7\n",
        " b = 5\n",
        "\n",
        "\n",
        "print(a+b)\n",
        "print(2*a/3)\n",
        "print(5*b//2)\n",
        "print(a*2*b)"
      ]
    },
    {
      "cell_type": "code",
      "source": [
        "# Order of operations(Operators with the same precedence are evaluated from left to right)\n",
        "\n",
        "# Parentheses -----> Exponentiation ------>  Multiplication and Division ----->  Addition and Subtraction\n",
        "\n",
        "\n",
        "\n",
        "print((8-5)*4-5)\n",
        "print(56/8*7-5)\n",
        "print(15-(3+2)/5)\n",
        "print(7*5//6)"
      ],
      "metadata": {
        "colab": {
          "base_uri": "https://localhost:8080/"
        },
        "id": "1PoA4R63WFq6",
        "outputId": "9c4eba84-b6fe-4da2-8863-3265d708f558"
      },
      "id": "1PoA4R63WFq6",
      "execution_count": 26,
      "outputs": [
        {
          "output_type": "stream",
          "name": "stdout",
          "text": [
            "7\n",
            "44.0\n",
            "14.0\n",
            "5\n"
          ]
        }
      ]
    },
    {
      "cell_type": "markdown",
      "metadata": {
        "id": "Cbm91Ad4Ysox"
      },
      "source": [
        "\n",
        "\n",
        "# *Exercise*\n",
        "\n",
        "# Python Basics NoteBook"
      ],
      "id": "Cbm91Ad4Ysox"
    },
    {
      "cell_type": "code",
      "execution_count": 30,
      "metadata": {
        "id": "zH5DWyFnYsoy",
        "colab": {
          "base_uri": "https://localhost:8080/",
          "height": 35
        },
        "outputId": "9658e3de-fb23-4c77-b21a-a879c367219d"
      },
      "outputs": [
        {
          "output_type": "execute_result",
          "data": {
            "text/plain": [
              "'3.10.12 (main, Nov 20 2023, 15:14:05) [GCC 11.4.0]'"
            ],
            "application/vnd.google.colaboratory.intrinsic+json": {
              "type": "string"
            }
          },
          "metadata": {},
          "execution_count": 30
        }
      ],
      "source": [
        "#Write a Python code to return your Python version\n",
        "\n",
        "\n",
        "sys.version"
      ],
      "id": "zH5DWyFnYsoy"
    },
    {
      "cell_type": "code",
      "execution_count": 38,
      "metadata": {
        "id": "O6P1rXXrYsoy",
        "colab": {
          "base_uri": "https://localhost:8080/"
        },
        "outputId": "5a4ce4d4-87e0-4bee-d8e1-4320fb9ec86b"
      },
      "outputs": [
        {
          "output_type": "stream",
          "name": "stdout",
          "text": [
            "customer id = 513\n"
          ]
        }
      ],
      "source": [
        "#Write a Python code to declare variable id=\"513\".\n",
        "id = \"513\"\n",
        "\n",
        "#Print the following statement \"customer id =513\". [Don't use print(\"customer id =513\")]\n",
        "print(\"customer id = \"+id)\n"
      ],
      "id": "O6P1rXXrYsoy"
    },
    {
      "cell_type": "code",
      "execution_count": 35,
      "metadata": {
        "id": "Q4ejsdbDYsoy"
      },
      "outputs": [],
      "source": [
        "#Run the following statement, why there is an error(Ans: Here we are trying to add an integer (1) to a string (id). In Python, you cannot directly add a number to a string using the + operator. )\n",
        "''\n",
        "# id=id+1"
      ],
      "id": "Q4ejsdbDYsoy"
    },
    {
      "cell_type": "code",
      "execution_count": 40,
      "metadata": {
        "id": "EeM1SwxdYsoz",
        "colab": {
          "base_uri": "https://localhost:8080/"
        },
        "outputId": "b364c651-88ff-45d8-8c9e-5b629a2e3514"
      },
      "outputs": [
        {
          "output_type": "stream",
          "name": "stdout",
          "text": [
            "514\n"
          ]
        }
      ],
      "source": [
        "#Convert the variable id into an integer, increment it by 1.\n",
        "#Assign the result to variable new_id.\n",
        "new_id = int(id)+1\n",
        "\n",
        "#Print the new_id\n",
        "print(new_id)"
      ],
      "id": "EeM1SwxdYsoz"
    },
    {
      "cell_type": "code",
      "execution_count": 50,
      "metadata": {
        "id": "Njdk4848Ysoz",
        "colab": {
          "base_uri": "https://localhost:8080/"
        },
        "outputId": "9b302cdf-44ad-4a13-f1fa-81cd3e4e2582"
      },
      "outputs": [
        {
          "output_type": "stream",
          "name": "stdout",
          "text": [
            "Twinkle, twinkle, little star,\n",
            "\tHow I wonder what you are!\n",
            "\t\tUp above the world so high,\n",
            "\t\t\tLike a diamond in the sky.\n"
          ]
        }
      ],
      "source": [
        "#Write a Python code to print the following string in a specific format (see the output).\n",
        "\n",
        "# Twinkle, twinkle, little star,\n",
        "#     How I wonder what you are!\n",
        "#        Up above the world so high,\n",
        "#            Like a diamond in the sky.\n",
        "\n",
        "\n",
        "print(\"Twinkle, twinkle, little star,\\n\\tHow I wonder what you are!\\n\\t\\tUp above the world so high,\\n\\t\\t\\tLike a diamond in the sky.\")\n"
      ],
      "id": "Njdk4848Ysoz"
    },
    {
      "cell_type": "code",
      "execution_count": 52,
      "metadata": {
        "id": "Lzfnes3QYsoz",
        "colab": {
          "base_uri": "https://localhost:8080/"
        },
        "outputId": "65fbc267-b54c-4d4c-a95d-a1050eec95e0"
      },
      "outputs": [
        {
          "output_type": "stream",
          "name": "stdout",
          "text": [
            "P\n"
          ]
        }
      ],
      "source": [
        "#Givin the following string variable, # Print the first element in the string\n",
        "\n",
        "course=\"Python for Data Science\"\n",
        "print(course[0])"
      ],
      "id": "Lzfnes3QYsoz"
    },
    {
      "cell_type": "code",
      "execution_count": 53,
      "metadata": {
        "id": "XpF59fImYsoz",
        "colab": {
          "base_uri": "https://localhost:8080/"
        },
        "outputId": "cca48e5c-a2d4-4431-abeb-777a0dba1e1c"
      },
      "outputs": [
        {
          "output_type": "stream",
          "name": "stdout",
          "text": [
            "a\n"
          ]
        }
      ],
      "source": [
        "# Print the element on the 13th index in the string\n",
        "\n",
        "print(course[12])\n"
      ],
      "id": "XpF59fImYsoz"
    },
    {
      "cell_type": "code",
      "execution_count": 54,
      "metadata": {
        "id": "dsPe-2qcYsoz",
        "colab": {
          "base_uri": "https://localhost:8080/"
        },
        "outputId": "01fef6b9-22b2-46b1-efa9-7eaabd89ad00"
      },
      "outputs": [
        {
          "output_type": "execute_result",
          "data": {
            "text/plain": [
              "23"
            ]
          },
          "metadata": {},
          "execution_count": 54
        }
      ],
      "source": [
        "# Find the length of string\n",
        "\n",
        "len(course)"
      ],
      "id": "dsPe-2qcYsoz"
    },
    {
      "cell_type": "code",
      "execution_count": 55,
      "metadata": {
        "id": "k0jHIl5MYsoz",
        "colab": {
          "base_uri": "https://localhost:8080/",
          "height": 35
        },
        "outputId": "5bcfea33-68ae-437a-c40e-a65ec3c15b2e"
      },
      "outputs": [
        {
          "output_type": "execute_result",
          "data": {
            "text/plain": [
              "'e'"
            ],
            "application/vnd.google.colaboratory.intrinsic+json": {
              "type": "string"
            }
          },
          "metadata": {},
          "execution_count": 55
        }
      ],
      "source": [
        "# Print the last element in the string [use negative index]\n",
        "\n",
        "course[-1]"
      ],
      "id": "k0jHIl5MYsoz"
    },
    {
      "cell_type": "code",
      "execution_count": 56,
      "metadata": {
        "id": "fqXiqgKMYsoz",
        "colab": {
          "base_uri": "https://localhost:8080/",
          "height": 35
        },
        "outputId": "dae4a545-e61d-47e2-9d5d-168705c6f693"
      },
      "outputs": [
        {
          "output_type": "execute_result",
          "data": {
            "text/plain": [
              "'Data'"
            ],
            "application/vnd.google.colaboratory.intrinsic+json": {
              "type": "string"
            }
          },
          "metadata": {},
          "execution_count": 56
        }
      ],
      "source": [
        "# Take the slice on variable course with only index 11 to index 14\n",
        "\n",
        "course[11:15]"
      ],
      "id": "fqXiqgKMYsoz"
    },
    {
      "cell_type": "code",
      "execution_count": 57,
      "metadata": {
        "id": "A3Hg6AheYsoz",
        "colab": {
          "base_uri": "https://localhost:8080/",
          "height": 35
        },
        "outputId": "9558d7ec-3ca4-455f-c6d5-0ddcd9978c11"
      },
      "outputs": [
        {
          "output_type": "execute_result",
          "data": {
            "text/plain": [
              "'Ph ra i'"
            ],
            "application/vnd.google.colaboratory.intrinsic+json": {
              "type": "string"
            }
          },
          "metadata": {},
          "execution_count": 57
        }
      ],
      "source": [
        "# Get every third element in the range from index 0 to index 20\n",
        "\n",
        "course[0:20:3]"
      ],
      "id": "A3Hg6AheYsoz"
    },
    {
      "cell_type": "code",
      "execution_count": 58,
      "metadata": {
        "id": "HKTKBk8wYsoz",
        "colab": {
          "base_uri": "https://localhost:8080/"
        },
        "outputId": "d92483ad-04a9-4542-9e25-e745477c16af"
      },
      "outputs": [
        {
          "output_type": "stream",
          "name": "stdout",
          "text": [
            "Python for Data Science, AI & Development\n"
          ]
        }
      ],
      "source": [
        "# Concatenate course string with \", AI & Development\"\n",
        "\n",
        "print(course+\", AI & Development\")\n"
      ],
      "id": "HKTKBk8wYsoz"
    },
    {
      "cell_type": "code",
      "execution_count": 59,
      "metadata": {
        "id": "yKHtZNnNYso0",
        "colab": {
          "base_uri": "https://localhost:8080/"
        },
        "outputId": "2d897299-3000-45c8-c0b1-0bdfc5b5c7de"
      },
      "outputs": [
        {
          "output_type": "stream",
          "name": "stdout",
          "text": [
            "Python_for_Data_Science,_AI_&_Development\n"
          ]
        }
      ],
      "source": [
        "# Replace all the spaces with (_). New string should looks like\"Python_for_Data_Science,_AI_&_Development\"\n",
        "\n",
        "course = course+\", AI & Development\"\n",
        "print(course.replace(\" \", \"_\"))\n"
      ],
      "id": "yKHtZNnNYso0"
    },
    {
      "cell_type": "code",
      "execution_count": 60,
      "metadata": {
        "id": "vORjVD3wYso0",
        "colab": {
          "base_uri": "https://localhost:8080/"
        },
        "outputId": "59c133ad-271b-4fd5-cccd-56c756c2ffd5"
      },
      "outputs": [
        {
          "output_type": "stream",
          "name": "stdout",
          "text": [
            "PYTHON FOR DATA SCIENCE, AI & DEVELOPMENT\n"
          ]
        }
      ],
      "source": [
        "# Convert all the characters in string to upper case\n",
        "\n",
        "print(course.upper())\n"
      ],
      "id": "vORjVD3wYso0"
    },
    {
      "cell_type": "code",
      "source": [],
      "metadata": {
        "id": "m93YEAKbhhaP"
      },
      "id": "m93YEAKbhhaP",
      "execution_count": null,
      "outputs": []
    }
  ],
  "metadata": {
    "kernelspec": {
      "display_name": "Python 3 (ipykernel)",
      "language": "python",
      "name": "python3"
    },
    "language_info": {
      "codemirror_mode": {
        "name": "ipython",
        "version": 3
      },
      "file_extension": ".py",
      "mimetype": "text/x-python",
      "name": "python",
      "nbconvert_exporter": "python",
      "pygments_lexer": "ipython3",
      "version": "3.9.7"
    },
    "colab": {
      "provenance": [],
      "include_colab_link": true
    }
  },
  "nbformat": 4,
  "nbformat_minor": 5
}