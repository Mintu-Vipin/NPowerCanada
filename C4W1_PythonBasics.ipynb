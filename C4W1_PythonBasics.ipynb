{
  "cells": [
    {
      "cell_type": "markdown",
      "metadata": {
        "id": "view-in-github",
        "colab_type": "text"
      },
      "source": [
        "<a href=\"https://colab.research.google.com/github/Mintu-Vipin/NPowerCanada/blob/main/C4W1_PythonBasics.ipynb\" target=\"_parent\"><img src=\"https://colab.research.google.com/assets/colab-badge.svg\" alt=\"Open In Colab\"/></a>"
      ]
    },
    {
      "cell_type": "markdown",
      "id": "f12ec5e4",
      "metadata": {
        "id": "f12ec5e4"
      },
      "source": [
        "#Articulate\n",
        "#Python Bascis"
      ]
    },
    {
      "cell_type": "code",
      "execution_count": null,
      "id": "21501a06",
      "metadata": {
        "id": "21501a06",
        "outputId": "b1c3a6f9-6e8d-43ef-fd6e-e458f2cd4b0e"
      },
      "outputs": [
        {
          "name": "stdout",
          "output_type": "stream",
          "text": [
            "t\n",
            "o\n"
          ]
        }
      ],
      "source": [
        "name = \"tom\"\n",
        "\n",
        "print(name[0])\n",
        "\n",
        "print(name[1])"
      ]
    },
    {
      "cell_type": "code",
      "execution_count": null,
      "id": "ae23e815",
      "metadata": {
        "id": "ae23e815",
        "outputId": "97cf82ef-3433-4907-8c42-59bb5de4768e"
      },
      "outputs": [
        {
          "name": "stdout",
          "output_type": "stream",
          "text": [
            "tom and jerry\n"
          ]
        }
      ],
      "source": [
        "s=\"tom and \"+\"jerry\"\n",
        "print(s)"
      ]
    },
    {
      "cell_type": "code",
      "execution_count": null,
      "id": "082b4e80",
      "metadata": {
        "id": "082b4e80",
        "outputId": "1d1de2f4-9b0d-4dc4-af3c-56d26a316999"
      },
      "outputs": [
        {
          "name": "stdout",
          "output_type": "stream",
          "text": [
            "Spamming is bad\n",
            "Spamming is bad\n",
            "Spamming is bad\n",
            "\n"
          ]
        }
      ],
      "source": [
        "t = \"Spamming is bad\\n\" *3\n",
        "print(t)"
      ]
    },
    {
      "cell_type": "code",
      "execution_count": null,
      "id": "acd271fd",
      "metadata": {
        "id": "acd271fd",
        "outputId": "32e377b5-6fd7-47a1-b7c1-0e04bbf4aeaa"
      },
      "outputs": [
        {
          "name": "stdout",
          "output_type": "stream",
          "text": [
            "el\n"
          ]
        }
      ],
      "source": [
        "s = \"Welcome\"\n",
        "print(s[1:3])\n"
      ]
    },
    {
      "cell_type": "code",
      "execution_count": null,
      "id": "e35375c9",
      "metadata": {
        "id": "e35375c9",
        "outputId": "b1c7d496-c028-4ef2-bfd6-f427735483a7"
      },
      "outputs": [
        {
          "name": "stdout",
          "output_type": "stream",
          "text": [
            "Incompre\n",
            "ncom\n",
            "comp\n"
          ]
        },
        {
          "data": {
            "text/plain": [
              "''"
            ]
          },
          "execution_count": 17,
          "metadata": {},
          "output_type": "execute_result"
        }
      ],
      "source": [
        "a = \"Incomprehensibility\"\n",
        "\n",
        "print(a[0:8])\n",
        "\n",
        "print(a[1:5])\n",
        "\n",
        "print(a[2:6])\n",
        "\n",
        "a[-1:3]"
      ]
    },
    {
      "cell_type": "code",
      "execution_count": null,
      "id": "ca91b22c",
      "metadata": {
        "id": "ca91b22c",
        "outputId": "edb26755-8f88-4cdc-a38a-31412e691b1d"
      },
      "outputs": [
        {
          "name": "stdout",
          "output_type": "stream",
          "text": [
            "Trichotillomania\n",
            "True\n",
            "True\n",
            "False\n",
            "True\n",
            "False\n",
            "False\n",
            "False\n"
          ]
        }
      ],
      "source": [
        "# Testing\n",
        "\n",
        "a = \"Trichotillomania\"\n",
        "print(a)\n",
        "\n",
        "print(a.isalnum())\n",
        "print(a.isalpha())\n",
        "print(a.isdigit())\n",
        "print(a.isidentifier())\n",
        "print(a.islower())\n",
        "print(a.isupper())\n",
        "print(a.isspace())"
      ]
    },
    {
      "cell_type": "code",
      "execution_count": null,
      "id": "f574a5b5",
      "metadata": {
        "id": "f574a5b5",
        "outputId": "ba118704-02c2-45bc-ab12-814ec2ab023d"
      },
      "outputs": [
        {
          "name": "stdout",
          "output_type": "stream",
          "text": [
            "Tergiversation\n",
            "True\n",
            "False\n",
            "2\n",
            "4\n",
            "11\n"
          ]
        }
      ],
      "source": [
        "# Searching\n",
        "\n",
        "b = \"Tergiversation\"\n",
        "print(b)\n",
        "\n",
        "print(b.endswith('on'))\n",
        "print(b.startswith('te'))\n",
        "print(b.count('i'))\n",
        "print(b.find('i'))\n",
        "print(b.rfind('i'))"
      ]
    },
    {
      "cell_type": "code",
      "execution_count": null,
      "id": "6e31f9b2",
      "metadata": {
        "id": "6e31f9b2",
        "outputId": "eb0fb097-9292-4eaa-cbe5-01eba5466300"
      },
      "outputs": [
        {
          "name": "stdout",
          "output_type": "stream",
          "text": [
            "Xenotransplantation\n",
            "Xenotransplantation\n",
            "xenotransplantation\n",
            "XENOTRANSPLANTATION\n",
            "Xenotransplantation\n",
            "xENOTRANSPLANTATION\n",
            "Yenotransplantation\n"
          ]
        }
      ],
      "source": [
        "# Converting\n",
        "\n",
        "c = \"Xenotransplantation\"\n",
        "print(c)\n",
        "\n",
        "print(c.capitalize())\n",
        "print(c.lower())\n",
        "print(c.upper())\n",
        "print(c.title())\n",
        "print(c.swapcase())\n",
        "print(c.replace('X', 'Y'))"
      ]
    },
    {
      "cell_type": "code",
      "execution_count": null,
      "id": "6c4cc609",
      "metadata": {
        "id": "6c4cc609"
      },
      "outputs": [],
      "source": [
        "POPSTAR = \"DIZZY DRAKE\""
      ]
    },
    {
      "cell_type": "code",
      "execution_count": null,
      "id": "4ac10933",
      "metadata": {
        "id": "4ac10933",
        "outputId": "1b4c2d19-c4b9-46e3-f7d7-5bd66f840f9a"
      },
      "outputs": [
        {
          "name": "stdout",
          "output_type": "stream",
          "text": [
            "1.  4\n",
            "    10\n",
            "2.  Z\n",
            "3.  K\n",
            "4.  DIZZY \n",
            "5.  DRAKE\n"
          ]
        }
      ],
      "source": [
        "# Assuming positive index numbers, what are the index numbers of the letters Y and E?\n",
        "print(f\"1. \", POPSTAR.find('Y'))\n",
        "print(f\"   \",POPSTAR.find('E'))\n",
        "\n",
        "# What is the result of the input POPSTAR[3] ?\n",
        "print(f\"2. \", POPSTAR[3] )\n",
        "\n",
        "\n",
        "# What input returns the result “K” ?\n",
        "print(f\"3. \", POPSTAR[9] )\n",
        "\n",
        "\n",
        "# What is the result of the input POPSTAR[0:6] ?\n",
        "print(f\"4. \", POPSTAR[0:6] )\n",
        "\n",
        "\n",
        "# What input returns the result “DRAKE” ?\n",
        "print(f\"5. \", POPSTAR[6:11] )\n"
      ]
    },
    {
      "cell_type": "code",
      "execution_count": null,
      "id": "a413c0fe",
      "metadata": {
        "id": "a413c0fe",
        "outputId": "a75a5d96-463b-4e06-c5df-13f16dd1b844"
      },
      "outputs": [
        {
          "name": "stdout",
          "output_type": "stream",
          "text": [
            "1.  4\n",
            "    1\n",
            "2.  R\n",
            "3.  8\n",
            "4.  7\n"
          ]
        }
      ],
      "source": [
        "# Now, for the same string, assuming negative index numbers:\n",
        "\n",
        "# What are the index numbers of the letter Y and I?\n",
        "print(f\"1. \", POPSTAR.find('Y'))\n",
        "print(f\"   \", POPSTAR.find('I'))\n",
        "\n",
        "# What is the result of the input POPSTAR[-4]?\n",
        "print(f\"2. \", POPSTAR[-4])\n",
        "\n",
        "# What input returns the result 'A'?\n",
        "print(f\"3. \", POPSTAR.find('A'))\n",
        "\n",
        "# What input returns the result \"RAKE\"?\n",
        "print(f\"4. \", POPSTAR.find('RAKE'))\n"
      ]
    },
    {
      "cell_type": "code",
      "execution_count": null,
      "id": "61b31e1e",
      "metadata": {
        "id": "61b31e1e",
        "outputId": "a1f0bde3-dee6-42f7-c27d-86db3e8b8a61"
      },
      "outputs": [
        {
          "name": "stdout",
          "output_type": "stream",
          "text": [
            "1.  MMAMNAIY\n",
            "2.  MMAMN\n",
            "3.  MA\n",
            "4.   NL\n",
            "5.  A TT\n"
          ]
        }
      ],
      "source": [
        "SUCCESS = \"MAMBA MENTALITY\"\n",
        "\n",
        "# Assuming positive index numbers, what is the result of the input SUCCESS[::2] ?\n",
        "print(f\"1. \", SUCCESS[::2])\n",
        "\n",
        "# What is the result of the input SUCCESS[0:10:2] ?\n",
        "print(f\"2. \", SUCCESS[0:10:2])\n",
        "\n",
        "# What is the result of the input SUCCESS[2:5:2] ?\n",
        "print(f\"3. \", SUCCESS[2:5:2])\n",
        "\n",
        "# What input returns the result “ NL” ? (*notice the space)\n",
        "print(f\"4. \", SUCCESS[5:12:3])\n",
        "\n",
        "# What input returns the result “A TT” ? (*notice the space)\n",
        "print(f\"5. \", SUCCESS[1:14:4])"
      ]
    },
    {
      "cell_type": "code",
      "execution_count": null,
      "id": "93d5a2ac",
      "metadata": {
        "id": "93d5a2ac",
        "outputId": "b10f43b3-9732-4d69-a6a8-b68a66734737"
      },
      "outputs": [
        {
          "name": "stdout",
          "output_type": "stream",
          "text": [
            "1.  HARRY POTTER IS A BESTSELLER\n",
            "2.  HARRY POTTER IS A BESTSELLER AND J.K ROWLING IS A GENIUS\n"
          ]
        }
      ],
      "source": [
        "BOOK= \"HARRY POTTER\"\n",
        "COMMENT= \"IS A BESTSELLER\"\n",
        "\n",
        "# If we want to create a new string that reads, “HARRY POTTER\n",
        "# IS A BESTSELLER” what input would we use?\n",
        "\n",
        "print(f\"1.  \" + BOOK + \" \" + COMMENT)\n",
        "\n",
        "\n",
        "# If we want to create a new string that reads, “HARRY POTTER IS A BESTSELLER AND J.K ROWLING IS A GENIUS” what input would we use?\n",
        "print(f\"2.  \" + BOOK + \" \" + COMMENT + \" AND J.K ROWLING IS A GENIUS\")"
      ]
    },
    {
      "cell_type": "code",
      "execution_count": null,
      "id": "8fa532b6",
      "metadata": {
        "id": "8fa532b6",
        "outputId": "ea8efef1-e214-4af2-b1eb-a0e47f7fb0ca"
      },
      "outputs": [
        {
          "name": "stdout",
          "output_type": "stream",
          "text": [
            "MIDDLE CHILDREN HAVE IT THE WORST\n",
            "Middle children have it the worst\n"
          ]
        }
      ],
      "source": [
        "Siblings = \"Middle children have it the worst\"\n",
        "\n",
        "# Convert the string to upper case letters and store it in a new variable called Siblings2\n",
        "Siblings2 = Siblings.upper()\n",
        "print(Siblings2)\n",
        "\n",
        "# Replace the word ‘worst’ with ‘best’ and store the new string in the variable Siblings3\n",
        "Siblings3 = Siblings.replace('best','worse')\n",
        "print(Siblings3)"
      ]
    },
    {
      "cell_type": "code",
      "execution_count": null,
      "id": "e761e620",
      "metadata": {
        "id": "e761e620",
        "outputId": "d268524d-fd11-424b-ab5d-83b80935c074"
      },
      "outputs": [
        {
          "name": "stdout",
          "output_type": "stream",
          "text": [
            "3\n",
            "30\n",
            "-1\n"
          ]
        }
      ],
      "source": [
        "truth= 'We can do anything we set our minds to'\n",
        "\n",
        "# Assuming positive index numbers, what is the result of the input truth.find(‘can’) ? What does this result mean?\n",
        "print(truth.find('can') )\n",
        "\n",
        "# What is the result of the input truth.find(‘minds’) ?\n",
        "print(truth.find('minds') )\n",
        "\n",
        "# What is the result of the input truth.find(‘believe’) ?\n",
        "print(truth.find('believe') )"
      ]
    },
    {
      "cell_type": "code",
      "execution_count": null,
      "id": "7a7b8fec",
      "metadata": {
        "id": "7a7b8fec",
        "outputId": "ab7963be-b250-4a23-c40b-e88e32d8ee85"
      },
      "outputs": [
        {
          "name": "stdout",
          "output_type": "stream",
          "text": [
            "JENNIFER LOPEZ\n",
            "IS AN AWESOME DANCER!\n",
            "colour ---> purple\n",
            "The backslash \\ is so cool\n"
          ]
        }
      ],
      "source": [
        "# What inputs would you run to print each of the following?\n",
        "\n",
        "# JENNIFER LOPEZ\n",
        "# IS AN AWESOME DANCER!\n",
        "print(f\"JENNIFER LOPEZ\\nIS AN AWESOME DANCER!\")\n",
        "\n",
        "\n",
        "# colour ---> purple\n",
        "print(f\"colour ---> purple\")\n",
        "\n",
        "\n",
        "# The backslash \\ is so cool\n",
        "print(f\"The backslash \\ is so cool\")"
      ]
    },
    {
      "cell_type": "markdown",
      "id": "7cb6c74d",
      "metadata": {
        "id": "7cb6c74d"
      },
      "source": [
        "# Variables and Expressions"
      ]
    },
    {
      "cell_type": "code",
      "execution_count": null,
      "id": "6ddf677c",
      "metadata": {
        "id": "6ddf677c"
      },
      "outputs": [],
      "source": []
    },
    {
      "cell_type": "code",
      "execution_count": null,
      "id": "ae13afb8",
      "metadata": {
        "id": "ae13afb8"
      },
      "outputs": [],
      "source": []
    }
  ],
  "metadata": {
    "kernelspec": {
      "display_name": "Python 3 (ipykernel)",
      "language": "python",
      "name": "python3"
    },
    "language_info": {
      "codemirror_mode": {
        "name": "ipython",
        "version": 3
      },
      "file_extension": ".py",
      "mimetype": "text/x-python",
      "name": "python",
      "nbconvert_exporter": "python",
      "pygments_lexer": "ipython3",
      "version": "3.9.7"
    },
    "colab": {
      "provenance": [],
      "include_colab_link": true
    }
  },
  "nbformat": 4,
  "nbformat_minor": 5
}