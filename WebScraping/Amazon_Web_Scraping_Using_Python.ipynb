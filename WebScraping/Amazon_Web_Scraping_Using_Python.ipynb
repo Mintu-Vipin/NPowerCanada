{
  "nbformat": 4,
  "nbformat_minor": 0,
  "metadata": {
    "colab": {
      "provenance": [],
      "authorship_tag": "ABX9TyOjv6/UaejqVTqTMAV6xqLz",
      "include_colab_link": true
    },
    "kernelspec": {
      "name": "python3",
      "display_name": "Python 3"
    },
    "language_info": {
      "name": "python"
    }
  },
  "cells": [
    {
      "cell_type": "markdown",
      "metadata": {
        "id": "view-in-github",
        "colab_type": "text"
      },
      "source": [
        "<a href=\"https://colab.research.google.com/github/Mintu-Vipin/NPowerCanada/blob/main/WebScraping/Amazon_Web_Scraping_Using_Python.ipynb\" target=\"_parent\"><img src=\"https://colab.research.google.com/assets/colab-badge.svg\" alt=\"Open In Colab\"/></a>"
      ]
    },
    {
      "cell_type": "markdown",
      "source": [
        "**Web scraping from Amazon(Product link):** 'https://www.amazon.ca/Revlon-Ultra-Matte-Mousse-Degrees/dp/B07GF3P3Z5/ref=sr_1_4?crid=ZWSNIDMQ6TR2&dib=eyJ2IjoiMSJ9.62z9wrrgnYStvEgJXR9ISF1du1OVc9MpfL3SEEOQBpP9wf8XDDcNOvYlGKu8Bw_iVA5O89NpKeIKHZqkP2D_wc2PP_it8mdolbMHxEGuh0gg5qT-jsGAusHP4h78CuF0uuXu4-Ocjjdbcp1CuaVd2QDO96Ft42Ntp1Q7_7cDR_wI7qWZn3OW0VYx1ZYF_WAomAabsHlnQ2ttYA9mqikXUDYNcAJtbgCYAqP75oHL37eeUf-9rBlhrnHm96zUpIKgZvrgSzxvMuMLVhwZXqP6qNZImUW1J8Qq1cHXCZqGUSw.V5eMtMemgrdVFAj9wmukg5O2KMhl0Arkq5HnkhMaqtI&dib_tag=se&keywords=revlon%2Bmatte%2Blipstick&qid=1710006097&sprefix=revlon%2Caps%2C89&sr=8-4&th=1'"
      ],
      "metadata": {
        "id": "Ecqjyep7N7es"
      }
    },
    {
      "cell_type": "code",
      "execution_count": 1,
      "metadata": {
        "id": "mvIwg_oYzo0K"
      },
      "outputs": [],
      "source": [
        "# Import libraries\n",
        "from bs4 import BeautifulSoup\n",
        "import requests\n",
        "import time\n",
        "import datetime\n",
        "import pandas as pd\n",
        "import csv\n",
        "import smtplib"
      ]
    },
    {
      "cell_type": "code",
      "source": [
        "#connect to the Amazon website\n",
        "# Assign the url of the website we are going to scrape\n",
        "url ='https://www.amazon.ca/Revlon-Ultra-Matte-Mousse-Degrees/dp/B07GF3P3Z5/ref=sr_1_4?crid=ZWSNIDMQ6TR2&dib=eyJ2IjoiMSJ9.62z9wrrgnYStvEgJXR9ISF1du1OVc9MpfL3SEEOQBpP9wf8XDDcNOvYlGKu8Bw_iVA5O89NpKeIKHZqkP2D_wc2PP_it8mdolbMHxEGuh0gg5qT-jsGAusHP4h78CuF0uuXu4-Ocjjdbcp1CuaVd2QDO96Ft42Ntp1Q7_7cDR_wI7qWZn3OW0VYx1ZYF_WAomAabsHlnQ2ttYA9mqikXUDYNcAJtbgCYAqP75oHL37eeUf-9rBlhrnHm96zUpIKgZvrgSzxvMuMLVhwZXqP6qNZImUW1J8Qq1cHXCZqGUSw.V5eMtMemgrdVFAj9wmukg5O2KMhl0Arkq5HnkhMaqtI&dib_tag=se&keywords=revlon%2Bmatte%2Blipstick&qid=1710006097&sprefix=revlon%2Caps%2C89&sr=8-4&th=1'\n",
        "headers = {\"User-Agent\": \"Mozilla/5.0 (Windows NT 10.0; Win64; x64) AppleWebKit/537.36 (KHTML, like Gecko) Chrome/122.0.0.0 Safari/537.36\", \"Accept-Encoding\":\"gzip, deflate\", \"Accept\":\"text/html,application/xhtml+xml,application/xml;q=0.9,*/*;q=0.8\", \"DNT\":\"1\",\"Connection\":\"close\", \"Upgrade-Insecure-Requests\":\"1\"}\n",
        "page= requests.get(url, headers = headers)\n",
        "\n",
        "soup1 = BeautifulSoup(page.content, \"html.parser\")\n",
        "soup2 = BeautifulSoup(soup1.prettify(), \"html.parser\")\n",
        "\n",
        "# pull the data and clean up\n",
        "product_title = soup2.find(id=\"productTitle\").get_text().strip()\n",
        "product_price = soup2.find(id=\"corePriceDisplay_desktop_feature_div\").get_text().strip()[1:6]\n"
      ],
      "metadata": {
        "id": "Z8X9jkaX1tGW"
      },
      "execution_count": 2,
      "outputs": []
    },
    {
      "cell_type": "code",
      "source": [
        "print(product_title)\n",
        "print(product_price)\n",
        "print(type(product_title))\n",
        "print(type(product_price))"
      ],
      "metadata": {
        "colab": {
          "base_uri": "https://localhost:8080/"
        },
        "id": "t2lbnYrrR5iR",
        "outputId": "f9f125f2-a9ec-458a-c262-aeb82195d270"
      },
      "execution_count": 3,
      "outputs": [
        {
          "output_type": "stream",
          "name": "stdout",
          "text": [
            "REVLON Ultra HD Lip Mousse Hyper Matte, Longwearing Creamy Liquid Lipstick, in Pink 100 Degrees (805), 0.2 oz/ 6ml\n",
            "12.00\n",
            "<class 'str'>\n",
            "<class 'str'>\n"
          ]
        }
      ]
    },
    {
      "cell_type": "code",
      "source": [
        "# print today's date\n",
        "today =datetime.date.today()\n",
        "today"
      ],
      "metadata": {
        "colab": {
          "base_uri": "https://localhost:8080/"
        },
        "id": "4e-GEPCHbfnD",
        "outputId": "fa7ae4b0-22a5-4bda-eae4-b3f555105bd3"
      },
      "execution_count": 4,
      "outputs": [
        {
          "output_type": "execute_result",
          "data": {
            "text/plain": [
              "datetime.date(2024, 3, 9)"
            ]
          },
          "metadata": {},
          "execution_count": 4
        }
      ]
    },
    {
      "cell_type": "code",
      "source": [
        "\n",
        "\n",
        "header = ['Product Title', 'Price', 'Date']\n",
        "data = [product_title, product_price, today]\n",
        "# print(type(data))\n",
        "with open ('AmazonLipstickSataset.csv', 'w', newline ='', encoding='UTF8') as f:\n",
        "    writer = csv.writer(f)\n",
        "    writer.writerow(header)\n",
        "    writer.writerow(data)"
      ],
      "metadata": {
        "id": "8cfbOcozZ_pT"
      },
      "execution_count": 5,
      "outputs": []
    },
    {
      "cell_type": "code",
      "source": [
        "# Save and download the table data as a csv file\n",
        "from google.colab import files\n",
        "\n",
        "# Save the file locally in Colab\n",
        "pd.read_csv(\"AmazonLipstickSataset.csv\")\n",
        "\n",
        "# Generate a download link for the file\n",
        "files.download('AmazonLipstickSataset.csv')"
      ],
      "metadata": {
        "colab": {
          "base_uri": "https://localhost:8080/",
          "height": 17
        },
        "id": "whErCrE0P5XM",
        "outputId": "2ded8efb-4228-4478-b922-5a32b143382d"
      },
      "execution_count": 6,
      "outputs": [
        {
          "output_type": "display_data",
          "data": {
            "text/plain": [
              "<IPython.core.display.Javascript object>"
            ],
            "application/javascript": [
              "\n",
              "    async function download(id, filename, size) {\n",
              "      if (!google.colab.kernel.accessAllowed) {\n",
              "        return;\n",
              "      }\n",
              "      const div = document.createElement('div');\n",
              "      const label = document.createElement('label');\n",
              "      label.textContent = `Downloading \"${filename}\": `;\n",
              "      div.appendChild(label);\n",
              "      const progress = document.createElement('progress');\n",
              "      progress.max = size;\n",
              "      div.appendChild(progress);\n",
              "      document.body.appendChild(div);\n",
              "\n",
              "      const buffers = [];\n",
              "      let downloaded = 0;\n",
              "\n",
              "      const channel = await google.colab.kernel.comms.open(id);\n",
              "      // Send a message to notify the kernel that we're ready.\n",
              "      channel.send({})\n",
              "\n",
              "      for await (const message of channel.messages) {\n",
              "        // Send a message to notify the kernel that we're ready.\n",
              "        channel.send({})\n",
              "        if (message.buffers) {\n",
              "          for (const buffer of message.buffers) {\n",
              "            buffers.push(buffer);\n",
              "            downloaded += buffer.byteLength;\n",
              "            progress.value = downloaded;\n",
              "          }\n",
              "        }\n",
              "      }\n",
              "      const blob = new Blob(buffers, {type: 'application/binary'});\n",
              "      const a = document.createElement('a');\n",
              "      a.href = window.URL.createObjectURL(blob);\n",
              "      a.download = filename;\n",
              "      div.appendChild(a);\n",
              "      a.click();\n",
              "      div.remove();\n",
              "    }\n",
              "  "
            ]
          },
          "metadata": {}
        },
        {
          "output_type": "display_data",
          "data": {
            "text/plain": [
              "<IPython.core.display.Javascript object>"
            ],
            "application/javascript": [
              "download(\"download_626100dc-165e-4105-bc25-fde048f9f6d7\", \"AmazonLipstickSataset.csv\", 161)"
            ]
          },
          "metadata": {}
        }
      ]
    },
    {
      "cell_type": "code",
      "source": [
        "# Appending data to the csv\n",
        "\n",
        "with open ('AmazonLipstickSataset.csv', 'a+', newline ='', encoding='UTF8') as f:\n",
        "    writer = csv.writer(f)\n",
        "    writer.writerow(data)"
      ],
      "metadata": {
        "id": "Pv0re-xuR5eF"
      },
      "execution_count": 7,
      "outputs": []
    },
    {
      "cell_type": "code",
      "source": [
        "# Function\n",
        "\n",
        "def check_price():\n",
        "  #connect to the Amazon website\n",
        "  # Assign the url of the website we are going to scrape\n",
        "  url ='https://www.amazon.ca/Revlon-Ultra-Matte-Mousse-Degrees/dp/B07GF3P3Z5/ref=sr_1_4?crid=ZWSNIDMQ6TR2&dib=eyJ2IjoiMSJ9.62z9wrrgnYStvEgJXR9ISF1du1OVc9MpfL3SEEOQBpP9wf8XDDcNOvYlGKu8Bw_iVA5O89NpKeIKHZqkP2D_wc2PP_it8mdolbMHxEGuh0gg5qT-jsGAusHP4h78CuF0uuXu4-Ocjjdbcp1CuaVd2QDO96Ft42Ntp1Q7_7cDR_wI7qWZn3OW0VYx1ZYF_WAomAabsHlnQ2ttYA9mqikXUDYNcAJtbgCYAqP75oHL37eeUf-9rBlhrnHm96zUpIKgZvrgSzxvMuMLVhwZXqP6qNZImUW1J8Qq1cHXCZqGUSw.V5eMtMemgrdVFAj9wmukg5O2KMhl0Arkq5HnkhMaqtI&dib_tag=se&keywords=revlon%2Bmatte%2Blipstick&qid=1710006097&sprefix=revlon%2Caps%2C89&sr=8-4&th=1'\n",
        "  headers = {\"User-Agent\": \"Mozilla/5.0 (Windows NT 10.0; Win64; x64) AppleWebKit/537.36 (KHTML, like Gecko) Chrome/122.0.0.0 Safari/537.36\", \"Accept-Encoding\":\"gzip, deflate\", \"Accept\":\"text/html,application/xhtml+xml,application/xml;q=0.9,*/*;q=0.8\", \"DNT\":\"1\",\"Connection\":\"close\", \"Upgrade-Insecure-Requests\":\"1\"}\n",
        "  page= requests.get(url, headers = headers)\n",
        "  soup1 = BeautifulSoup(page.content, \"html.parser\")\n",
        "  soup2 = BeautifulSoup(soup1.prettify(), \"html.parser\")\n",
        "\n",
        "  # pull the data and clean up\n",
        "  product_title = soup2.find(id=\"productTitle\").get_text().strip()\n",
        "  product_price = soup2.find(id=\"corePriceDisplay_desktop_feature_div\").get_text().strip()[1:6]\n",
        "\n",
        "  # print today's date\n",
        "  today =datetime.date.today()\n",
        "\n",
        "  header = ['Product Title', 'Price', 'Date']\n",
        "  data = [product_title, product_price, today]\n",
        "  # print(type(data))\n",
        "  with open ('AmazonLipstickSataset.csv', 'a+', newline ='', encoding='UTF8') as f:\n",
        "    writer = csv.writer(f)\n",
        "    writer.writerow(data)\n",
        ""
      ],
      "metadata": {
        "id": "Rc8ECHV9Stm8"
      },
      "execution_count": 8,
      "outputs": []
    },
    {
      "cell_type": "code",
      "source": [
        "while(True):\n",
        "  check_price()\n",
        "  time.sleep(86400)"
      ],
      "metadata": {
        "colab": {
          "base_uri": "https://localhost:8080/",
          "height": 182
        },
        "id": "0DlvXxmxT--c",
        "outputId": "2c64207f-0f3e-4cd4-a938-65c643cae5f5"
      },
      "execution_count": 9,
      "outputs": [
        {
          "output_type": "error",
          "ename": "KeyboardInterrupt",
          "evalue": "",
          "traceback": [
            "\u001b[0;31m---------------------------------------------------------------------------\u001b[0m",
            "\u001b[0;31mKeyboardInterrupt\u001b[0m                         Traceback (most recent call last)",
            "\u001b[0;32m<ipython-input-9-835c9629c5b9>\u001b[0m in \u001b[0;36m<cell line: 1>\u001b[0;34m()\u001b[0m\n\u001b[1;32m      1\u001b[0m \u001b[0;32mwhile\u001b[0m\u001b[0;34m(\u001b[0m\u001b[0;32mTrue\u001b[0m\u001b[0;34m)\u001b[0m\u001b[0;34m:\u001b[0m\u001b[0;34m\u001b[0m\u001b[0;34m\u001b[0m\u001b[0m\n\u001b[1;32m      2\u001b[0m   \u001b[0mcheck_price\u001b[0m\u001b[0;34m(\u001b[0m\u001b[0;34m)\u001b[0m\u001b[0;34m\u001b[0m\u001b[0;34m\u001b[0m\u001b[0m\n\u001b[0;32m----> 3\u001b[0;31m   \u001b[0mtime\u001b[0m\u001b[0;34m.\u001b[0m\u001b[0msleep\u001b[0m\u001b[0;34m(\u001b[0m\u001b[0;36m86400\u001b[0m\u001b[0;34m)\u001b[0m\u001b[0;34m\u001b[0m\u001b[0;34m\u001b[0m\u001b[0m\n\u001b[0m",
            "\u001b[0;31mKeyboardInterrupt\u001b[0m: "
          ]
        }
      ]
    },
    {
      "cell_type": "code",
      "source": [
        "# Save and download the table data as a csv file\n",
        "from google.colab import files\n",
        "\n",
        "# Save the file locally in Colab\n",
        "pd.read_csv(\"AmazonLipstickSataset.csv\")\n",
        "\n",
        "# Generate a download link for the file\n",
        "files.download('AmazonLipstickSataset.csv')"
      ],
      "metadata": {
        "colab": {
          "base_uri": "https://localhost:8080/",
          "height": 17
        },
        "id": "eTTiggCLUTfT",
        "outputId": "143ae0e4-8699-467c-e995-28c4ebdfd05e"
      },
      "execution_count": 10,
      "outputs": [
        {
          "output_type": "display_data",
          "data": {
            "text/plain": [
              "<IPython.core.display.Javascript object>"
            ],
            "application/javascript": [
              "\n",
              "    async function download(id, filename, size) {\n",
              "      if (!google.colab.kernel.accessAllowed) {\n",
              "        return;\n",
              "      }\n",
              "      const div = document.createElement('div');\n",
              "      const label = document.createElement('label');\n",
              "      label.textContent = `Downloading \"${filename}\": `;\n",
              "      div.appendChild(label);\n",
              "      const progress = document.createElement('progress');\n",
              "      progress.max = size;\n",
              "      div.appendChild(progress);\n",
              "      document.body.appendChild(div);\n",
              "\n",
              "      const buffers = [];\n",
              "      let downloaded = 0;\n",
              "\n",
              "      const channel = await google.colab.kernel.comms.open(id);\n",
              "      // Send a message to notify the kernel that we're ready.\n",
              "      channel.send({})\n",
              "\n",
              "      for await (const message of channel.messages) {\n",
              "        // Send a message to notify the kernel that we're ready.\n",
              "        channel.send({})\n",
              "        if (message.buffers) {\n",
              "          for (const buffer of message.buffers) {\n",
              "            buffers.push(buffer);\n",
              "            downloaded += buffer.byteLength;\n",
              "            progress.value = downloaded;\n",
              "          }\n",
              "        }\n",
              "      }\n",
              "      const blob = new Blob(buffers, {type: 'application/binary'});\n",
              "      const a = document.createElement('a');\n",
              "      a.href = window.URL.createObjectURL(blob);\n",
              "      a.download = filename;\n",
              "      div.appendChild(a);\n",
              "      a.click();\n",
              "      div.remove();\n",
              "    }\n",
              "  "
            ]
          },
          "metadata": {}
        },
        {
          "output_type": "display_data",
          "data": {
            "text/plain": [
              "<IPython.core.display.Javascript object>"
            ],
            "application/javascript": [
              "download(\"download_9b2566ec-859a-4235-9433-7698b9f3d168\", \"AmazonLipstickSataset.csv\", 431)"
            ]
          },
          "metadata": {}
        }
      ]
    },
    {
      "cell_type": "code",
      "source": [
        "# # If uou want to try sending yourself an email when a price hits below a certain level you can try it\n",
        "# # out with this script\n",
        "\n",
        "# def send_mail():\n",
        "#     server = smtplib.SMTP_SSL('smtp.gmail.com',465)\n",
        "#     server.ehlo()\n",
        "#     #server.starttls()\n",
        "#     server.ehlo()\n",
        "#     server.login('email','password')\n",
        "\n",
        "#     subject = \"The Lipstick you want is below $10! Now is your chance to buy!\"\n",
        "#     body = \"Mintu, This is the moment we have been waiting for. Now is your chance to pick up the lipstick of your dreams. Don't mess it up! Link here: https://www.amazon.ca/Revlon-Ultra-Matte-Mousse-Degrees/dp/B07GF3P3Z5/ref=sr_1_4?crid=ZWSNIDMQ6TR2&dib=eyJ2IjoiMSJ9.62z9wrrgnYStvEgJXR9ISF1du1OVc9MpfL3SEEOQBpP9wf8XDDcNOvYlGKu8Bw_iVA5O89NpKeIKHZqkP2D_wc2PP_it8mdolbMHxEGuh0gg5qT-jsGAusHP4h78CuF0uuXu4-Ocjjdbcp1CuaVd2QDO96Ft42Ntp1Q7_7cDR_wI7qWZn3OW0VYx1ZYF_WAomAabsHlnQ2ttYA9mqikXUDYNcAJtbgCYAqP75oHL37eeUf-9rBlhrnHm96zUpIKgZvrgSzxvMuMLVhwZXqP6qNZImUW1J8Qq1cHXCZqGUSw.V5eMtMemgrdVFAj9wmukg5O2KMhl0Arkq5HnkhMaqtI&dib_tag=se&keywords=revlon%2Bmatte%2Blipstick&qid=1710006097&sprefix=revlon%2Caps%2C89&sr=8-4&th=1\"\n",
        "\n",
        "#     msg = f\"Subject: {subject}\\n\\n{body}\"\n",
        "\n",
        "#     server.sendmail(\n",
        "#         'email',\n",
        "#         msg\n",
        "\n",
        "#     )"
      ],
      "metadata": {
        "id": "WaoCB6WUVYf7"
      },
      "execution_count": 11,
      "outputs": []
    }
  ]
}