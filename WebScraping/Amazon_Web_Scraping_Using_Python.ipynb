{
  "nbformat": 4,
  "nbformat_minor": 0,
  "metadata": {
    "colab": {
      "provenance": [],
      "authorship_tag": "ABX9TyN0df2LqiWHQhnj1fBM0EFg",
      "include_colab_link": true
    },
    "kernelspec": {
      "name": "python3",
      "display_name": "Python 3"
    },
    "language_info": {
      "name": "python"
    }
  },
  "cells": [
    {
      "cell_type": "markdown",
      "metadata": {
        "id": "view-in-github",
        "colab_type": "text"
      },
      "source": [
        "<a href=\"https://colab.research.google.com/github/Mintu-Vipin/NPowerCanada/blob/main/WebScraping/Amazon_Web_Scraping_Using_Python.ipynb\" target=\"_parent\"><img src=\"https://colab.research.google.com/assets/colab-badge.svg\" alt=\"Open In Colab\"/></a>"
      ]
    },
    {
      "cell_type": "markdown",
      "source": [
        "**Web scraping from Amazon(Product link):** 'https://www.amazon.ca/Revlon-Ultra-Matte-Mousse-Degrees/dp/B07GF3P3Z5/ref=sr_1_4?crid=ZWSNIDMQ6TR2&dib=eyJ2IjoiMSJ9.62z9wrrgnYStvEgJXR9ISF1du1OVc9MpfL3SEEOQBpP9wf8XDDcNOvYlGKu8Bw_iVA5O89NpKeIKHZqkP2D_wc2PP_it8mdolbMHxEGuh0gg5qT-jsGAusHP4h78CuF0uuXu4-Ocjjdbcp1CuaVd2QDO96Ft42Ntp1Q7_7cDR_wI7qWZn3OW0VYx1ZYF_WAomAabsHlnQ2ttYA9mqikXUDYNcAJtbgCYAqP75oHL37eeUf-9rBlhrnHm96zUpIKgZvrgSzxvMuMLVhwZXqP6qNZImUW1J8Qq1cHXCZqGUSw.V5eMtMemgrdVFAj9wmukg5O2KMhl0Arkq5HnkhMaqtI&dib_tag=se&keywords=revlon%2Bmatte%2Blipstick&qid=1710006097&sprefix=revlon%2Caps%2C89&sr=8-4&th=1'"
      ],
      "metadata": {
        "id": "Ecqjyep7N7es"
      }
    },
    {
      "cell_type": "code",
      "execution_count": 44,
      "metadata": {
        "id": "mvIwg_oYzo0K"
      },
      "outputs": [],
      "source": [
        "# Import libraries\n",
        "from bs4 import BeautifulSoup\n",
        "import requests\n",
        "import time\n",
        "import datetime\n",
        "import smtplib"
      ]
    },
    {
      "cell_type": "code",
      "source": [
        "#connect to the Amazon website\n",
        "# Assign the url of the website we are going to scrape\n",
        "url ='https://www.amazon.ca/Revlon-Ultra-Matte-Mousse-Degrees/dp/B07GF3P3Z5/ref=sr_1_4?crid=ZWSNIDMQ6TR2&dib=eyJ2IjoiMSJ9.62z9wrrgnYStvEgJXR9ISF1du1OVc9MpfL3SEEOQBpP9wf8XDDcNOvYlGKu8Bw_iVA5O89NpKeIKHZqkP2D_wc2PP_it8mdolbMHxEGuh0gg5qT-jsGAusHP4h78CuF0uuXu4-Ocjjdbcp1CuaVd2QDO96Ft42Ntp1Q7_7cDR_wI7qWZn3OW0VYx1ZYF_WAomAabsHlnQ2ttYA9mqikXUDYNcAJtbgCYAqP75oHL37eeUf-9rBlhrnHm96zUpIKgZvrgSzxvMuMLVhwZXqP6qNZImUW1J8Qq1cHXCZqGUSw.V5eMtMemgrdVFAj9wmukg5O2KMhl0Arkq5HnkhMaqtI&dib_tag=se&keywords=revlon%2Bmatte%2Blipstick&qid=1710006097&sprefix=revlon%2Caps%2C89&sr=8-4&th=1'\n",
        "headers = {\"User-Agent\": \"Mozilla/5.0 (Windows NT 10.0; Win64; x64) AppleWebKit/537.36 (KHTML, like Gecko) Chrome/122.0.0.0 Safari/537.36\", \"Accept-Encoding\":\"gzip, deflate\", \"Accept\":\"text/html,application/xhtml+xml,application/xml;q=0.9,*/*;q=0.8\", \"DNT\":\"1\",\"Connection\":\"close\", \"Upgrade-Insecure-Requests\":\"1\"}\n",
        "page= requests.get(url, headers = headers)\n",
        "\n",
        "soup1 = BeautifulSoup(page.content, \"html.parser\")\n",
        "soup2 = BeautifulSoup(soup1.prettify(), \"html.parser\")\n",
        "\n",
        "# pull the data and clean up\n",
        "product_title = soup2.find(id=\"productTitle\").get_text().strip()\n",
        "product_price = soup2.find(id=\"corePriceDisplay_desktop_feature_div\").get_text().strip()[1:6]\n"
      ],
      "metadata": {
        "id": "Z8X9jkaX1tGW"
      },
      "execution_count": 56,
      "outputs": []
    },
    {
      "cell_type": "code",
      "source": [
        "print(product_title)\n",
        "print(product_price)\n",
        "print(type(product_title))\n",
        "print(type(product_price))"
      ],
      "metadata": {
        "colab": {
          "base_uri": "https://localhost:8080/"
        },
        "id": "t2lbnYrrR5iR",
        "outputId": "db366eef-e383-46ab-987c-3660d959002c"
      },
      "execution_count": 58,
      "outputs": [
        {
          "output_type": "stream",
          "name": "stdout",
          "text": [
            "REVLON Ultra HD Lip Mousse Hyper Matte, Longwearing Creamy Liquid Lipstick, in Pink 100 Degrees (805), 0.2 oz/ 6ml\n",
            "12.00\n",
            "<class 'str'>\n",
            "<class 'str'>\n"
          ]
        }
      ]
    },
    {
      "cell_type": "code",
      "source": [
        "import csv\n",
        "\n",
        "header = ['Product Title', 'Price']\n",
        "data = [product_title, product_price]\n",
        "# print(type(data))\n",
        "with open ('AmazonLipstickSataset.csv', 'w', newline ='', encoding='UTF8') as f:\n",
        "    writer = csv.writer(f)\n",
        "    writer.writerow(header)\n",
        "    writer.writerow(data)"
      ],
      "metadata": {
        "id": "8cfbOcozZ_pT"
      },
      "execution_count": 65,
      "outputs": []
    },
    {
      "cell_type": "code",
      "source": [],
      "metadata": {
        "id": "4e-GEPCHbfnD"
      },
      "execution_count": null,
      "outputs": []
    }
  ]
}