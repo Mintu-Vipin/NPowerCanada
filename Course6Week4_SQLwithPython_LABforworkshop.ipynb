{
  "cells": [
    {
      "cell_type": "markdown",
      "metadata": {
        "id": "view-in-github",
        "colab_type": "text"
      },
      "source": [
        "<a href=\"https://colab.research.google.com/github/Mintu-Vipin/NPowerCanada_JuniorDataAnalyst/blob/main/Course6Week4_SQLwithPython_LABforworkshop.ipynb\" target=\"_parent\"><img src=\"https://colab.research.google.com/assets/colab-badge.svg\" alt=\"Open In Colab\"/></a>"
      ]
    },
    {
      "cell_type": "code",
      "execution_count": 1,
      "id": "389fe2f7",
      "metadata": {
        "id": "389fe2f7"
      },
      "outputs": [],
      "source": [
        "# Let's Learn to import library first\n",
        "\n",
        "import sqlite3\n"
      ]
    },
    {
      "cell_type": "code",
      "execution_count": 2,
      "id": "eb636b2e",
      "metadata": {
        "colab": {
          "base_uri": "https://localhost:8080/"
        },
        "id": "eb636b2e",
        "outputId": "770f047d-839a-40aa-c7bf-ef4ec67d4c31"
      },
      "outputs": [
        {
          "output_type": "stream",
          "name": "stdout",
          "text": [
            "Database connected successfully\n",
            "Number of records:  9\n",
            "1 Michael 101 \n",
            "2 Linda 101 \n",
            "3 William 102 \n",
            "4 Richard 101 \n",
            "5 Karen 103 \n",
            "6 Robert 104 \n",
            "7 Susan 105 \n",
            "8 Nancy 106 \n",
            "9 Nick 107 \n"
          ]
        }
      ],
      "source": [
        "#We will do properly with try catch block (without dataframe)\n",
        "\n",
        "try:\n",
        "    sqlconnection=sqlite3.connect(\"Hospitalinfo.db\")\n",
        "    cursor=sqlconnection.cursor()\n",
        "    print(\"Database connected successfully\")\n",
        "    query=\"\"\"SELECT * FROM Doctor \"\"\"\n",
        "    cursor.execute(query)\n",
        "    records=cursor.fetchall()\n",
        "    print(\"Number of records: \",len(records))\n",
        "    for row in records:\n",
        "        print(row[0],end=\" \")\n",
        "        print(row[1],end=\" \")\n",
        "        print(row[2],end=\" \")\n",
        "        print()\n",
        "except sqlite3.Error as error:\n",
        "    print(\"Error\")\n",
        "finally:\n",
        "    sqlconnection.close()\n"
      ]
    },
    {
      "cell_type": "code",
      "execution_count": 3,
      "id": "d3779da3",
      "metadata": {
        "colab": {
          "base_uri": "https://localhost:8080/"
        },
        "id": "d3779da3",
        "outputId": "89f655bf-baa8-41fe-8cd6-524369892a8a"
      },
      "outputs": [
        {
          "output_type": "stream",
          "name": "stdout",
          "text": [
            "Database connected successfully\n",
            "   0        1    2           3             4   5          6\n",
            "0  1  Michael  101  2005-02-10     Pediatric  10   900000.0\n",
            "1  2    Linda  101  2007-08-08         Gyane   5   850000.0\n",
            "2  3  William  102  2004-09-11  Cardialogist  11  1000000.0\n",
            "3  4  Richard  101  2011-09-05     Pediatric  12   950000.0\n",
            "4  5    Karen  103  2020-09-05    Oncologist  15  1100000.0\n",
            "5  6   Robert  104  1998-09-04         Gyane  14   940000.0\n",
            "6  7    Susan  105  1994-06-05    Oncologist  11   870000.0\n",
            "7  8    Nancy  106  1994-06-05  Cardialogist  14   870000.0\n",
            "8  9     Nick  107  2019-06-05  Cardialogist   9   770000.0\n"
          ]
        }
      ],
      "source": [
        "#Lets see the benift of using dataframe\n",
        "\n",
        "import pandas as pd\n",
        "try:\n",
        "    sqlconnection=sqlite3.connect(\"Hospitalinfo.db\")\n",
        "    cursor=sqlconnection.cursor()\n",
        "    print(\"Database connected successfully\")\n",
        "    query=\"\"\"SELECT * FROM Doctor\"\"\"\n",
        "    cursor.execute(query)\n",
        "    df = pd.DataFrame(cursor.fetchall())\n",
        "    print (df)\n",
        "except sqlite3.Error as error:\n",
        "    print(\"Error\")\n"
      ]
    },
    {
      "cell_type": "code",
      "execution_count": 4,
      "id": "38237486",
      "metadata": {
        "id": "38237486",
        "outputId": "40c511b4-5ff5-41b9-dd99-bfc98e0ca6ee",
        "colab": {
          "base_uri": "https://localhost:8080/"
        }
      },
      "outputs": [
        {
          "output_type": "stream",
          "name": "stdout",
          "text": [
            "Database connected successfully\n",
            "\n",
            "   DocID  DocName  HospitalID JoiningDate    Speciality Exp     salary\n",
            "0      1  Michael         101  2005-02-10     Pediatric  10   900000.0\n",
            "1      2    Linda         101  2007-08-08         Gyane   5   850000.0\n",
            "2      3  William         102  2004-09-11  Cardialogist  11  1000000.0\n",
            "3      4  Richard         101  2011-09-05     Pediatric  12   950000.0\n",
            "4      5    Karen         103  2020-09-05    Oncologist  15  1100000.0\n",
            "5      6   Robert         104  1998-09-04         Gyane  14   940000.0\n",
            "6      7    Susan         105  1994-06-05    Oncologist  11   870000.0\n",
            "7      8    Nancy         106  1994-06-05  Cardialogist  14   870000.0\n",
            "8      9     Nick         107  2019-06-05  Cardialogist   9   770000.0\n"
          ]
        }
      ],
      "source": [
        "#Lets learn to fetch column names and place it properly\n",
        "\n",
        "import pandas as pd\n",
        "try:\n",
        "    sqlconnection=sqlite3.connect(\"Hospitalinfo.db\")\n",
        "    cursor=sqlconnection.cursor()\n",
        "    print(\"Database connected successfully\")\n",
        "    print()\n",
        "    query=\"\"\"SELECT * FROM Doctor\"\"\"\n",
        "    cursor.execute(query)\n",
        "    #Lets create a list to fetch column names\n",
        "    names=[]\n",
        "    cursor.execute(''' Select * from Doctor''')\n",
        "    #fetch column names and add it to the empty list \"names\"\n",
        "    for x in cursor.description:\n",
        "        names.append(x[0])\n",
        "\n",
        "    df = pd.DataFrame(cursor.fetchall(),columns=names)\n",
        "    print(df)\n",
        "    #df = pd.DataFrame(cursor.fetchall())\n",
        "    #print (df)\n",
        "except sqlite3.Error as error:\n",
        "    print(\"Error\")\n",
        "\n"
      ]
    },
    {
      "cell_type": "code",
      "execution_count": 5,
      "id": "df550c44",
      "metadata": {
        "id": "df550c44",
        "outputId": "90e57a08-e8c2-4b89-cc27-18703c3d439f",
        "colab": {
          "base_uri": "https://localhost:8080/"
        }
      },
      "outputs": [
        {
          "output_type": "stream",
          "name": "stdout",
          "text": [
            "    DocID  DocName  HospitalID JoiningDate    Speciality   Exp     salary\n",
            "0       1  Michael         101  2005-02-10     Pediatric    10   900000.0\n",
            "1       2    Linda         101  2007-08-08         Gyane     5   850000.0\n",
            "2       3  William         102  2004-09-11  Cardialogist    11  1000000.0\n",
            "3       4  Richard         101  2011-09-05     Pediatric    12   950000.0\n",
            "4       5    Karen         103  2020-09-05    Oncologist    15  1100000.0\n",
            "5       6   Robert         104  1998-09-04         Gyane    14   940000.0\n",
            "6       7    Susan         105  1994-06-05    Oncologist    11   870000.0\n",
            "7       8    Nancy         106  1994-06-05  Cardialogist    14   870000.0\n",
            "8       9     Nick         107  2019-06-05  Cardialogist     9   770000.0\n",
            "9      13        A         108        None           hhh  None     3400.6\n",
            "10     14        B         109        None           hhh  None     5600.7\n"
          ]
        }
      ],
      "source": [
        "#Adding data to the Exisisitng file\n",
        "\n",
        "import pandas as pd\n",
        "import sqlite3\n",
        "conn=sqlite3.connect(\"Hospitalinfo.db\")\n",
        "c = conn.cursor()\n",
        "\n",
        "d={\"DocID\":[13,14],\"DocName\":[\"A\",\"B\"],\"salary\":[3400.6,5600.7],\"Speciality\":[\"hhh\",\"hhh\"],\"HospitalID\":[\"108\",\"109\"]}\n",
        "df2=pd.DataFrame(d)\n",
        "\n",
        "df2.to_sql('Doctor', conn, if_exists='append', index = False)\n",
        "\n",
        "c.execute(''' Select * from Doctor''')\n",
        "\n",
        "df = pd.DataFrame(c.fetchall(),columns=names)\n",
        "print (df)"
      ]
    },
    {
      "cell_type": "code",
      "execution_count": 6,
      "id": "4520007b",
      "metadata": {
        "id": "4520007b",
        "outputId": "aad55e79-fff2-4fb7-e5ab-8de8f4c89d94",
        "colab": {
          "base_uri": "https://localhost:8080/"
        }
      },
      "outputs": [
        {
          "output_type": "stream",
          "name": "stdout",
          "text": [
            "Record inserted succesfully\n",
            "    DocID  DocName  HospitalID JoiningDate    Speciality   Exp     salary\n",
            "0       1  Michael         101  2005-02-10     Pediatric    10   900000.0\n",
            "1       2    Linda         101  2007-08-08         Gyane     5   850000.0\n",
            "2       3  William         102  2004-09-11  Cardialogist    11  1000000.0\n",
            "3       4  Richard         101  2011-09-05     Pediatric    12   950000.0\n",
            "4       5    Karen         103  2020-09-05    Oncologist    15  1100000.0\n",
            "5       6   Robert         104  1998-09-04         Gyane    14   940000.0\n",
            "6       7    Susan         105  1994-06-05    Oncologist    11   870000.0\n",
            "7       8    Nancy         106  1994-06-05  Cardialogist    14   870000.0\n",
            "8       9     Nick         107  2019-06-05  Cardialogist     9   770000.0\n",
            "9      13        A         108        None           hhh  None     3400.6\n",
            "10     14        B         109        None           hhh  None     5600.7\n",
            "11     15  Olivier         110                                     3455.0\n"
          ]
        }
      ],
      "source": [
        "#Adding data to the Exsistng file -Let's try with insert command\n",
        "\n",
        "import pandas as pd\n",
        "import sqlite3\n",
        "conn=sqlite3.connect(\"Hospitalinfo.db\")\n",
        "c = conn.cursor()\n",
        "\n",
        "sqlquery=\"\"\"   insert into Doctor values(15,\"Olivier\",\"110\",'', '', '', 3455)      \"\"\"\n",
        "\n",
        "c.execute(sqlquery)\n",
        "\n",
        "#Committing is very important after insert command otherwise it will not show the result on database\n",
        "\n",
        "conn.commit()\n",
        "\n",
        "print(\"Record inserted succesfully\")\n",
        "\n",
        "c.execute(''' Select * from Doctor''')\n",
        "\n",
        "# Close the cursor and the connection\n",
        "\n",
        "df = pd.DataFrame(c.fetchall(),columns=names)\n",
        "print (df)\n"
      ]
    },
    {
      "cell_type": "code",
      "execution_count": 7,
      "id": "f662a7d1",
      "metadata": {
        "id": "f662a7d1",
        "colab": {
          "base_uri": "https://localhost:8080/"
        },
        "outputId": "732bac7e-dcf3-4a50-927e-cecee89a647d"
      },
      "outputs": [
        {
          "output_type": "stream",
          "name": "stdout",
          "text": [
            "Enter the name of the person for whom you wish to change the salary: A\n",
            "Enter the salary:1\n",
            "Record updated succesfully\n",
            "    DocID  DocName  HospitalID JoiningDate    Speciality   Exp     salary\n",
            "0       1  Michael         101  2005-02-10     Pediatric    10   900000.0\n",
            "1       2    Linda         101  2007-08-08         Gyane     5   850000.0\n",
            "2       3  William         102  2004-09-11  Cardialogist    11  1000000.0\n",
            "3       4  Richard         101  2011-09-05     Pediatric    12   950000.0\n",
            "4       5    Karen         103  2020-09-05    Oncologist    15  1100000.0\n",
            "5       6   Robert         104  1998-09-04         Gyane    14   940000.0\n",
            "6       7    Susan         105  1994-06-05    Oncologist    11   870000.0\n",
            "7       8    Nancy         106  1994-06-05  Cardialogist    14   870000.0\n",
            "8       9     Nick         107  2019-06-05  Cardialogist     9   770000.0\n",
            "9      13        A         108        None           hhh  None        1.0\n",
            "10     14        B         109        None           hhh  None     5600.7\n",
            "11     15  Olivier         110                                     3455.0\n"
          ]
        }
      ],
      "source": [
        "#Let's learn to update now?\n",
        "\n",
        "import pandas as pd\n",
        "import sqlite3\n",
        "conn=sqlite3.connect(\"Hospitalinfo.db\")\n",
        "c = conn.cursor()\n",
        "\n",
        "Name= input(\"Enter the name of the person for whom you wish to change the salary: \")\n",
        "Salary=input(\"Enter the salary:\")\n",
        "\n",
        "sqlquery=\"\"\"  update Doctor set salary=? where DocName=?      \"\"\"\n",
        "data=(Salary,Name )\n",
        "\n",
        "c.execute(sqlquery,data)\n",
        "\n",
        "#Committing is very important after insert command otherwise it will not show the result on database\n",
        "\n",
        "conn.commit()\n",
        "\n",
        "print(\"Record updated succesfully\")\n",
        "\n",
        "c.execute(''' Select * from Doctor''')\n",
        "\n",
        "df = pd.DataFrame(c.fetchall(),columns=names)\n",
        "print (df)\n"
      ]
    },
    {
      "cell_type": "code",
      "execution_count": 8,
      "id": "5c105728",
      "metadata": {
        "id": "5c105728",
        "colab": {
          "base_uri": "https://localhost:8080/"
        },
        "outputId": "7f988992-803b-4a72-892d-523c9833bdf0"
      },
      "outputs": [
        {
          "output_type": "stream",
          "name": "stdout",
          "text": [
            "Record updated succesfully\n",
            "    DocID  DocName  HospitalID JoiningDate    Speciality   Exp     salary\n",
            "0       2    Linda         101  2007-08-08         Gyane     5   850000.0\n",
            "1       3  William         102  2004-09-11  Cardialogist    11  1000000.0\n",
            "2       4  Richard         101  2011-09-05     Pediatric    12   950000.0\n",
            "3       5    Karen         103  2020-09-05    Oncologist    15  1100000.0\n",
            "4       6   Robert         104  1998-09-04         Gyane    14   940000.0\n",
            "5       7    Susan         105  1994-06-05    Oncologist    11   870000.0\n",
            "6       8    Nancy         106  1994-06-05  Cardialogist    14   870000.0\n",
            "7       9     Nick         107  2019-06-05  Cardialogist     9   770000.0\n",
            "8      13        A         108        None           hhh  None        1.0\n",
            "9      14        B         109        None           hhh  None     5600.7\n",
            "10     15  Olivier         110                                     3455.0\n"
          ]
        }
      ],
      "source": [
        "#Let's learn to delete now...\n",
        "\n",
        "import pandas as pd\n",
        "import sqlite3\n",
        "conn=sqlite3.connect(\"Hospitalinfo.db\")\n",
        "c = conn.cursor()\n",
        "\n",
        "#idd= input(\"Enter the Eid of the person: \")\n",
        "\n",
        "sqlquery=\"\"\"  Delete from Doctor where DocID=1  \"\"\"\n",
        "#data=(idd)\n",
        "\n",
        "c.execute(sqlquery)\n",
        "\n",
        "#Committing is very important after insert command otherwise it will not show the result on database\n",
        "\n",
        "conn.commit()\n",
        "\n",
        "print(\"Record updated succesfully\")\n",
        "\n",
        "c.execute(''' Select * from Doctor''')\n",
        "\n",
        "df = pd.DataFrame(c.fetchall(),columns=names)\n",
        "print (df)"
      ]
    },
    {
      "cell_type": "code",
      "execution_count": 9,
      "id": "507e7735",
      "metadata": {
        "id": "507e7735",
        "colab": {
          "base_uri": "https://localhost:8080/"
        },
        "outputId": "467e5e4e-2240-4e67-cf1e-02faf698ca7f"
      },
      "outputs": [
        {
          "output_type": "stream",
          "name": "stdout",
          "text": [
            "Database connected successfully\n",
            "Table created succesfully\n"
          ]
        }
      ],
      "source": [
        "#How about creating a new table?  Want to try? lets do it\n",
        "\n",
        "try:\n",
        "    sqlconnection=sqlite3.connect(\"Hospitalinfo.db\")\n",
        "    cursor=sqlconnection.cursor()\n",
        "    print(\"Database connected successfully\")\n",
        "    query=\"\"\"Create table Projects (PID int PRIMARY KEY, Pname Text, PManager Text); \"\"\"\n",
        "    cursor.execute(query)\n",
        "    sqlconnection.commit()\n",
        "    print(\"Table created succesfully\")\n",
        "except sqlite3.Error as error:\n",
        "    print(\"Error\")\n",
        "finally:\n",
        "    sqlconnection.close()\n",
        "\n"
      ]
    },
    {
      "cell_type": "code",
      "execution_count": 10,
      "id": "f09e423d",
      "metadata": {
        "id": "f09e423d"
      },
      "outputs": [],
      "source": [
        "#Heard about Executemany() .... leaving it for you to explore"
      ]
    }
  ],
  "metadata": {
    "kernelspec": {
      "display_name": "Python 3",
      "language": "python",
      "name": "python3"
    },
    "language_info": {
      "codemirror_mode": {
        "name": "ipython",
        "version": 3
      },
      "file_extension": ".py",
      "mimetype": "text/x-python",
      "name": "python",
      "nbconvert_exporter": "python",
      "pygments_lexer": "ipython3",
      "version": "3.8.8"
    },
    "colab": {
      "provenance": [],
      "include_colab_link": true
    }
  },
  "nbformat": 4,
  "nbformat_minor": 5
}