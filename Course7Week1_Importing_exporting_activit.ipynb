{
  "nbformat": 4,
  "nbformat_minor": 0,
  "metadata": {
    "colab": {
      "provenance": [],
      "authorship_tag": "ABX9TyPNNP63td6DOnX9FnjeWXjG",
      "include_colab_link": true
    },
    "kernelspec": {
      "name": "python3",
      "display_name": "Python 3"
    },
    "language_info": {
      "name": "python"
    }
  },
  "cells": [
    {
      "cell_type": "markdown",
      "metadata": {
        "id": "view-in-github",
        "colab_type": "text"
      },
      "source": [
        "<a href=\"https://colab.research.google.com/github/Mintu-Vipin/NPowerCanada_JuniorDataAnalyst/blob/main/Course7Week1_Importing_exporting_activit.ipynb\" target=\"_parent\"><img src=\"https://colab.research.google.com/assets/colab-badge.svg\" alt=\"Open In Colab\"/></a>"
      ]
    },
    {
      "cell_type": "code",
      "execution_count": null,
      "metadata": {
        "id": "stlbD2v3g7-Z",
        "colab": {
          "base_uri": "https://localhost:8080/"
        },
        "outputId": "2e745ea1-7962-4ff8-e61e-c4f82f72a62e"
      },
      "outputs": [
        {
          "output_type": "stream",
          "name": "stdout",
          "text": [
            "              LatD      \"LatM\"      \"LatS\"  \"NS\"      \"LonD\"      \"LonM\"  \\\n",
            "count   128.000000  128.000000  128.000000   128  128.000000  128.000000   \n",
            "unique         NaN         NaN         NaN     1         NaN         NaN   \n",
            "top            NaN         NaN         NaN   \"N\"         NaN         NaN   \n",
            "freq           NaN         NaN         NaN   128         NaN         NaN   \n",
            "mean     38.820312   30.765625   27.492188   NaN   93.250000   27.742188   \n",
            "std       5.200596   16.426158   18.977814   NaN   15.466499   16.927937   \n",
            "min      26.000000    1.000000    0.000000   NaN   71.000000    0.000000   \n",
            "25%      35.000000   16.000000   11.000000   NaN   80.000000   14.000000   \n",
            "50%      39.000000   31.000000   24.000000   NaN   89.500000   26.500000   \n",
            "75%      42.250000   45.000000   47.000000   NaN  103.250000   40.250000   \n",
            "max      50.000000   59.000000   59.000000   NaN  123.000000   58.000000   \n",
            "\n",
            "            \"LonS\"  \"EW\"          \"City\"  \"State\" NewColumn  \n",
            "count   128.000000   128             128      128         0  \n",
            "unique         NaN     1             120       47         0  \n",
            "top            NaN   \"W\"   \"Springfield\"       CA       NaN  \n",
            "freq           NaN   128               4       12       NaN  \n",
            "mean     26.960938   NaN             NaN      NaN       NaN  \n",
            "std      18.727807   NaN             NaN      NaN       NaN  \n",
            "min       0.000000   NaN             NaN      NaN       NaN  \n",
            "25%      11.000000   NaN             NaN      NaN       NaN  \n",
            "50%      23.500000   NaN             NaN      NaN       NaN  \n",
            "75%      47.000000   NaN             NaN      NaN       NaN  \n",
            "max      59.000000   NaN             NaN      NaN       NaN   \n",
            "\n",
            "\n",
            "<bound method DataFrame.info of      LatD   \"LatM\"   \"LatS\"  \"NS\"   \"LonD\"   \"LonM\"   \"LonS\"  \"EW\"  \\\n",
            "0      41        5       59   \"N\"       80       39        0   \"W\"   \n",
            "1      42       52       48   \"N\"       97       23       23   \"W\"   \n",
            "2      46       35       59   \"N\"      120       30       36   \"W\"   \n",
            "3      42       16       12   \"N\"       71       48        0   \"W\"   \n",
            "4      43       37       48   \"N\"       89       46       11   \"W\"   \n",
            "..    ...      ...      ...   ...      ...      ...      ...   ...   \n",
            "123    39       31       12   \"N\"      119       48       35   \"W\"   \n",
            "124    50       25       11   \"N\"      104       39        0   \"W\"   \n",
            "125    40       10       48   \"N\"      122       14       23   \"W\"   \n",
            "126    40       19       48   \"N\"       75       55       48   \"W\"   \n",
            "127    41        9       35   \"N\"       81       14       23   \"W\"   \n",
            "\n",
            "                 \"City\"  \"State\" NewColumn  \n",
            "0          \"Youngstown\"       OH      None  \n",
            "1             \"Yankton\"       SD      None  \n",
            "2              \"Yakima\"       WA      None  \n",
            "3           \"Worcester\"       MA      None  \n",
            "4     \"Wisconsin Dells\"       WI      None  \n",
            "..                  ...      ...       ...  \n",
            "123              \"Reno\"       NV      None  \n",
            "124            \"Regina\"       SA      None  \n",
            "125         \"Red Bluff\"       CA      None  \n",
            "126           \"Reading\"       PA      None  \n",
            "127           \"Ravenna\"      OH       None  \n",
            "\n",
            "[128 rows x 11 columns]>\n"
          ]
        }
      ],
      "source": [
        "# 1) Download cities.csv in C7W1 Activity folder\n",
        "# 2) Import the CSV in a dataframe\n",
        "import pandas as pd\n",
        "df = pd.read_csv('cities.csv')\n",
        "# print(df.head())\n",
        "\n",
        "# 3) Add a column to the dataframe\n",
        "df['NewColumn'] = None\n",
        "# print(df.head())\n",
        "\n",
        "# 4) Perform describe and info on dataframe\n",
        "print(df.describe(include ='all'),'\\n\\n')\n",
        "print(df.info)\n",
        "# 5) Export and save this data as cities1.csv\n",
        "df.to_csv('cities1.csv')\n"
      ]
    },
    {
      "cell_type": "code",
      "source": [
        "# 1) Download CarSalesByModelStart.xlsx in C7W1 Activity folder\n",
        "# 2) Import xlsx in a dataframe\n",
        "df1= pd.read_excel('CarSalesByModelStart.xlsx')\n",
        "# print(df1.head())\n",
        "\n",
        "# 3) Add a column to the dataframe\n",
        "df1['NewColumn1'] =None\n",
        "# print(df1.head())\n",
        "\n",
        "# 4) Perform describe and info on dataframe\n",
        "print(df1.describe(include ='all'),'\\n\\n')\n",
        "print(df1.info)\n",
        "\n",
        "# 5) Export and save this data as CarSalesByModelStart1.xlsx\n",
        "df.to_excel('CarSalesByModelStart1.xlsx')"
      ],
      "metadata": {
        "id": "RfAp1c9PiYeh",
        "colab": {
          "base_uri": "https://localhost:8080/"
        },
        "outputId": "511179b8-3bd0-4b0a-f68b-9a966e0e8db7"
      },
      "execution_count": 24,
      "outputs": [
        {
          "output_type": "stream",
          "name": "stdout",
          "text": [
            "               Year    Month                 Date     Model    Dealer ID  \\\n",
            "count   1200.000000     1200                 1200      1200  1200.000000   \n",
            "unique          NaN       12                   24         5          NaN   \n",
            "top             NaN  January  2018-01-01 23:00:00  Beaufort          NaN   \n",
            "freq            NaN      100                   50       240          NaN   \n",
            "first           NaN      NaN  2018-01-01 23:00:00       NaN          NaN   \n",
            "last            NaN      NaN  2019-12-01 23:00:00       NaN          NaN   \n",
            "mean    2018.500000      NaN                  NaN       NaN  1281.800000   \n",
            "std        0.500208      NaN                  NaN       NaN    72.453672   \n",
            "min     2018.000000      NaN                  NaN       NaN  1212.000000   \n",
            "25%     2018.000000      NaN                  NaN       NaN  1217.000000   \n",
            "50%     2018.500000      NaN                  NaN       NaN  1256.000000   \n",
            "75%     2019.000000      NaN                  NaN       NaN  1336.000000   \n",
            "max     2019.000000      NaN                  NaN       NaN  1402.000000   \n",
            "\n",
            "        Quantity Sold        Profit NewColumn1  \n",
            "count      1200.00000   1200.000000          0  \n",
            "unique            NaN           NaN          0  \n",
            "top               NaN           NaN        NaN  \n",
            "freq              NaN           NaN        NaN  \n",
            "first             NaN           NaN        NaN  \n",
            "last              NaN           NaN        NaN  \n",
            "mean         17.99750  24974.055208        NaN  \n",
            "std           9.97432  17370.750612        NaN  \n",
            "min           2.00000   4600.000000        NaN  \n",
            "25%          11.00000  13500.000000        NaN  \n",
            "50%          18.00000  18500.000000        NaN  \n",
            "75%          24.00000  28922.812500        NaN  \n",
            "max          48.00000  83875.000000        NaN   \n",
            "\n",
            "\n",
            "<bound method DataFrame.info of       Year     Month                Date      Model  Dealer ID  Quantity Sold  \\\n",
            "0     2018   January 2018-01-01 23:00:00   Beaufort       1222             10   \n",
            "1     2018   January 2018-01-01 23:00:00     Salish       1222             13   \n",
            "2     2018   January 2018-01-01 23:00:00   Labrador       1222             16   \n",
            "3     2018   January 2018-01-01 23:00:00  Champlain       1222              3   \n",
            "4     2018   January 2018-01-01 23:00:00     Hudson       1222             22   \n",
            "...    ...       ...                 ...        ...        ...            ...   \n",
            "1195  2019  December 2019-12-01 23:00:00   Beaufort       1288             12   \n",
            "1196  2019  December 2019-12-01 23:00:00     Salish       1288             14   \n",
            "1197  2019  December 2019-12-01 23:00:00   Labrador       1288             18   \n",
            "1198  2019  December 2019-12-01 23:00:00  Champlain       1288              4   \n",
            "1199  2019  December 2019-12-01 23:00:00     Hudson       1288             25   \n",
            "\n",
            "       Profit NewColumn1  \n",
            "0     15000.0       None  \n",
            "1     39650.0       None  \n",
            "2     12800.0       None  \n",
            "3      6900.0       None  \n",
            "4     11000.0       None  \n",
            "...       ...        ...  \n",
            "1195  18000.0       None  \n",
            "1196  42700.0       None  \n",
            "1197  14400.0       None  \n",
            "1198   9200.0       None  \n",
            "1199  12500.0       None  \n",
            "\n",
            "[1200 rows x 8 columns]>\n"
          ]
        },
        {
          "output_type": "stream",
          "name": "stderr",
          "text": [
            "<ipython-input-24-ef343391b80d>:11: FutureWarning: Treating datetime data as categorical rather than numeric in `.describe` is deprecated and will be removed in a future version of pandas. Specify `datetime_is_numeric=True` to silence this warning and adopt the future behavior now.\n",
            "  print(df1.describe(include ='all'),'\\n\\n')\n"
          ]
        }
      ]
    },
    {
      "cell_type": "code",
      "source": [
        "# 1) Download Jay.json in C7W1 Activity folder\n",
        "# 2) Import the Json in dataframe\n",
        "df2= pd.read_json('Jay (1).json')\n",
        "# print(df2.head())\n",
        "\n",
        "# 3) Add a column to the dataframe\n",
        "df2['NewColumn2'] =None\n",
        "# print(df2.head())\n",
        "\n",
        "# 4) Perform describe and info on dataframe\n",
        "print(df2.describe(include ='all'),'\\n\\n')\n",
        "print(df2.info)\n",
        "\n",
        "# 5) Export and save this data as Jay1.json\n",
        "df.to_json('Jay1.json')"
      ],
      "metadata": {
        "colab": {
          "base_uri": "https://localhost:8080/"
        },
        "id": "XkuMkZULktMq",
        "outputId": "58e898bf-c721-480e-f295-dbbe65eac644"
      },
      "execution_count": 33,
      "outputs": [
        {
          "output_type": "stream",
          "name": "stdout",
          "text": [
            "          Duration       Pulse    Maxpulse     Calories NewColumn2\n",
            "count   169.000000  169.000000  169.000000   164.000000          0\n",
            "unique         NaN         NaN         NaN          NaN          0\n",
            "top            NaN         NaN         NaN          NaN        NaN\n",
            "freq           NaN         NaN         NaN          NaN        NaN\n",
            "mean     63.846154  107.461538  134.047337   375.800000        NaN\n",
            "std      42.299949   14.510259   16.450434   266.377134        NaN\n",
            "min      15.000000   80.000000  100.000000    50.300000        NaN\n",
            "25%      45.000000  100.000000  124.000000   250.925000        NaN\n",
            "50%      60.000000  105.000000  131.000000   318.600000        NaN\n",
            "75%      60.000000  111.000000  141.000000   387.600000        NaN\n",
            "max     300.000000  159.000000  184.000000  1860.400000        NaN \n",
            "\n",
            "\n",
            "<bound method DataFrame.info of      Duration  Pulse  Maxpulse  Calories NewColumn2\n",
            "0          60    110       130     409.1       None\n",
            "1          60    117       145     479.0       None\n",
            "2          60    103       135     340.0       None\n",
            "3          45    109       175     282.4       None\n",
            "4          45    117       148     406.0       None\n",
            "..        ...    ...       ...       ...        ...\n",
            "164        60    105       140     290.8       None\n",
            "165        60    110       145     300.4       None\n",
            "166        60    115       145     310.2       None\n",
            "167        75    120       150     320.4       None\n",
            "168        75    125       150     330.4       None\n",
            "\n",
            "[169 rows x 5 columns]>\n"
          ]
        }
      ]
    },
    {
      "cell_type": "code",
      "source": [],
      "metadata": {
        "id": "AoK6_DfkmTKR"
      },
      "execution_count": null,
      "outputs": []
    }
  ]
}